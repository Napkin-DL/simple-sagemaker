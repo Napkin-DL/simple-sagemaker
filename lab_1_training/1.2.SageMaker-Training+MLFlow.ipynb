{
 "cells": [
  {
   "cell_type": "markdown",
   "id": "224caa2a",
   "metadata": {},
   "source": [
    "# 1.2 SageMaker Training with MLFlow"
   ]
  },
  {
   "cell_type": "markdown",
   "id": "f534d367",
   "metadata": {},
   "source": [
    "## 학습 작업의 실행 노트북 개요\n",
    "\n",
    "- SageMaker Training에 SageMaker 실험을 추가하여 여러 실험의 결과를 비교할 수 있습니다.\n",
    "    - [작업 실행 시 필요 라이브러리 import](#작업-실행-시-필요-라이브러리-import)\n",
    "    - [SageMaker 세션과 Role, 사용 버킷 정의](#SageMaker-세션과-Role,-사용-버킷-정의)\n",
    "    - [하이퍼파라미터 정의](#하이퍼파라미터-정의)\n",
    "    - [학습 실행 작업 정의](#학습-실행-작업-정의)\n",
    "        - 학습 코드 명\n",
    "        - 학습 코드 폴더 명\n",
    "        - 학습 코드가 사용한 Framework 종류, 버전 등\n",
    "        - 학습 인스턴스 타입과 개수\n",
    "        - SageMaker 세션\n",
    "        - 학습 작업 하이퍼파라미터 정의\n",
    "        - 학습 작업 산출물 관련 S3 버킷 설정 등\n",
    "    - [학습 데이터셋 지정](#학습-데이터셋-지정)\n",
    "        - 학습에 사용하는 데이터셋의 S3 URI 지정\n",
    "    - [SageMaker 실험 설정](#SageMaker-실험-설정)\n",
    "    - [학습 실행](#학습-실행)\n",
    "    - [데이터 세트 설명](#데이터-세트-설명)\n",
    "    - [실험 결과 보기](#실험-결과-보기)"
   ]
  },
  {
   "cell_type": "code",
   "execution_count": null,
   "id": "97dbcfe7-1091-410b-9bc7-66d4a1ae19a1",
   "metadata": {
    "scrolled": true
   },
   "outputs": [],
   "source": [
    "%store -r\n",
    "print(f\"tracking_server_name : {tracking_server_name}\")"
   ]
  },
  {
   "cell_type": "markdown",
   "id": "335970c7",
   "metadata": {},
   "source": [
    "### 작업 실행 시 필요 라이브러리 import"
   ]
  },
  {
   "cell_type": "code",
   "execution_count": null,
   "id": "30833fde",
   "metadata": {
    "tags": []
   },
   "outputs": [],
   "source": [
    "import boto3\n",
    "import sagemaker"
   ]
  },
  {
   "cell_type": "markdown",
   "id": "92e1dddb",
   "metadata": {},
   "source": [
    "### SageMaker 세션과 Role, 사용 버킷 정의"
   ]
  },
  {
   "cell_type": "code",
   "execution_count": null,
   "id": "85d2c6ab",
   "metadata": {
    "tags": []
   },
   "outputs": [],
   "source": [
    "sagemaker_session = sagemaker.session.Session()\n",
    "role = sagemaker.get_execution_role()"
   ]
  },
  {
   "cell_type": "code",
   "execution_count": null,
   "id": "0440d37e",
   "metadata": {
    "tags": []
   },
   "outputs": [],
   "source": [
    "bucket = sagemaker_session.default_bucket()\n",
    "code_location = f's3://{bucket}/xgboost/code'\n",
    "output_path = f's3://{bucket}/xgboost/output'"
   ]
  },
  {
   "cell_type": "markdown",
   "id": "07452af4",
   "metadata": {},
   "source": [
    "### 하이퍼파라미터 정의"
   ]
  },
  {
   "cell_type": "code",
   "execution_count": null,
   "id": "3d9629bd",
   "metadata": {
    "tags": []
   },
   "outputs": [],
   "source": [
    "hyperparameters = {\n",
    "       \"scale_pos_weight\" : \"29\",    \n",
    "        \"max_depth\": \"3\",\n",
    "        \"eta\": \"0.2\",\n",
    "        \"objective\": \"binary:logistic\",\n",
    "        \"num_round\": \"100\",\n",
    "}"
   ]
  },
  {
   "cell_type": "markdown",
   "id": "f4e8d389",
   "metadata": {},
   "source": [
    "### 학습 실행 작업 정의"
   ]
  },
  {
   "cell_type": "code",
   "execution_count": null,
   "id": "b98d8748",
   "metadata": {
    "tags": []
   },
   "outputs": [],
   "source": [
    "instance_count = 1\n",
    "instance_type = \"ml.m5.large\"\n",
    "# instance_type = \"local\"\n",
    "max_run = 1*60*60\n",
    "\n",
    "use_spot_instances = False\n",
    "if use_spot_instances:\n",
    "    max_wait = 1*60*60\n",
    "else:\n",
    "    max_wait = None"
   ]
  },
  {
   "cell_type": "code",
   "execution_count": null,
   "id": "3d39c96a-bde6-40e5-9e5a-1988e11dc296",
   "metadata": {
    "tags": []
   },
   "outputs": [],
   "source": [
    "if instance_type in ['local', 'local_gpu']:\n",
    "    from sagemaker.local import LocalSession\n",
    "    sagemaker_session = LocalSession()\n",
    "    sagemaker_session.config = {'local': {'local_code': True}}\n",
    "else:\n",
    "    sagemaker_session = sagemaker.session.Session()"
   ]
  },
  {
   "cell_type": "code",
   "execution_count": null,
   "id": "80c28855",
   "metadata": {
    "tags": []
   },
   "outputs": [],
   "source": [
    "from sagemaker.xgboost.estimator import XGBoost\n",
    "\n",
    "estimator = XGBoost(\n",
    "    entry_point=\"xgboost_script_mlflow.py\",\n",
    "    source_dir=\"src\",\n",
    "    output_path=output_path,\n",
    "    code_location=code_location,\n",
    "    hyperparameters=hyperparameters,\n",
    "    role=role,\n",
    "    sagemaker_session=sagemaker_session,\n",
    "    instance_count=instance_count,\n",
    "    instance_type=instance_type,\n",
    "    framework_version=\"1.7-1\",\n",
    "    max_run=max_run,\n",
    "    use_spot_instances=use_spot_instances,  # spot instance 활용\n",
    "    max_wait=max_wait,\n",
    ")"
   ]
  },
  {
   "cell_type": "markdown",
   "id": "b2b36eeb",
   "metadata": {},
   "source": [
    "### 학습 데이터셋 지정"
   ]
  },
  {
   "cell_type": "code",
   "execution_count": null,
   "id": "b79339f1",
   "metadata": {
    "tags": []
   },
   "outputs": [],
   "source": [
    "data_path=f's3://{bucket}/xgboost/dataset'\n",
    "!aws s3 sync ../data/dataset/ $data_path"
   ]
  },
  {
   "cell_type": "code",
   "execution_count": null,
   "id": "9045fd50-05a5-4dce-a635-a4679792d513",
   "metadata": {
    "tags": []
   },
   "outputs": [],
   "source": [
    "if instance_type in ['local', 'local_gpu']:\n",
    "    from pathlib import Path\n",
    "    file_path = f'file://{Path.cwd()}'\n",
    "    inputs = file_path.split('lab_1_training')[0] + 'data/dataset/'\n",
    "    \n",
    "else:\n",
    "    inputs = data_path\n",
    "inputs"
   ]
  },
  {
   "cell_type": "markdown",
   "id": "a8c501c8",
   "metadata": {
    "tags": []
   },
   "source": [
    "### SageMaker MLFlow 설정"
   ]
  },
  {
   "cell_type": "code",
   "execution_count": null,
   "id": "84a020e3-3a43-405d-8da1-4da8fcbcf9f4",
   "metadata": {},
   "outputs": [],
   "source": [
    "import mlflow\n",
    "import mlflow.xgboost\n",
    "import os\n",
    "from time import strftime\n",
    "\n",
    "sm_client = boto3.client('sagemaker')"
   ]
  },
  {
   "cell_type": "code",
   "execution_count": null,
   "id": "92c8f935-176e-4d6b-bcdb-92e43447558d",
   "metadata": {},
   "outputs": [],
   "source": [
    "# 추적 서버 설명 가져오기\n",
    "tracking_server = sm_client.describe_mlflow_tracking_server(\n",
    "    TrackingServerName=tracking_server_name\n",
    ")\n",
    "\n",
    "# 추적 서버 URI 가져오기\n",
    "tracking_server_uri = tracking_server['TrackingServerArn']\n",
    "\n",
    "# MLflow 추적 서버 URI 설정\n",
    "mlflow.set_tracking_uri(tracking_server_uri)"
   ]
  },
  {
   "cell_type": "code",
   "execution_count": null,
   "id": "52d2399e",
   "metadata": {
    "tags": []
   },
   "outputs": [],
   "source": [
    "experiment_name = 'xgboost-poc-1'\n",
    "\n",
    "# MLflow 실험 생성 또는 가져오기\n",
    "mlflow.set_experiment(experiment_name)\n"
   ]
  },
  {
   "cell_type": "markdown",
   "id": "603d8baf",
   "metadata": {},
   "source": [
    "### 학습 실행"
   ]
  },
  {
   "cell_type": "code",
   "execution_count": null,
   "id": "dc7d345d",
   "metadata": {
    "tags": []
   },
   "outputs": [],
   "source": [
    "\n",
    "# 현재 실행 시간을 기반으로 고유한 실행 이름 생성\n",
    "create_date = strftime(\"%m%d-%H%M%s\")\n",
    "run_name = f'{experiment_name}-{create_date}'\n",
    "\n",
    "# MLflow 실행 시작\n",
    "with mlflow.start_run(run_name=run_name) as run:\n",
    "    run_id = run.info.run_id\n",
    "    \n",
    "    # 하이퍼파라미터 로깅\n",
    "    for key, value in hyperparameters.items():\n",
    "        mlflow.log_param(key, value)\n",
    "    \n",
    "    # 인스턴스 정보 로깅\n",
    "    mlflow.log_param(\"instance_type\", instance_type)\n",
    "    mlflow.log_param(\"instance_count\", instance_count)\n",
    "    \n",
    "    # 입력 데이터 경로 로깅\n",
    "    mlflow.log_param(\"input_data_path\", inputs)\n",
    "    \n",
    "    # SageMaker 훈련 작업에 MLflow 환경 변수 전달\n",
    "    estimator.environment = {\n",
    "            \"MLFLOW_TRACKING_URI\": mlflow.get_tracking_uri(),\n",
    "            \"MLFLOW_EXPERIMENT_NAME\": experiment_name,\n",
    "            \"MLFLOW_RUN_ID\": run_id\n",
    "    }\n",
    "    \n",
    "    # SageMaker 훈련 작업 시작\n",
    "    estimator.fit(\n",
    "        inputs={'inputdata': inputs},\n",
    "        job_name=run_name,\n",
    "        wait=False\n",
    "    )\n",
    "    \n",
    "    # MLflow에 모델 아티팩트 경로 로깅\n",
    "    mlflow.log_param(\"model_artifact_path\", f\"{output_path}/{run_name}/output/model.tar.gz\")"
   ]
  },
  {
   "cell_type": "code",
   "execution_count": null,
   "id": "e56e83d8",
   "metadata": {
    "tags": []
   },
   "outputs": [],
   "source": [
    "estimator.logs()"
   ]
  },
  {
   "cell_type": "markdown",
   "id": "eabae27b",
   "metadata": {},
   "source": [
    "###  실험 결과 보기\n",
    "위의 실험한 결과를 확인 합니다.\n",
    "- 각각의 훈련잡의 시도에 대한 훈련 사용 데이터, 모델 입력 하이퍼 파라미터, 모델 평가 지표, 모델 아티펙트 결과 위치 등의 확인이 가능합니다.\n",
    "- **아래의 모든 내용은 SageMaker Studio 를 통해서 직관적으로 확인이 가능합니다.**"
   ]
  },
  {
   "cell_type": "code",
   "execution_count": null,
   "id": "86dd2f1d",
   "metadata": {
    "tags": []
   },
   "outputs": [],
   "source": [
    "import pandas as pd\n",
    "pd.options.display.max_columns = 50\n",
    "pd.options.display.max_rows = 10\n",
    "pd.options.display.max_colwidth = 100"
   ]
  },
  {
   "cell_type": "code",
   "execution_count": null,
   "id": "af4181d7",
   "metadata": {
    "tags": []
   },
   "outputs": [],
   "source": [
    "# MLflow 실험 결과 가져오기\n",
    "from mlflow.tracking import MlflowClient\n",
    "\n",
    "client = MlflowClient()\n",
    "\n",
    "# 실험 결과 조회\n",
    "try:\n",
    "    experiment = client.get_experiment_by_name(experiment_name)\n",
    "    if experiment:\n",
    "        experiment_id = experiment.experiment_id\n",
    "        \n",
    "        # 실행 결과 검색 (정렬 없이)\n",
    "        runs = client.search_runs(experiment_ids=[experiment_id])\n",
    "        \n",
    "        if runs:\n",
    "            print(f\"실험 '{experiment_name}'에서 {len(runs)}개의 실행 결과를 찾았습니다.\")\n",
    "            \n",
    "            # 사용 가능한 메트릭 이름 확인\n",
    "            print(\"사용 가능한 메트릭 이름:\")\n",
    "            for key in runs[0].data.metrics.keys():\n",
    "                print(f\"- {key}\")\n",
    "            \n",
    "            # 결과를 데이터프레임으로 변환\n",
    "            runs_data = []\n",
    "            for run in runs:\n",
    "                run_data = {\n",
    "                    \"run_id\": run.info.run_id,\n",
    "                    \"run_name\": run.info.run_name,\n",
    "                    \"status\": run.info.status,\n",
    "                    \"start_time\": run.info.start_time,\n",
    "                    \"end_time\": run.info.end_time,\n",
    "                }\n",
    "                \n",
    "                # 메트릭 추가\n",
    "                for key, value in run.data.metrics.items():\n",
    "                    run_data[key] = value\n",
    "                \n",
    "                # 파라미터 추가\n",
    "                for key, value in run.data.params.items():\n",
    "                    run_data[f\"param_{key}\"] = value\n",
    "                \n",
    "                runs_data.append(run_data)\n",
    "            \n",
    "            runs_df = pd.DataFrame(runs_data)\n",
    "            \n",
    "            # 파이썬에서 정렬 (validation_auc 열이 있는 경우)\n",
    "            if 'validation_auc' in runs_df.columns:\n",
    "                runs_df = runs_df.sort_values(by='validation_auc', ascending=False)\n",
    "                \n",
    "            display(runs_df)\n",
    "        else:\n",
    "            print(\"실험에 실행 결과가 없습니다.\")\n",
    "    else:\n",
    "        print(f\"실험 '{experiment_name}'을 찾을 수 없습니다.\")\n",
    "except Exception as e:\n",
    "    print(f\"실험 결과 조회 중 오류 발생: {e}\")"
   ]
  },
  {
   "cell_type": "code",
   "execution_count": null,
   "id": "e4541484",
   "metadata": {},
   "outputs": [],
   "source": []
  },
  {
   "cell_type": "code",
   "execution_count": null,
   "id": "9e19620a-f34a-497b-a508-a588b49fc8a7",
   "metadata": {},
   "outputs": [],
   "source": []
  }
 ],
 "metadata": {
  "kernelspec": {
   "display_name": "conda_python3",
   "language": "python",
   "name": "conda_python3"
  },
  "language_info": {
   "codemirror_mode": {
    "name": "ipython",
    "version": 3
   },
   "file_extension": ".py",
   "mimetype": "text/x-python",
   "name": "python",
   "nbconvert_exporter": "python",
   "pygments_lexer": "ipython3",
   "version": "3.10.16"
  }
 },
 "nbformat": 4,
 "nbformat_minor": 5
}
