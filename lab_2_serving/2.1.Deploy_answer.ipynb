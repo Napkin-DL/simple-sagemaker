{
 "cells": [
  {
   "cell_type": "markdown",
   "id": "09065721",
   "metadata": {},
   "source": [
    "# SageMaker Endpoint (Single Model Endpoint)\n",
    "---\n",
    "\n",
    "이제 **SageMaker 모델 호스팅 서비스인 SageMaker 엔드포인트**에 모델을 배포할 준비가 되었습니다. \n",
    "\n",
    "SageMaker 엔드포인트는 REST API를 통해 실시간 추론을 수행할 수 있는 완전 관리형 서비스입니다. 기본적으로 분산 컨테이너로 고가용성, 다중 모델 로딩, A/B 테스트를 위한 인프라 환경(EC2, 로드밸런서, 오토스케일링, 모델 아티팩트 로딩 등)이 사전 구축되어 있기에 몇 줄의 코드만으로 Endpoint가 자동으로 생성되기에, 모델을 프로덕션에 빠르게 배포할 수 있습니다.\n",
    "\n",
    "SageMaker 빌트인 XGBoost를 사용하면 별도의 훈련/추론 스크립트 작성 없이 쉽게 모델을 훈련하고 엔드포인트로 배포할 수 있습니다. 하지만, 여러 가지 요인들로 인해 (예: SHAP 계산을 위한 피쳐 기여값 리턴, 추론값 및 추론 스코어 동시 리턴 등) 커스텀 추론 로직이 필요한 경우, SageMaker 빌트인 XGBoost 대신 SageMaker XGBoost 컨테이너를 사용할 수 있습니다.\n",
    "\n",
    "이 노트북은 SageMaker XGBoost 컨테이너 상에서, 기본적인 추론 스크립트로 모델을 배포하는 법을 아래와 같은 목차로 진행합니다. \n",
    "\n",
    "완료 시간은 **20-30분** 정도 소요됩니다.\n",
    "\n",
    "### 목차\n",
    "- [1. Create Model Serving Script](#1.-Create-Model-Serving-Script)\n",
    "- [2. Deploy a trained model from Amazon S3](#2.-Deploy-a-trained-model-from-Amazon-S3)\n",
    "    - [2.1. Deploy to Local Environment: XGBoostModel class](#2.1.-Deploy-to-Local-Environment:-XGBoostModel-class)\n",
    "    - [2.2. Deploy to Local Environment: Model class](#2.2.-Deploy-to-Local-Environment:-Model-class)\n",
    "    - [2.3. Deploy to Hosting Instance](#2.3.-Deploy-to-Hosting-Instance)\n",
    "\n",
    "유사한 예제로 실습해 보실 분들은 아래 링크의 샘플 노트북을 참조해 주세요.\n",
    "- https://github.com/awslabs/amazon-sagemaker-examples/blob/master/introduction_to_amazon_algorithms/xgboost_abalone/xgboost_abalone_dist_script_mode.ipynb"
   ]
  },
  {
   "cell_type": "markdown",
   "id": "2686e584",
   "metadata": {},
   "source": [
    "<div class=\"alert alert-warning\"><h4>주의</h4><p>\n",
    "아래 코드 셀은 핸즈온에 필요한 라이브러리들을 설치하고, 주피터 노트북 커널을 셧다운시킵니다. \n",
    "    \n",
    "노트북 커널이 셧다운된다면, 아래 코드 셀에서 <b><font color='darkred'>install_needed = False</font></b>로 변경 후, 코드 셀을 다시 실행해 주세요. 이 작업은 한 번만 수행하면 됩니다. \n",
    "</p></div>"
   ]
  },
  {
   "cell_type": "code",
   "execution_count": 1,
   "id": "cdf6352c-072d-47bb-9f52-5703f624d7d8",
   "metadata": {
    "tags": []
   },
   "outputs": [
    {
     "name": "stdout",
     "output_type": "stream",
     "text": [
      "===> Installing deps and restarting kernel. Please change 'install_needed = False' and run this code cell again.\n",
      "Requirement already satisfied: sagemaker in /home/ec2-user/anaconda3/envs/python3/lib/python3.10/site-packages (2.208.0)\n",
      "Collecting sagemaker\n",
      "  Downloading sagemaker-2.209.0-py3-none-any.whl.metadata (13 kB)\n",
      "Collecting locust\n",
      "  Downloading locust-2.23.1-py3-none-any.whl.metadata (7.1 kB)\n",
      "Collecting pyngrok\n",
      "  Downloading pyngrok-7.1.3-py3-none-any.whl.metadata (7.6 kB)\n",
      "Collecting xgboost==1.7.1\n",
      "  Downloading xgboost-1.7.1-py3-none-manylinux2014_x86_64.whl.metadata (1.9 kB)\n",
      "Requirement already satisfied: numpy in /home/ec2-user/anaconda3/envs/python3/lib/python3.10/site-packages (from xgboost==1.7.1) (1.22.4)\n",
      "Requirement already satisfied: scipy in /home/ec2-user/anaconda3/envs/python3/lib/python3.10/site-packages (from xgboost==1.7.1) (1.11.3)\n",
      "Requirement already satisfied: attrs<24,>=23.1.0 in /home/ec2-user/anaconda3/envs/python3/lib/python3.10/site-packages (from sagemaker) (23.1.0)\n",
      "Requirement already satisfied: boto3<2.0,>=1.33.3 in /home/ec2-user/anaconda3/envs/python3/lib/python3.10/site-packages (from sagemaker) (1.34.43)\n",
      "Requirement already satisfied: cloudpickle==2.2.1 in /home/ec2-user/anaconda3/envs/python3/lib/python3.10/site-packages (from sagemaker) (2.2.1)\n",
      "Requirement already satisfied: google-pasta in /home/ec2-user/anaconda3/envs/python3/lib/python3.10/site-packages (from sagemaker) (0.2.0)\n",
      "Requirement already satisfied: protobuf<5.0,>=3.12 in /home/ec2-user/anaconda3/envs/python3/lib/python3.10/site-packages (from sagemaker) (4.25.3)\n",
      "Requirement already satisfied: smdebug-rulesconfig==1.0.1 in /home/ec2-user/anaconda3/envs/python3/lib/python3.10/site-packages (from sagemaker) (1.0.1)\n",
      "Requirement already satisfied: importlib-metadata<7.0,>=1.4.0 in /home/ec2-user/anaconda3/envs/python3/lib/python3.10/site-packages (from sagemaker) (6.8.0)\n",
      "Requirement already satisfied: packaging>=20.0 in /home/ec2-user/anaconda3/envs/python3/lib/python3.10/site-packages (from sagemaker) (21.3)\n",
      "Requirement already satisfied: pandas in /home/ec2-user/anaconda3/envs/python3/lib/python3.10/site-packages (from sagemaker) (2.1.1)\n",
      "Requirement already satisfied: pathos in /home/ec2-user/anaconda3/envs/python3/lib/python3.10/site-packages (from sagemaker) (0.3.2)\n",
      "Requirement already satisfied: schema in /home/ec2-user/anaconda3/envs/python3/lib/python3.10/site-packages (from sagemaker) (0.7.5)\n",
      "Requirement already satisfied: PyYAML~=6.0 in /home/ec2-user/anaconda3/envs/python3/lib/python3.10/site-packages (from sagemaker) (6.0.1)\n",
      "Requirement already satisfied: jsonschema in /home/ec2-user/anaconda3/envs/python3/lib/python3.10/site-packages (from sagemaker) (4.19.1)\n",
      "Requirement already satisfied: platformdirs in /home/ec2-user/anaconda3/envs/python3/lib/python3.10/site-packages (from sagemaker) (3.11.0)\n",
      "Requirement already satisfied: tblib<3,>=1.7.0 in /home/ec2-user/anaconda3/envs/python3/lib/python3.10/site-packages (from sagemaker) (2.0.0)\n",
      "Requirement already satisfied: urllib3<3.0.0,>=1.26.8 in /home/ec2-user/anaconda3/envs/python3/lib/python3.10/site-packages (from sagemaker) (1.26.18)\n",
      "Requirement already satisfied: requests in /home/ec2-user/anaconda3/envs/python3/lib/python3.10/site-packages (from sagemaker) (2.31.0)\n",
      "Requirement already satisfied: docker in /home/ec2-user/anaconda3/envs/python3/lib/python3.10/site-packages (from sagemaker) (6.1.3)\n",
      "Requirement already satisfied: tqdm in /home/ec2-user/anaconda3/envs/python3/lib/python3.10/site-packages (from sagemaker) (4.66.1)\n",
      "Requirement already satisfied: psutil in /home/ec2-user/anaconda3/envs/python3/lib/python3.10/site-packages (from sagemaker) (5.9.5)\n",
      "Requirement already satisfied: gevent>=22.10.2 in /home/ec2-user/anaconda3/envs/python3/lib/python3.10/site-packages (from locust) (23.9.0.post1)\n",
      "Requirement already satisfied: flask>=2.0.0 in /home/ec2-user/anaconda3/envs/python3/lib/python3.10/site-packages (from locust) (3.0.0)\n",
      "Requirement already satisfied: Werkzeug>=2.0.0 in /home/ec2-user/anaconda3/envs/python3/lib/python3.10/site-packages (from locust) (3.0.1)\n",
      "Requirement already satisfied: msgpack>=1.0.0 in /home/ec2-user/anaconda3/envs/python3/lib/python3.10/site-packages (from locust) (1.0.6)\n",
      "Requirement already satisfied: pyzmq>=25.0.0 in /home/ec2-user/anaconda3/envs/python3/lib/python3.10/site-packages (from locust) (25.1.1)\n",
      "Collecting geventhttpclient>=2.0.11 (from locust)\n",
      "  Downloading geventhttpclient-2.0.11-cp310-cp310-manylinux_2_5_x86_64.manylinux1_x86_64.manylinux_2_17_x86_64.manylinux2014_x86_64.whl.metadata (1.3 kB)\n",
      "Collecting ConfigArgParse>=1.5.5 (from locust)\n",
      "  Downloading ConfigArgParse-1.7-py3-none-any.whl.metadata (23 kB)\n",
      "Collecting Flask-Login>=0.6.3 (from locust)\n",
      "  Downloading Flask_Login-0.6.3-py3-none-any.whl.metadata (5.8 kB)\n",
      "Requirement already satisfied: Flask-Cors>=3.0.10 in /home/ec2-user/anaconda3/envs/python3/lib/python3.10/site-packages (from locust) (4.0.0)\n",
      "Collecting roundrobin>=0.0.2 (from locust)\n",
      "  Downloading roundrobin-0.0.4.tar.gz (3.4 kB)\n",
      "  Preparing metadata (setup.py) ... \u001b[?25ldone\n",
      "\u001b[?25hRequirement already satisfied: botocore<1.35.0,>=1.34.43 in /home/ec2-user/anaconda3/envs/python3/lib/python3.10/site-packages (from boto3<2.0,>=1.33.3->sagemaker) (1.34.43)\n",
      "Requirement already satisfied: jmespath<2.0.0,>=0.7.1 in /home/ec2-user/anaconda3/envs/python3/lib/python3.10/site-packages (from boto3<2.0,>=1.33.3->sagemaker) (1.0.1)\n",
      "Requirement already satisfied: s3transfer<0.11.0,>=0.10.0 in /home/ec2-user/anaconda3/envs/python3/lib/python3.10/site-packages (from boto3<2.0,>=1.33.3->sagemaker) (0.10.0)\n",
      "Requirement already satisfied: Jinja2>=3.1.2 in /home/ec2-user/anaconda3/envs/python3/lib/python3.10/site-packages (from flask>=2.0.0->locust) (3.1.2)\n",
      "Requirement already satisfied: itsdangerous>=2.1.2 in /home/ec2-user/anaconda3/envs/python3/lib/python3.10/site-packages (from flask>=2.0.0->locust) (2.1.2)\n",
      "Requirement already satisfied: click>=8.1.3 in /home/ec2-user/anaconda3/envs/python3/lib/python3.10/site-packages (from flask>=2.0.0->locust) (8.1.7)\n",
      "Requirement already satisfied: blinker>=1.6.2 in /home/ec2-user/anaconda3/envs/python3/lib/python3.10/site-packages (from flask>=2.0.0->locust) (1.6.3)\n",
      "Requirement already satisfied: zope.event in /home/ec2-user/anaconda3/envs/python3/lib/python3.10/site-packages (from gevent>=22.10.2->locust) (5.0)\n",
      "Requirement already satisfied: zope.interface in /home/ec2-user/anaconda3/envs/python3/lib/python3.10/site-packages (from gevent>=22.10.2->locust) (6.1)\n",
      "Requirement already satisfied: greenlet>=2.0.0 in /home/ec2-user/anaconda3/envs/python3/lib/python3.10/site-packages (from gevent>=22.10.2->locust) (3.0.1)\n",
      "Requirement already satisfied: certifi in /home/ec2-user/anaconda3/envs/python3/lib/python3.10/site-packages (from geventhttpclient>=2.0.11->locust) (2023.7.22)\n",
      "Requirement already satisfied: six in /home/ec2-user/anaconda3/envs/python3/lib/python3.10/site-packages (from geventhttpclient>=2.0.11->locust) (1.16.0)\n",
      "Requirement already satisfied: brotli in /home/ec2-user/anaconda3/envs/python3/lib/python3.10/site-packages (from geventhttpclient>=2.0.11->locust) (1.1.0)\n",
      "Requirement already satisfied: zipp>=0.5 in /home/ec2-user/anaconda3/envs/python3/lib/python3.10/site-packages (from importlib-metadata<7.0,>=1.4.0->sagemaker) (3.17.0)\n",
      "Requirement already satisfied: pyparsing!=3.0.5,>=2.0.2 in /home/ec2-user/anaconda3/envs/python3/lib/python3.10/site-packages (from packaging>=20.0->sagemaker) (3.1.1)\n",
      "Requirement already satisfied: charset-normalizer<4,>=2 in /home/ec2-user/anaconda3/envs/python3/lib/python3.10/site-packages (from requests->sagemaker) (3.3.1)\n",
      "Requirement already satisfied: idna<4,>=2.5 in /home/ec2-user/anaconda3/envs/python3/lib/python3.10/site-packages (from requests->sagemaker) (3.4)\n",
      "Requirement already satisfied: MarkupSafe>=2.1.1 in /home/ec2-user/anaconda3/envs/python3/lib/python3.10/site-packages (from Werkzeug>=2.0.0->locust) (2.1.3)\n",
      "Requirement already satisfied: websocket-client>=0.32.0 in /home/ec2-user/anaconda3/envs/python3/lib/python3.10/site-packages (from docker->sagemaker) (1.6.4)\n",
      "Requirement already satisfied: jsonschema-specifications>=2023.03.6 in /home/ec2-user/anaconda3/envs/python3/lib/python3.10/site-packages (from jsonschema->sagemaker) (2023.7.1)\n",
      "Requirement already satisfied: referencing>=0.28.4 in /home/ec2-user/anaconda3/envs/python3/lib/python3.10/site-packages (from jsonschema->sagemaker) (0.30.2)\n",
      "Requirement already satisfied: rpds-py>=0.7.1 in /home/ec2-user/anaconda3/envs/python3/lib/python3.10/site-packages (from jsonschema->sagemaker) (0.10.6)\n",
      "Requirement already satisfied: python-dateutil>=2.8.2 in /home/ec2-user/anaconda3/envs/python3/lib/python3.10/site-packages (from pandas->sagemaker) (2.8.2)\n",
      "Requirement already satisfied: pytz>=2020.1 in /home/ec2-user/anaconda3/envs/python3/lib/python3.10/site-packages (from pandas->sagemaker) (2023.3.post1)\n",
      "Requirement already satisfied: tzdata>=2022.1 in /home/ec2-user/anaconda3/envs/python3/lib/python3.10/site-packages (from pandas->sagemaker) (2023.3)\n",
      "Requirement already satisfied: ppft>=1.7.6.8 in /home/ec2-user/anaconda3/envs/python3/lib/python3.10/site-packages (from pathos->sagemaker) (1.7.6.8)\n",
      "Requirement already satisfied: dill>=0.3.8 in /home/ec2-user/anaconda3/envs/python3/lib/python3.10/site-packages (from pathos->sagemaker) (0.3.8)\n",
      "Requirement already satisfied: pox>=0.3.4 in /home/ec2-user/anaconda3/envs/python3/lib/python3.10/site-packages (from pathos->sagemaker) (0.3.4)\n",
      "Requirement already satisfied: multiprocess>=0.70.16 in /home/ec2-user/anaconda3/envs/python3/lib/python3.10/site-packages (from pathos->sagemaker) (0.70.16)\n",
      "Requirement already satisfied: contextlib2>=0.5.5 in /home/ec2-user/anaconda3/envs/python3/lib/python3.10/site-packages (from schema->sagemaker) (21.6.0)\n",
      "Requirement already satisfied: setuptools in /home/ec2-user/anaconda3/envs/python3/lib/python3.10/site-packages (from zope.event->gevent>=22.10.2->locust) (68.2.2)\n",
      "Downloading xgboost-1.7.1-py3-none-manylinux2014_x86_64.whl (193.6 MB)\n",
      "\u001b[2K   \u001b[90m━━━━━━━━━━━━━━━━━━━━━━━━━━━━━━━━━━━━━━━━\u001b[0m \u001b[32m193.6/193.6 MB\u001b[0m \u001b[31m3.0 MB/s\u001b[0m eta \u001b[36m0:00:00\u001b[0m:00:01\u001b[0m00:01\u001b[0m\n",
      "\u001b[?25hDownloading sagemaker-2.209.0-py3-none-any.whl (1.4 MB)\n",
      "\u001b[2K   \u001b[90m━━━━━━━━━━━━━━━━━━━━━━━━━━━━━━━━━━━━━━━━\u001b[0m \u001b[32m1.4/1.4 MB\u001b[0m \u001b[31m24.4 MB/s\u001b[0m eta \u001b[36m0:00:00\u001b[0m:00:01\u001b[0m\n",
      "\u001b[?25hDownloading locust-2.23.1-py3-none-any.whl (1.4 MB)\n",
      "\u001b[2K   \u001b[90m━━━━━━━━━━━━━━━━━━━━━━━━━━━━━━━━━━━━━━━━\u001b[0m \u001b[32m1.4/1.4 MB\u001b[0m \u001b[31m89.6 MB/s\u001b[0m eta \u001b[36m0:00:00\u001b[0m\n",
      "\u001b[?25hDownloading pyngrok-7.1.3-py3-none-any.whl (22 kB)\n",
      "Downloading ConfigArgParse-1.7-py3-none-any.whl (25 kB)\n",
      "Downloading Flask_Login-0.6.3-py3-none-any.whl (17 kB)\n",
      "Downloading geventhttpclient-2.0.11-cp310-cp310-manylinux_2_5_x86_64.manylinux1_x86_64.manylinux_2_17_x86_64.manylinux2014_x86_64.whl (103 kB)\n",
      "\u001b[2K   \u001b[90m━━━━━━━━━━━━━━━━━━━━━━━━━━━━━━━━━━━━━━━━\u001b[0m \u001b[32m103.7/103.7 kB\u001b[0m \u001b[31m14.9 MB/s\u001b[0m eta \u001b[36m0:00:00\u001b[0m\n",
      "\u001b[?25hBuilding wheels for collected packages: roundrobin\n",
      "  Building wheel for roundrobin (setup.py) ... \u001b[?25ldone\n",
      "\u001b[?25h  Created wheel for roundrobin: filename=roundrobin-0.0.4-py3-none-any.whl size=4017 sha256=eb839f26a418b2a59e5885a3a725dbb162559517e8fc3c02506c01e19e7b8298\n",
      "  Stored in directory: /home/ec2-user/.cache/pip/wheels/c2/e8/10/b6204cb43ae923e4f51bb5c5aee3a143ca632b3d8c0b64c078\n",
      "Successfully built roundrobin\n",
      "Installing collected packages: roundrobin, pyngrok, ConfigArgParse, xgboost, geventhttpclient, Flask-Login, locust, sagemaker\n",
      "  Attempting uninstall: sagemaker\n",
      "    Found existing installation: sagemaker 2.208.0\n",
      "    Uninstalling sagemaker-2.208.0:\n",
      "      Successfully uninstalled sagemaker-2.208.0\n",
      "Successfully installed ConfigArgParse-1.7 Flask-Login-0.6.3 geventhttpclient-2.0.11 locust-2.23.1 pyngrok-7.1.3 roundrobin-0.0.4 sagemaker-2.209.0 xgboost-1.7.1\n"
     ]
    }
   ],
   "source": [
    "import sys, IPython\n",
    "\n",
    "install_needed = True\n",
    "#install_needed = False\n",
    "\n",
    "if install_needed:\n",
    "    print(\"===> Installing deps and restarting kernel. Please change 'install_needed = False' and run this code cell again.\")\n",
    "    !{sys.executable} -m pip install -U sagemaker locust pyngrok xgboost==1.7.1\n",
    "    IPython.Application.instance().kernel.do_shutdown(True)\n",
    "else:\n",
    "    import sagemaker, xgboost\n",
    "    print(f'SageMaker API version={sagemaker.__version__}, XGBoost version={xgboost.__version__}')"
   ]
  },
  {
   "cell_type": "code",
   "execution_count": 1,
   "id": "809dde34-c57d-45e9-b538-5f3c63f74c0a",
   "metadata": {
    "tags": []
   },
   "outputs": [
    {
     "name": "stderr",
     "output_type": "stream",
     "text": [
      "/home/ec2-user/anaconda3/envs/python3/lib/python3.10/site-packages/pandas/core/computation/expressions.py:21: UserWarning: Pandas requires version '2.8.0' or newer of 'numexpr' (version '2.7.3' currently installed).\n",
      "  from pandas.core.computation.check import NUMEXPR_INSTALLED\n"
     ]
    },
    {
     "name": "stdout",
     "output_type": "stream",
     "text": [
      "sagemaker.config INFO - Not applying SDK defaults from location: /etc/xdg/sagemaker/config.yaml\n",
      "sagemaker.config INFO - Not applying SDK defaults from location: /home/ec2-user/.config/sagemaker/config.yaml\n"
     ]
    }
   ],
   "source": [
    "import sagemaker"
   ]
  },
  {
   "cell_type": "code",
   "execution_count": 2,
   "id": "dbed7bab-c1ed-4fb4-81d2-1d2e6dcc5c83",
   "metadata": {
    "tags": []
   },
   "outputs": [
    {
     "data": {
      "text/plain": [
       "'2.209.0'"
      ]
     },
     "execution_count": 2,
     "metadata": {},
     "output_type": "execute_result"
    }
   ],
   "source": [
    "sagemaker.__version__"
   ]
  },
  {
   "cell_type": "code",
   "execution_count": 3,
   "id": "f0e3e2d6",
   "metadata": {
    "tags": []
   },
   "outputs": [],
   "source": [
    "%load_ext autoreload\n",
    "%autoreload 2\n",
    "%store -r\n",
    "XGB_FRAMEWORK_VERSION = '1.7-1'\n",
    "DATASET_PATH = '../data/dataset'"
   ]
  },
  {
   "cell_type": "markdown",
   "id": "f10bfaf7",
   "metadata": {},
   "source": [
    "<br>\n",
    "\n",
    "# 0. (Optional) Prepare Your Model\n",
    "---\n",
    "\n",
    "혹시 이전 과정을 다 끝내지 못했다면, 아래 코드 셀의 주석을 해제하여 코드 셀을 실행해 주세요."
   ]
  },
  {
   "cell_type": "code",
   "execution_count": 4,
   "id": "6a58c6bc",
   "metadata": {
    "tags": []
   },
   "outputs": [],
   "source": [
    "!rm -rf model && mkdir model && cp -r ../lab_1_training/model/* ./model/\n",
    "!rm -rf ./model/model.tar.gz\n",
    "# !rm -rf model && mkdir model && tar -xzvf model.tar.gz -C model"
   ]
  },
  {
   "cell_type": "code",
   "execution_count": 5,
   "id": "2ad63102",
   "metadata": {
    "tags": []
   },
   "outputs": [],
   "source": [
    "# import pandas as pd\n",
    "# import xgboost as xgb\n",
    "# data = pd.read_csv(f'{DATASET_PATH}/train.csv')\n",
    "# train = data.drop('fraud', axis=1)\n",
    "# label = pd.DataFrame(data['fraud'])\n",
    "# dtrain = xgb.DMatrix(train, label=label)\n",
    "\n",
    "# params = {'max_depth': 3, 'eta': 0.2, 'objective': \"binary:logistic\", 'scale_pos_weight': 29}\n",
    "# num_boost_round = 100\n",
    "# nfold = 5\n",
    "# early_stopping_rounds = 10\n",
    "\n",
    "# cv_results = xgb.cv(\n",
    "#     params = params,\n",
    "#     dtrain = dtrain,\n",
    "#     num_boost_round = num_boost_round,\n",
    "#     nfold = nfold,\n",
    "#     early_stopping_rounds = early_stopping_rounds,\n",
    "#     metrics = ('auc'),\n",
    "#     stratified = True, # 레이블 (0,1) 의 분포에 따라 훈련 , 검증 세트 분리\n",
    "#     seed = 0\n",
    "# )\n",
    "\n",
    "# print(\"cv_results: \", cv_results)\n",
    "\n",
    "# # Select the best score\n",
    "# print(f\"[0]#011train-auc:{cv_results.iloc[-1]['train-auc-mean']}\")\n",
    "# print(f\"[1]#011validation-auc:{cv_results.iloc[-1]['test-auc-mean']}\")\n",
    "\n",
    "# metrics_data = {\n",
    "#     'classification_metrics': {\n",
    "#         'validation:auc': { 'value': cv_results.iloc[-1]['test-auc-mean']},\n",
    "#         'train:auc': {'value': cv_results.iloc[-1]['train-auc-mean']}\n",
    "#     }\n",
    "# }\n",
    "      \n",
    "# model = xgb.train(params=params, dtrain=dtrain, num_boost_round=len(cv_results))\n",
    "# model.save_model(\"model/xgboost-model\")\n",
    "# !tar -czvf model.tar.gz xgboost-model"
   ]
  },
  {
   "cell_type": "markdown",
   "id": "a676f6fb",
   "metadata": {},
   "source": [
    "`Session()`은 AWS 환경에 접속하는 접속 정보와 SageMaker에서 사용하는 리소스를 관리하기 위한 편리한 방법을 제공합니다. "
   ]
  },
  {
   "cell_type": "code",
   "execution_count": 6,
   "id": "b820e0cc",
   "metadata": {
    "tags": []
   },
   "outputs": [
    {
     "name": "stdout",
     "output_type": "stream",
     "text": [
      "('sagemaker-us-west-2-322537213286', 'arn:aws:iam::322537213286:role/service-role/AmazonSageMaker-ExecutionRole-20240103T094982')\n"
     ]
    }
   ],
   "source": [
    "import boto3\n",
    "import sagemaker\n",
    "import json\n",
    "\n",
    "sess = sagemaker.Session()\n",
    "sm_session = sagemaker.session.Session()\n",
    "boto_session = boto3.session.Session()\n",
    "sm_client = boto3.client(\"sagemaker\")\n",
    "bucket = sm_session.default_bucket()\n",
    "role = sagemaker.get_execution_role()\n",
    "region = boto_session.region_name\n",
    "\n",
    "print((bucket, role))"
   ]
  },
  {
   "cell_type": "markdown",
   "id": "be072ffe-bc48-4607-9986-38b76d9ce7eb",
   "metadata": {},
   "source": [
    "### Check Inference Results & Debugging\n",
    "\n",
    "로컬 엔드포인트나 호스팅 엔드포인트 배포 전, 로컬 환경 상에서 직접 추론을 수행하여 결과를 확인합니다. "
   ]
  },
  {
   "cell_type": "code",
   "execution_count": 7,
   "id": "e3010604",
   "metadata": {
    "tags": []
   },
   "outputs": [
    {
     "name": "stderr",
     "output_type": "stream",
     "text": [
      "/home/ec2-user/anaconda3/envs/python3/lib/python3.10/site-packages/xgboost/data.py:299: FutureWarning: is_sparse is deprecated and will be removed in a future version. Check `isinstance(dtype, pd.SparseDtype)` instead.\n",
      "  if is_sparse(dtype):\n",
      "/home/ec2-user/anaconda3/envs/python3/lib/python3.10/site-packages/xgboost/data.py:301: FutureWarning: is_categorical_dtype is deprecated and will be removed in a future version. Use isinstance(dtype, CategoricalDtype) instead\n",
      "  elif is_categorical_dtype(dtype) and enable_categorical:\n",
      "/home/ec2-user/anaconda3/envs/python3/lib/python3.10/site-packages/xgboost/data.py:332: FutureWarning: is_categorical_dtype is deprecated and will be removed in a future version. Use isinstance(dtype, CategoricalDtype) instead\n",
      "  if is_categorical_dtype(dtype)\n",
      "/home/ec2-user/anaconda3/envs/python3/lib/python3.10/site-packages/xgboost/data.py:323: FutureWarning: is_categorical_dtype is deprecated and will be removed in a future version. Use isinstance(dtype, CategoricalDtype) instead\n",
      "  return is_int or is_bool or is_float or is_categorical_dtype(dtype)\n"
     ]
    }
   ],
   "source": [
    "import xgboost as xgb\n",
    "import numpy as np\n",
    "import pandas as pd\n",
    "\n",
    "model = xgb.Booster()\n",
    "model.load_model(\"model/xgboost-model\")\n",
    "\n",
    "test_df = pd.read_csv(f'{DATASET_PATH}/test.csv')\n",
    "y_test = test_df.iloc[:, 0].astype('int')\n",
    "test_df = test_df.drop('fraud', axis=1)\n",
    "dtest = xgb.DMatrix(test_df)"
   ]
  },
  {
   "cell_type": "code",
   "execution_count": 8,
   "id": "7407029b",
   "metadata": {
    "tags": []
   },
   "outputs": [
    {
     "data": {
      "text/plain": [
       "(0.13204898, 0)"
      ]
     },
     "execution_count": 8,
     "metadata": {},
     "output_type": "execute_result"
    }
   ],
   "source": [
    "y_prob = model.predict(dtest)\n",
    "y_pred = np.array([1 if e >= 0.5 else 0 for e in y_prob])\n",
    "y_prob[0], y_pred[0]"
   ]
  },
  {
   "cell_type": "markdown",
   "id": "04c68ee3",
   "metadata": {},
   "source": [
    "<br>\n",
    "\n",
    "# 1. Create Model Serving Script\n",
    "\n",
    "---\n",
    "\n",
    "아래 코드 셀은 src 디렉토리에 SageMaker 추론 스크립트를 저장합니다.\n",
    "\n",
    "#### Option 1.\n",
    "- `model_fn(model_dir)`: S3의 `model_dir`에 저장된 모델 아티팩트를 로드합니다.\n",
    "- `input_fn(request_body, content_type)`: 입력 데이터를 전처리합니다. `content_type`은 입력 데이터 종류에 따라 다양하게 처리 가능합니다. (예: `application/x-npy`, `application/json`, `application/csv`등)\n",
    "- `predict_fn(input_object, model)`: `input_fn(...)`을 통해 들어온 데이터에 대해 추론을 수행합니다.\n",
    "- `output_fn(prediction, accept_type)`: `predict_fn(...)`에서 받은 추론 결과를 후처리를 거쳐 프론트엔드로 전송합니다.\n",
    "\n",
    "#### Option 2.\n",
    "- `model_fn(model_dir)`: S3의 model_dir에 저장된 모델 아티팩트를 로드합니다.\n",
    "- `transform_fn(model, request_body, content_type, accept_type)`: `input_fn(...), predict_fn(...), output_fn(...)`을 `transform_fn(...)`으로 통합할 수 있습니다."
   ]
  },
  {
   "cell_type": "code",
   "execution_count": 9,
   "id": "83eff8ed-eed7-480e-8cd1-75eba687da8b",
   "metadata": {
    "tags": []
   },
   "outputs": [],
   "source": [
    "!sudo rm -rf src && mkdir src"
   ]
  },
  {
   "cell_type": "code",
   "execution_count": 10,
   "id": "fc79db23-e4f6-4327-bf6a-d1c2df396fbd",
   "metadata": {
    "tags": []
   },
   "outputs": [
    {
     "name": "stdout",
     "output_type": "stream",
     "text": [
      "Writing src/inference.py\n"
     ]
    }
   ],
   "source": [
    "%%writefile src/inference.py\n",
    "import os\n",
    "import time\n",
    "import json\n",
    "import pickle as pkl\n",
    "import numpy as np\n",
    "from io import BytesIO\n",
    "import xgboost as xgb\n",
    "import sagemaker_xgboost_container.encoder as xgb_encoders\n",
    "NUM_FEATURES = 58\n",
    "\n",
    "\n",
    "def model_fn(model_dir):\n",
    "    \"\"\"\n",
    "    Deserialize and return fitted model.\n",
    "    \"\"\"\n",
    "    print(\"--------------- model_fn Start ---------------\")\n",
    "    model_file = \"xgboost-model\"\n",
    "    model = xgb.Booster()\n",
    "    model.load_model(os.path.join(model_dir, model_file))\n",
    "    print(\"--------------- model_fn End ---------------\")\n",
    "    return model\n",
    "                     \n",
    "\n",
    "def input_fn(request_body, request_content_type):\n",
    "    \"\"\"\n",
    "    The SageMaker XGBoost model server receives the request data body and the content type,\n",
    "    and invokes the `input_fn`.\n",
    "    Return a DMatrix (an object that can be passed to predict_fn).\n",
    "    \"\"\"\n",
    "    print(\"Content type: \", request_content_type)\n",
    "    if request_content_type == \"application/x-npy\":        \n",
    "        stream = BytesIO(request_body)\n",
    "        array = np.frombuffer(stream.getvalue())\n",
    "        array = array.reshape(int(len(array)/NUM_FEATURES), NUM_FEATURES)\n",
    "        return xgb.DMatrix(array)\n",
    "    elif request_content_type == \"text/csv\":\n",
    "        return xgb_encoders.csv_to_dmatrix(request_body.rstrip(\"\\n\"))\n",
    "    elif request_content_type == \"text/libsvm\":\n",
    "        return xgb_encoders.libsvm_to_dmatrix(request_body)\n",
    "    else:\n",
    "        raise ValueError(\n",
    "            \"Content type {} is not supported.\".format(request_content_type)\n",
    "        )\n",
    "        \n",
    "\n",
    "def predict_fn(input_data, model):\n",
    "    \"\"\"\n",
    "    SageMaker XGBoost model server invokes `predict_fn` on the return value of `input_fn`.\n",
    "\n",
    "    Return a two-dimensional NumPy array (predictions and scores)\n",
    "    \"\"\"\n",
    "    start_time = time.time()\n",
    "    y_probs = model.predict(input_data)\n",
    "    print(\"--- Inference time: %s secs ---\" % (time.time() - start_time))    \n",
    "    y_preds = [1 if e >= 0.5 else 0 for e in y_probs] \n",
    "    #feature_contribs = model.predict(input_data, pred_contribs=True, validate_features=False)\n",
    "    return np.vstack((y_preds, y_probs))\n",
    "\n",
    "\n",
    "def output_fn(predictions, content_type=\"application/json\"):\n",
    "    \"\"\"\n",
    "    After invoking predict_fn, the model server invokes `output_fn`.\n",
    "    \"\"\"\n",
    "    if content_type == \"text/csv\":\n",
    "        return ','.join(str(x) for x in outputs)\n",
    "    elif content_type == \"application/json\":\n",
    "        outputs = json.dumps({\n",
    "            'pred': predictions[0,:].tolist(),\n",
    "            'prob': predictions[1,:].tolist()\n",
    "        })        \n",
    "        \n",
    "        return outputs\n",
    "    else:\n",
    "        raise ValueError(\"Content type {} is not supported.\".format(content_type))"
   ]
  },
  {
   "cell_type": "markdown",
   "id": "351c2412",
   "metadata": {},
   "source": [
    "<br>\n",
    "\n",
    "# 2. Deploy a trained model from Amazon S3\n",
    "---\n",
    "\n",
    "SageMaker API의 `Model` 클래스는 훈련한 모델을 서빙하기 위한 모델 아티팩트와 도커 이미지를 정의합니다. \n",
    "`Model` 클래스 인스턴스 호출 시 AWS에서 사전 빌드한 도커 이미지 URL을 직접 가져올 수도 있지만, Model의 자식 클래스로(예: `XGBoostModel`, `TensorFlowModel`) 초기화하면 파라메터에 버전만 지정하는 것만으로 편리하게 추론을 수행하는 환경을 정의할 수 있습니다."
   ]
  },
  {
   "cell_type": "markdown",
   "id": "c7300ce7",
   "metadata": {},
   "source": [
    "### Upload model/source artifacts to S3\n",
    "압축한 모델 아티팩트를 Amazon S3로 복사합니다."
   ]
  },
  {
   "cell_type": "code",
   "execution_count": 11,
   "id": "f51977cb",
   "metadata": {
    "tags": []
   },
   "outputs": [
    {
     "name": "stdout",
     "output_type": "stream",
     "text": [
      "xgboost-model\n",
      "upload: ./model.tar.gz to s3://sagemaker-us-west-2-322537213286/sm-special-webinar/deploy/model.tar.gz\n"
     ]
    }
   ],
   "source": [
    "prefix = 'sm-special-webinar/deploy'\n",
    "s3_model_path = f's3://{bucket}/{prefix}/model.tar.gz'\n",
    "!cd model && tar -czvf model.tar.gz xgboost-model && mv model.tar.gz ../\n",
    "!aws s3 cp model.tar.gz {s3_model_path}"
   ]
  },
  {
   "cell_type": "markdown",
   "id": "1471eefc",
   "metadata": {},
   "source": [
    "<br>\n",
    "\n",
    "## 2.1. Deploy to Local Environment: XGBoostModel class\n",
    "\n",
    "SageMaker 호스팅 엔드포인트로 배포하기 전에 로컬 모드 엔드포인트로 배포할 수 있습니다. 로컬 모드는 현재 개발 중인 환경에서 도커 컨테이너를 실행하여 SageMaker 프로세싱/훈련/추론 작업을 에뮬레이트할 수 있습니다. 추론 작업의 경우는 Amazon ECR의 딥러닝 프레임워크 기반 추론 컨테이너를 로컬로 가져오고(docker pull) 컨테이너를 실행하여(docker run) 모델 서버를 시작합니다.\n",
    "\n",
    "https://docs.aws.amazon.com/sagemaker/latest/dg/xgboost.html\n",
    "\n",
    "```python\n",
    "local_model_path = f'{os.getcwd()}/model'\n",
    "ecr_uri = xgb_image_uri\n",
    "\n",
    "# 도커 컨테이너 구동\n",
    "!docker run --name xgb -itd -p 8080:8080 -v {local_model_path}:/opt/ml/model {ecr_uri} serve\n",
    "\n",
    "# 실시간 호출 테스트 \n",
    "!curl -X POST -H 'Content-Type: application/json' localhost:8080/invocations -d ...\n",
    "\n",
    "# 도커 컨테이너 중지 및 삭제    \n",
    "!docker stop xgb\n",
    "!docker rm xgb\n",
    "```\n",
    "\n",
    "참고로 SageMaker SDK에서 `deploy(...)` 메소드로 엔드포인트 배포 시, 인스턴스 타입을 local 이나 local_gpu로 지정하면 위의 과정을 자동으로 수행할 수 있습니다.\n",
    "\n",
    "```python\n",
    "# 로컬 엔드포인트 배포\n",
    "local_predictor = local_model.deploy(initial_instance_count=1, instance_type=\"local\")\n",
    "\n",
    "# 실시간 호출 테스트 \n",
    "local_predictor.predict(...)\n",
    "\n",
    "# 로컬 엔드포인트 삭제 (도커 컨테이너 중지 및 삭제)\n",
    "local_predictor.delete_endpoint()\n",
    "```"
   ]
  },
  {
   "cell_type": "markdown",
   "id": "34dafaf0",
   "metadata": {},
   "source": [
    "아래 코드를 보시면 아시겠지만, 지속적으로 업데이트되는 파이썬 버전&프레임워크 버전&트랜스포머 버전에 쉽게 대응할 수 있습니다. AWS에서 관리하고 있는 딥러닝 컨테이너(DLC) 목록을 아래 주소에서 확인해 보세요.\n",
    "- https://github.com/aws/deep-learning-containers/blob/master/available_images.md"
   ]
  },
  {
   "cell_type": "markdown",
   "id": "5d1a1bd9",
   "metadata": {},
   "source": [
    "### Create Model"
   ]
  },
  {
   "cell_type": "code",
   "execution_count": 12,
   "id": "fafcb929-0cce-4579-a26f-e85207aef46d",
   "metadata": {
    "tags": []
   },
   "outputs": [],
   "source": [
    "instance_type='local'"
   ]
  },
  {
   "cell_type": "code",
   "execution_count": 16,
   "id": "22630e10-578c-46ca-ab49-c392bb334e79",
   "metadata": {
    "tags": []
   },
   "outputs": [],
   "source": [
    "from pathlib import Path\n",
    "\n",
    "# source_dir=f\"file://{Path.cwd()}/src\"\n",
    "\n",
    "if instance_type in ['local', 'local_gpu']:\n",
    "    from sagemaker.local import LocalSession\n",
    "    \n",
    "    sagemaker_session = LocalSession()\n",
    "    sagemaker_session.config = {'local': {'local_code': True}}\n",
    "    model_data=f\"file://{Path.cwd()}/model\"\n",
    "else:\n",
    "    sagemaker_session = sagemaker.session.Session()\n",
    "    model_data=s3_model_path"
   ]
  },
  {
   "cell_type": "code",
   "execution_count": 17,
   "id": "3dfcb78f",
   "metadata": {
    "tags": []
   },
   "outputs": [],
   "source": [
    "from sagemaker.xgboost.model import XGBoostModel\n",
    "from sagemaker.model import Model\n",
    "\n",
    "xgb_model = XGBoostModel(\n",
    "    model_data=model_data,\n",
    "    source_dir=\"src\",\n",
    "    role=role,\n",
    "    entry_point=\"inference.py\",\n",
    "    framework_version=XGB_FRAMEWORK_VERSION,\n",
    "    sagemaker_session=sagemaker_session,\n",
    "    # env={'SAGEMAKER_MODEL_SERVER_TIMEOUT' : '600'}\n",
    ")"
   ]
  },
  {
   "cell_type": "markdown",
   "id": "364bb6a0",
   "metadata": {},
   "source": [
    "### Create Endpoint\n",
    "\n",
    "SageMaker SDK는 `deploy(...)` 메소드를 호출 시, `create-endpoint-config`와 `create-endpoint`를 같이 수행합니다. 좀 더 세분화된 파라메터 조정을 원하면 AWS CLI나 boto3 SDK client 활용을 권장 드립니다."
   ]
  },
  {
   "cell_type": "code",
   "execution_count": 15,
   "id": "9ee2abd0",
   "metadata": {
    "tags": []
   },
   "outputs": [
    {
     "name": "stdout",
     "output_type": "stream",
     "text": [
      "Attaching to f9likg2qtg-algo-1-cs0zg\n",
      "f9likg2qtg-algo-1-cs0zg  | [2024-02-27:00:10:49:INFO] No GPUs detected (normal if no gpus installed)\n",
      "f9likg2qtg-algo-1-cs0zg  | [2024-02-27:00:10:49:INFO] No GPUs detected (normal if no gpus installed)\n",
      "f9likg2qtg-algo-1-cs0zg  | [2024-02-27:00:10:49:INFO] nginx config: \n",
      "f9likg2qtg-algo-1-cs0zg  | worker_processes auto;\n",
      "f9likg2qtg-algo-1-cs0zg  | daemon off;\n",
      "f9likg2qtg-algo-1-cs0zg  | pid /tmp/nginx.pid;\n",
      "f9likg2qtg-algo-1-cs0zg  | error_log  /dev/stderr;\n",
      "f9likg2qtg-algo-1-cs0zg  | \n",
      "f9likg2qtg-algo-1-cs0zg  | worker_rlimit_nofile 4096;\n",
      "f9likg2qtg-algo-1-cs0zg  | \n",
      "f9likg2qtg-algo-1-cs0zg  | events {\n",
      "f9likg2qtg-algo-1-cs0zg  |   worker_connections 2048;\n",
      "f9likg2qtg-algo-1-cs0zg  | }\n",
      "f9likg2qtg-algo-1-cs0zg  | \n",
      "f9likg2qtg-algo-1-cs0zg  | http {\n",
      "f9likg2qtg-algo-1-cs0zg  |   include /etc/nginx/mime.types;\n",
      "f9likg2qtg-algo-1-cs0zg  |   default_type application/octet-stream;\n",
      "f9likg2qtg-algo-1-cs0zg  |   access_log /dev/stdout combined;\n",
      "f9likg2qtg-algo-1-cs0zg  | \n",
      "f9likg2qtg-algo-1-cs0zg  |   upstream gunicorn {\n",
      "f9likg2qtg-algo-1-cs0zg  |     server unix:/tmp/gunicorn.sock;\n",
      "f9likg2qtg-algo-1-cs0zg  |   }\n",
      "f9likg2qtg-algo-1-cs0zg  | \n",
      "f9likg2qtg-algo-1-cs0zg  |   server {\n",
      "f9likg2qtg-algo-1-cs0zg  |     listen 8080 deferred;\n",
      "f9likg2qtg-algo-1-cs0zg  |     client_max_body_size 0;\n",
      "f9likg2qtg-algo-1-cs0zg  | \n",
      "f9likg2qtg-algo-1-cs0zg  |     keepalive_timeout 3;\n",
      "f9likg2qtg-algo-1-cs0zg  | \n",
      "f9likg2qtg-algo-1-cs0zg  |     location ~ ^/(ping|invocations|execution-parameters) {\n",
      "f9likg2qtg-algo-1-cs0zg  |       proxy_set_header X-Forwarded-For $proxy_add_x_forwarded_for;\n",
      "f9likg2qtg-algo-1-cs0zg  |       proxy_set_header Host $http_host;\n",
      "f9likg2qtg-algo-1-cs0zg  |       proxy_redirect off;\n",
      "f9likg2qtg-algo-1-cs0zg  |       proxy_read_timeout 60s;\n",
      "f9likg2qtg-algo-1-cs0zg  |       proxy_pass http://gunicorn;\n",
      "f9likg2qtg-algo-1-cs0zg  |     }\n",
      "f9likg2qtg-algo-1-cs0zg  | \n",
      "f9likg2qtg-algo-1-cs0zg  |     location / {\n",
      "f9likg2qtg-algo-1-cs0zg  |       return 404 \"{}\";\n",
      "f9likg2qtg-algo-1-cs0zg  |     }\n",
      "f9likg2qtg-algo-1-cs0zg  | \n",
      "f9likg2qtg-algo-1-cs0zg  |   }\n",
      "f9likg2qtg-algo-1-cs0zg  | }\n",
      "f9likg2qtg-algo-1-cs0zg  | \n",
      "f9likg2qtg-algo-1-cs0zg  | \n",
      "f9likg2qtg-algo-1-cs0zg  | [2024-02-27:00:10:49:INFO] Module inference does not provide a setup.py. \n",
      "f9likg2qtg-algo-1-cs0zg  | Generating setup.py\n",
      "f9likg2qtg-algo-1-cs0zg  | [2024-02-27:00:10:49:INFO] Generating setup.cfg\n",
      "f9likg2qtg-algo-1-cs0zg  | [2024-02-27:00:10:49:INFO] Generating MANIFEST.in\n",
      "f9likg2qtg-algo-1-cs0zg  | [2024-02-27:00:10:49:INFO] Installing module with the following command:\n",
      "f9likg2qtg-algo-1-cs0zg  | /miniconda3/bin/python3 -m pip install . \n",
      "f9likg2qtg-algo-1-cs0zg  | Processing /opt/ml/code\n",
      "f9likg2qtg-algo-1-cs0zg  |   Preparing metadata (setup.py) ... \u001b[?25ldone\n",
      "f9likg2qtg-algo-1-cs0zg  | \u001b[?25hBuilding wheels for collected packages: inference\n",
      "f9likg2qtg-algo-1-cs0zg  |   Building wheel for inference (setup.py) ... \u001b[?25ldone\n",
      "f9likg2qtg-algo-1-cs0zg  | \u001b[?25h  Created wheel for inference: filename=inference-1.0.0-py2.py3-none-any.whl size=4606 sha256=e4bc97618296887f5d06478910602c3d88a5e13b5f76dca50a497b688d7b003c\n",
      "f9likg2qtg-algo-1-cs0zg  |   Stored in directory: /home/model-server/tmp/pip-ephem-wheel-cache-txa8gn27/wheels/f3/75/57/158162e9eab7af12b5c338c279b3a81f103b89d74eeb911c00\n",
      "f9likg2qtg-algo-1-cs0zg  | Successfully built inference\n",
      "f9likg2qtg-algo-1-cs0zg  | Installing collected packages: inference\n",
      "f9likg2qtg-algo-1-cs0zg  | Successfully installed inference-1.0.0\n",
      "f9likg2qtg-algo-1-cs0zg  | \u001b[33mWARNING: Running pip as the 'root' user can result in broken permissions and conflicting behaviour with the system package manager. It is recommended to use a virtual environment instead: https://pip.pypa.io/warnings/venv\u001b[0m\u001b[33m\n",
      "f9likg2qtg-algo-1-cs0zg  | \u001b[0m\n",
      "f9likg2qtg-algo-1-cs0zg  | \u001b[1m[\u001b[0m\u001b[34;49mnotice\u001b[0m\u001b[1;39;49m]\u001b[0m\u001b[39;49m A new release of pip is available: \u001b[0m\u001b[31;49m23.3.2\u001b[0m\u001b[39;49m -> \u001b[0m\u001b[32;49m24.0\u001b[0m\n",
      "f9likg2qtg-algo-1-cs0zg  | \u001b[1m[\u001b[0m\u001b[34;49mnotice\u001b[0m\u001b[1;39;49m]\u001b[0m\u001b[39;49m To update, run: \u001b[0m\u001b[32;49mpip install --upgrade pip\u001b[0m\n",
      "f9likg2qtg-algo-1-cs0zg  | [2024-02-27 00:10:51 +0000] [32] [INFO] Starting gunicorn 19.10.0\n",
      "f9likg2qtg-algo-1-cs0zg  | [2024-02-27 00:10:51 +0000] [32] [INFO] Listening at: unix:/tmp/gunicorn.sock (32)\n",
      "f9likg2qtg-algo-1-cs0zg  | [2024-02-27 00:10:51 +0000] [32] [INFO] Using worker: gevent\n",
      "f9likg2qtg-algo-1-cs0zg  | /miniconda3/lib/python3.8/os.py:1023: RuntimeWarning: line buffering (buffering=1) isn't supported in binary mode, the default buffer size will be used\n",
      "f9likg2qtg-algo-1-cs0zg  |   return io.open(fd, *args, **kwargs)\n",
      "f9likg2qtg-algo-1-cs0zg  | [2024-02-27 00:10:51 +0000] [34] [INFO] Booting worker with pid: 34\n",
      "f9likg2qtg-algo-1-cs0zg  | [2024-02-27 00:10:51 +0000] [35] [INFO] Booting worker with pid: 35\n",
      "f9likg2qtg-algo-1-cs0zg  | [2024-02-27 00:10:51 +0000] [36] [INFO] Booting worker with pid: 36\n",
      "f9likg2qtg-algo-1-cs0zg  | [2024-02-27 00:10:51 +0000] [37] [INFO] Booting worker with pid: 37\n",
      "f9likg2qtg-algo-1-cs0zg  | [2024-02-27:00:10:53:INFO] No GPUs detected (normal if no gpus installed)\n",
      "f9likg2qtg-algo-1-cs0zg  | [2024-02-27:00:10:53:INFO] No GPUs detected (normal if no gpus installed)\n",
      "f9likg2qtg-algo-1-cs0zg  | --------------- model_fn Start ---------------\n",
      "f9likg2qtg-algo-1-cs0zg  | --------------- model_fn End ---------------\n",
      "f9likg2qtg-algo-1-cs0zg  | 172.18.0.1 - - [27/Feb/2024:00:10:53 +0000] \"GET /ping HTTP/1.1\" 200 0 \"-\" \"python-urllib3/1.26.18\"\n",
      "f9likg2qtg-algo-1-cs0zg  | [2024-02-27:00:10:53:INFO] No GPUs detected (normal if no gpus installed)\n",
      "f9likg2qtg-algo-1-cs0zg  | [2024-02-27:00:10:53:INFO] No GPUs detected (normal if no gpus installed)\n",
      "f9likg2qtg-algo-1-cs0zg  | [2024-02-27:00:10:53:INFO] No GPUs detected (normal if no gpus installed)\n",
      "!"
     ]
    }
   ],
   "source": [
    "xgb_predictor = xgb_model.deploy(\n",
    "    initial_instance_count=1,\n",
    "    instance_type=instance_type,\n",
    ")"
   ]
  },
  {
   "cell_type": "markdown",
   "id": "0bd036cc",
   "metadata": {},
   "source": [
    "### Check Docker\n",
    "\n",
    "모델 서빙을 위한 도커 컨테이너가 구동되고 있음을 확인할 수 있습니다."
   ]
  },
  {
   "cell_type": "code",
   "execution_count": 28,
   "id": "1f9fd6cf",
   "metadata": {
    "tags": []
   },
   "outputs": [
    {
     "name": "stdout",
     "output_type": "stream",
     "text": [
      "CONTAINER ID   IMAGE     COMMAND   CREATED   STATUS    PORTS     NAMES\n"
     ]
    }
   ],
   "source": [
    "!docker ps"
   ]
  },
  {
   "cell_type": "markdown",
   "id": "cf33fa1b",
   "metadata": {},
   "source": [
    "### Prediction - SageMaker SDK & text/csv\n",
    "샘플 데이터에 대해 추론을 수행합니다."
   ]
  },
  {
   "cell_type": "code",
   "execution_count": 19,
   "id": "84a21b3d",
   "metadata": {
    "tags": []
   },
   "outputs": [
    {
     "name": "stdout",
     "output_type": "stream",
     "text": [
      "f9likg2qtg-algo-1-cs0zg  | [2024-02-27:00:12:38:INFO] No GPUs detected (normal if no gpus installed)\n",
      "f9likg2qtg-algo-1-cs0zg  | --------------- model_fn Start ---------------\n",
      "f9likg2qtg-algo-1-cs0zg  | --------------- model_fn End ---------------\n",
      "f9likg2qtg-algo-1-cs0zg  | Content type:  text/csv\n",
      "f9likg2qtg-algo-1-cs0zg  | [2024-02-27:00:12:38:INFO] Determined delimiter of CSV input is ','\n",
      "f9likg2qtg-algo-1-cs0zg  | --- Inference time: 0.0020437240600585938 secs ---\n",
      "f9likg2qtg-algo-1-cs0zg  | 172.18.0.1 - - [27/Feb/2024:00:12:38 +0000] \"POST /invocations HTTP/1.1\" 200 123 \"-\" \"python-urllib3/1.26.18\"\n"
     ]
    },
    {
     "data": {
      "text/plain": [
       "(array([0, 0, 0, 0]),\n",
       " [0.0, 0.0, 1.0, 0.0],\n",
       " [0.13204897940158844,\n",
       "  0.05515306442975998,\n",
       "  0.5491992831230164,\n",
       "  0.17651690542697906])"
      ]
     },
     "execution_count": 19,
     "metadata": {},
     "output_type": "execute_result"
    }
   ],
   "source": [
    "from sagemaker.serializers import CSVSerializer, NumpySerializer\n",
    "from sagemaker.deserializers import JSONDeserializer\n",
    "xgb_predictor.serializer = CSVSerializer()\n",
    "xgb_predictor.deserializer = JSONDeserializer() \n",
    "\n",
    "outputs = xgb_predictor.predict(test_df.values[0:4,:])\n",
    "y_test_sample = y_test[0:4].values\n",
    "y_pred_sample = outputs['pred']; y_prob_sample = outputs['prob']\n",
    "y_test_sample, y_pred_sample, y_prob_sample"
   ]
  },
  {
   "cell_type": "markdown",
   "id": "9c78f3f4",
   "metadata": {},
   "source": [
    "### Prediction - boto3 SDK & application/x-npy\n",
    "\n",
    "위의 코드 셀처럼 SageMaker SDK의 `predict(...)` 메소드로 추론을 수행할 수도 있지만, 이번에는 boto3의 `invoke_endpoint(...)` 메소드로 추론을 수행해 보겠습니다.\n",
    "Boto3는 서비스 레벨의 저수준(low-level) SDK로, ML 실험에 초점을 맞춰 일부 기능들이 추상화된 고수준(high-level) SDK인 SageMaker SDK와 달리 SageMaker API를 완벽하게 제어할 수 있습으며, 프로덕션 및 자동화 작업에 적합합니다.\n",
    "\n",
    "[Note] `invoke_endpoint(...)` 호출을 위한 런타임 클라이언트 인스턴스 생성 시, 로컬 배포 모드에서는`sagemaker.local.LocalSagemakerRuntimeClient(...)`를 호출해야 합니다."
   ]
  },
  {
   "cell_type": "code",
   "execution_count": 20,
   "id": "226f9e39-8cff-49e0-9577-2575410536b0",
   "metadata": {
    "tags": []
   },
   "outputs": [
    {
     "name": "stdout",
     "output_type": "stream",
     "text": [
      "payload : b'up2\\xae[W\\xd7@:8\\x19\\xd7-\\xad\\xe1@\\x00\\x00\\x00\\x00\\x00\\x00L@\\x00\\x00\\x00\\x00\\x00\\x80]@\\x00\\x00\\x00\\x00\\x00\\x00\\x00\\x00\\x00\\x00\\x00\\x00\\x00\\x00\\xf0?\\x00\\x00\\x00\\x00\\x00p\\x87@\\x00\\x00\\x00\\x00\\x00p\\xa7@\\x00\\x00\\x00\\x00p\\xef\\xf7@\\x00\\x00\\x00\\x00\\x00p\\x9f@\\x00\\x00\\x00\\x00\\x00\\x00\\x08@\\x00\\x00\\x00\\x00\\x00\\x00\\x08@\\x00\\x00\\x00\\x00\\x00\\x00\\xf0?\\x00\\x00\\x00\\x00\\x00\\x06\\xc8@\\x00\\x00\\x00\\x00\\x00\\x00\"@\\x00\\x00\\x00\\x00\\x00\\x00(@\\x00\\x00\\x00\\x00\\x00\\x00\\x08@\\x00\\x00\\x00\\x00\\x00\\x00,@\\x00\\x00\\x00\\x00\\x00\\x00\\x00\\x00\\x00\\x00\\x00\\x00\\x00\\x00\\x00\\x00\\x00\\x00\\x00\\x00\\x00\\x00\\x00\\x00\\x00\\x00\\x00\\x00\\x00\\x00\\x00\\x00\\x00\\x00\\x00\\x00\\x00\\x00\\x00\\x00\\x00\\x00\\x00\\x00\\x00\\x00\\xf0?\\x00\\x00\\x00\\x00\\x00\\x00\\x00\\x00\\x00\\x00\\x00\\x00\\x00\\x00\\x00\\x00\\x00\\x00\\x00\\x00\\x00\\x00\\xf0?\\x00\\x00\\x00\\x00\\x00\\x00\\x00\\x00\\x00\\x00\\x00\\x00\\x00\\x00\\x00\\x00\\x00\\x00\\x00\\x00\\x00\\x00\\xf0?\\x00\\x00\\x00\\x00\\x00\\x00\\x00\\x00\\x00\\x00\\x00\\x00\\x00\\x00\\x00\\x00\\x00\\x00\\x00\\x00\\x00\\x00\\x00\\x00\\x00\\x00\\x00\\x00\\x00\\x00\\x00\\x00\\x00\\x00\\x00\\x00\\x00\\x00\\x00\\x00\\x00\\x00\\x00\\x00\\x00\\x00\\x00\\x00\\x00\\x00\\x00\\x00\\x00\\x00\\xf0?\\x00\\x00\\x00\\x00\\x00\\x00\\x00\\x00\\x00\\x00\\x00\\x00\\x00\\x00\\x00\\x00\\x00\\x00\\x00\\x00\\x00\\x00\\xf0?\\x00\\x00\\x00\\x00\\x00\\x00\\x00\\x00\\x00\\x00\\x00\\x00\\x00\\x00\\x00\\x00\\x00\\x00\\x00\\x00\\x00\\x00\\x00\\x00\\x00\\x00\\x00\\x00\\x00\\x00\\xf0?\\x00\\x00\\x00\\x00\\x00\\x00\\x00\\x00\\x00\\x00\\x00\\x00\\x00\\x00\\x00\\x00\\x00\\x00\\x00\\x00\\x00\\x00\\x00\\x00\\x00\\x00\\x00\\x00\\x00\\x00\\xf0?\\x00\\x00\\x00\\x00\\x00\\x00\\x00\\x00\\x00\\x00\\x00\\x00\\x00\\x00\\x00\\x00\\x00\\x00\\x00\\x00\\x00\\x00\\x00\\x00\\x00\\x00\\x00\\x00\\x00\\x00\\xf0?\\x00\\x00\\x00\\x00\\x00\\x00\\x00\\x00\\x00\\x00\\x00\\x00\\x00\\x00\\x00\\x00\\x00\\x00\\x00\\x00\\x00\\x00\\x00\\x00\\x00\\x00\\x00\\x00\\x00\\x00\\xf0?\\x00\\x00\\x00\\x00\\x00\\x00\\x00\\x00\\x00\\x00\\x00\\x00\\x00\\x00\\xf0?T\\xaeU\\xed\\xd2i\\xdc@\\x95kU\\xbb\\xf4\\xfd\\xf1@\\x00\\x00\\x00\\x00\\x00\\x00B@\\x00\\x00\\x00\\x00\\x00\\xc0Q@\\x00\\x00\\x00\\x00\\x00\\x00\\x00\\x00\\x00\\x00\\x00\\x00\\x00\\x00\\xf0?\\x00\\x00\\x00\\x00\\x00p\\x87@\\x00\\x00\\x00\\x00\\x00\\xb4\\xa4@\\x00\\x00\\x00\\x00\\xb0D\\xf7@\\x00\\x00\\x00\\x00\\x00\\x80\\x9f@\\x00\\x00\\x00\\x00\\x00\\x00\\x08@\\x00\\x00\\x00\\x00\\x00\\x00\\xf0?\\x00\\x00\\x00\\x00\\x00\\x00\\xf0?\\x00\\x00\\x00\\x00\\x00\\xc7\\xe5@\\x00\\x00\\x00\\x00\\x00\\x00 @\\x00\\x00\\x00\\x00\\x00\\x00 @\\x00\\x00\\x00\\x00\\x00\\x00\\x08@\\x00\\x00\\x00\\x00\\x00\\x001@\\x00\\x00\\x00\\x00\\x00\\x00\\x00\\x00\\x00\\x00\\x00\\x00\\x00\\x00\\xf0?\\x00\\x00\\x00\\x00\\x00\\x00\\x00\\x00\\x00\\x00\\x00\\x00\\x00\\x00\\x00\\x00\\x00\\x00\\x00\\x00\\x00\\x00\\x00\\x00\\x00\\x00\\x00\\x00\\x00\\x00\\x00\\x00\\x00\\x00\\x00\\x00\\x00\\x00\\x00\\x00\\x00\\x00\\x00\\x00\\x00\\x00\\xf0?\\x00\\x00\\x00\\x00\\x00\\x00\\x00\\x00\\x00\\x00\\x00\\x00\\x00\\x00\\x00\\x00\\x00\\x00\\x00\\x00\\x00\\x00\\xf0?\\x00\\x00\\x00\\x00\\x00\\x00\\x00\\x00\\x00\\x00\\x00\\x00\\x00\\x00\\x00\\x00\\x00\\x00\\x00\\x00\\x00\\x00\\x00\\x00\\x00\\x00\\x00\\x00\\x00\\x00\\x00\\x00\\x00\\x00\\x00\\x00\\x00\\x00\\x00\\x00\\x00\\x00\\x00\\x00\\x00\\x00\\x00\\x00\\x00\\x00\\x00\\x00\\x00\\x00\\x00\\x00\\x00\\x00\\x00\\x00\\x00\\x00\\xf0?\\x00\\x00\\x00\\x00\\x00\\x00\\x00\\x00\\x00\\x00\\x00\\x00\\x00\\x00\\xf0?\\x00\\x00\\x00\\x00\\x00\\x00\\x00\\x00\\x00\\x00\\x00\\x00\\x00\\x00\\x00\\x00\\x00\\x00\\x00\\x00\\x00\\x00\\x00\\x00\\x00\\x00\\x00\\x00\\x00\\x00\\x00\\x00\\x00\\x00\\x00\\x00\\x00\\x00\\xf0?\\x00\\x00\\x00\\x00\\x00\\x00\\x00\\x00\\x00\\x00\\x00\\x00\\x00\\x00\\xf0?\\x00\\x00\\x00\\x00\\x00\\x00\\x00\\x00\\x00\\x00\\x00\\x00\\x00\\x00\\x00\\x00\\x00\\x00\\x00\\x00\\x00\\x00\\x00\\x00\\x00\\x00\\x00\\x00\\x00\\x00\\x00\\x00\\x00\\x00\\x00\\x00\\x00\\x00\\x00\\x00\\x00\\x00\\x00\\x00\\x00\\x00\\xf0?\\x00\\x00\\x00\\x00\\x00\\x00\\x00\\x00\\x00\\x00\\x00\\x00\\x00\\x00\\x00\\x00\\x00\\x00\\x00\\x00\\x00\\x00\\x00\\x00\\x00\\x00\\x00\\x00\\x00\\x00\\xf0?\\x00\\x00\\x00\\x00\\x00\\x00\\x00\\x00\\x00\\x00\\x00\\x00\\x00\\x00\\xf0?^\\x17Byj\\xf0\\xc5@\\xb0\\x0b\\xa1<5r\\xd8@\\x00\\x00\\x00\\x00\\x00\\x008@\\x00\\x00\\x00\\x00\\x00\\x00&@\\x00\\x00\\x00\\x00\\x00\\x00\\xf0?\\x00\\x00\\x00\\x00\\x00\\x00\\x10@\\x00\\x00\\x00\\x00\\x00p\\x87@\\x00\\x00\\x00\\x00\\x00p\\xa7@\\x00\\x00\\x00\\x00p\\x05\\xf8@\\x00\\x00\\x00\\x00\\x00\\x80\\x9f@\\x00\\x00\\x00\\x00\\x00\\x00\\x00@\\x00\\x00\\x00\\x00\\x00\\x00\\x00\\x00\\x00\\x00\\x00\\x00\\x00\\x00\\x00@\\x00\\x00\\x00\\x00\\x00\\xf4\\xca@\\x00\\x00\\x00\\x00\\x00\\x00\\x00@\\x00\\x00\\x00\\x00\\x00\\x00&@\\x00\\x00\\x00\\x00\\x00\\x00\\x00\\x00\\x00\\x00\\x00\\x00\\x00\\x005@\\x00\\x00\\x00\\x00\\x00\\x00\\x00\\x00\\x00\\x00\\x00\\x00\\x00\\x00\\x00\\x00\\x00\\x00\\x00\\x00\\x00\\x00\\x00\\x00\\x00\\x00\\x00\\x00\\x00\\x00\\x00\\x00\\x00\\x00\\x00\\x00\\x00\\x00\\x00\\x00\\x00\\x00\\x00\\x00\\x00\\x00\\xf0?\\x00\\x00\\x00\\x00\\x00\\x00\\x00\\x00\\x00\\x00\\x00\\x00\\x00\\x00\\x00\\x00\\x00\\x00\\x00\\x00\\x00\\x00\\x00\\x00\\x00\\x00\\x00\\x00\\x00\\x00\\xf0?\\x00\\x00\\x00\\x00\\x00\\x00\\x00\\x00\\x00\\x00\\x00\\x00\\x00\\x00\\xf0?\\x00\\x00\\x00\\x00\\x00\\x00\\x00\\x00\\x00\\x00\\x00\\x00\\x00\\x00\\x00\\x00\\x00\\x00\\x00\\x00\\x00\\x00\\x00\\x00\\x00\\x00\\x00\\x00\\x00\\x00\\x00\\x00\\x00\\x00\\x00\\x00\\x00\\x00\\xf0?\\x00\\x00\\x00\\x00\\x00\\x00\\x00\\x00\\x00\\x00\\x00\\x00\\x00\\x00\\x00\\x00\\x00\\x00\\x00\\x00\\x00\\x00\\x00\\x00\\x00\\x00\\x00\\x00\\x00\\x00\\x00\\x00\\x00\\x00\\x00\\x00\\x00\\x00\\xf0?\\x00\\x00\\x00\\x00\\x00\\x00\\x00\\x00\\x00\\x00\\x00\\x00\\x00\\x00\\x00\\x00\\x00\\x00\\x00\\x00\\x00\\x00\\x00\\x00\\x00\\x00\\x00\\x00\\x00\\x00\\xf0?\\x00\\x00\\x00\\x00\\x00\\x00\\x00\\x00\\x00\\x00\\x00\\x00\\x00\\x00\\x00\\x00\\x00\\x00\\x00\\x00\\x00\\x00\\x00\\x00\\x00\\x00\\x00\\x00\\x00\\x00\\xf0?\\x00\\x00\\x00\\x00\\x00\\x00\\x00\\x00\\x00\\x00\\x00\\x00\\x00\\x00\\x00\\x00\\x00\\x00\\x00\\x00\\x00\\x00\\xf0?\\x00\\x00\\x00\\x00\\x00\\x00\\x00\\x00\\x00\\x00\\x00\\x00\\x00\\x00\\x00\\x00\\x00\\x00\\x00\\x00\\x00\\x00\\x00\\x00\\x00\\x00\\x00\\x00\\x00\\x00\\xf0?\\x00\\x00\\x00\\x00\\x00\\x00\\x00\\x00\\x00\\x00\\x00\\x00\\x00\\x00\\xf0?\\x00\\x00\\x00\\x00\\x00\\x00\\x00\\x00\\x8b(W(\\xca\\xba\\xc5@E\\x94+\\x14e\\x89\\xd8@\\x00\\x00\\x00\\x00\\x00\\x007@\\x00\\x00\\x00\\x00\\x00@P@\\x00\\x00\\x00\\x00\\x00\\x00\\x00\\x00\\x00\\x00\\x00\\x00\\x00\\x00\\xf0?\\x00\\x00\\x00\\x00\\x00p\\x87@\\x00\\x00\\x00\\x00\\x00p\\xa7@\\x00\\x00\\x00\\x00`J\\xf6@\\x00\\x00\\x00\\x00\\x00|\\x9f@\\x00\\x00\\x00\\x00\\x00\\x00\\x00@\\x00\\x00\\x00\\x00\\x00\\x00\\x00\\x00\\x00\\x00\\x00\\x00\\x00\\x00\\x00\\x00\\x00\\x00\\x00\\x00\\x00X\\xcb@\\x00\\x00\\x00\\x00\\x00\\x00 @\\x00\\x00\\x00\\x00\\x00\\x00\\x1c@\\x00\\x00\\x00\\x00\\x00\\x00\\x00@\\x00\\x00\\x00\\x00\\x00\\x00\\x1c@\\x00\\x00\\x00\\x00\\x00\\x00\\x00\\x00\\x00\\x00\\x00\\x00\\x00\\x00\\xf0?\\x00\\x00\\x00\\x00\\x00\\x00\\x00\\x00\\x00\\x00\\x00\\x00\\x00\\x00\\x00\\x00\\x00\\x00\\x00\\x00\\x00\\x00\\x00\\x00\\x00\\x00\\x00\\x00\\x00\\x00\\x00\\x00\\x00\\x00\\x00\\x00\\x00\\x00\\x00\\x00\\x00\\x00\\x00\\x00\\x00\\x00\\xf0?\\x00\\x00\\x00\\x00\\x00\\x00\\x00\\x00\\x00\\x00\\x00\\x00\\x00\\x00\\x00\\x00\\x00\\x00\\x00\\x00\\x00\\x00\\xf0?\\x00\\x00\\x00\\x00\\x00\\x00\\x00\\x00\\x00\\x00\\x00\\x00\\x00\\x00\\x00\\x00\\x00\\x00\\x00\\x00\\x00\\x00\\x00\\x00\\x00\\x00\\x00\\x00\\x00\\x00\\x00\\x00\\x00\\x00\\x00\\x00\\x00\\x00\\x00\\x00\\x00\\x00\\x00\\x00\\x00\\x00\\xf0?\\x00\\x00\\x00\\x00\\x00\\x00\\x00\\x00\\x00\\x00\\x00\\x00\\x00\\x00\\x00\\x00\\x00\\x00\\x00\\x00\\x00\\x00\\x00\\x00\\x00\\x00\\x00\\x00\\x00\\x00\\x00\\x00\\x00\\x00\\x00\\x00\\x00\\x00\\xf0?\\x00\\x00\\x00\\x00\\x00\\x00\\x00\\x00\\x00\\x00\\x00\\x00\\x00\\x00\\x00\\x00\\x00\\x00\\x00\\x00\\x00\\x00\\x00\\x00\\x00\\x00\\x00\\x00\\x00\\x00\\xf0?\\x00\\x00\\x00\\x00\\x00\\x00\\x00\\x00\\x00\\x00\\x00\\x00\\x00\\x00\\xf0?\\x00\\x00\\x00\\x00\\x00\\x00\\x00\\x00\\x00\\x00\\x00\\x00\\x00\\x00\\x00\\x00\\x00\\x00\\x00\\x00\\x00\\x00\\x00\\x00\\x00\\x00\\x00\\x00\\x00\\x00\\x00\\x00\\x00\\x00\\x00\\x00\\x00\\x00\\xf0?\\x00\\x00\\x00\\x00\\x00\\x00\\x00\\x00\\x00\\x00\\x00\\x00\\x00\\x00\\x00\\x00\\x00\\x00\\x00\\x00\\x00\\x00\\x00\\x00\\x00\\x00\\x00\\x00\\x00\\x00\\xf0?\\x00\\x00\\x00\\x00\\x00\\x00\\x00\\x00\\x00\\x00\\x00\\x00\\x00\\x00\\xf0?\\x00\\x00\\x00\\x00\\x00\\x00\\x00\\x00'\n"
     ]
    }
   ],
   "source": [
    "import json\n",
    "\n",
    "# import boto3\n",
    "# runtime_client = boto3.client('sagemaker-runtime')\n",
    "runtime_client = sagemaker.local.LocalSagemakerRuntimeClient()\n",
    "endpoint_name = xgb_model.endpoint_name\n",
    "payload=test_df.values[0:4,:].tobytes()\n",
    "print(f\"payload : {payload}\")"
   ]
  },
  {
   "cell_type": "code",
   "execution_count": 21,
   "id": "3af12020-1fa5-42e3-9e83-876b085eca7e",
   "metadata": {
    "tags": []
   },
   "outputs": [
    {
     "name": "stdout",
     "output_type": "stream",
     "text": [
      "f9likg2qtg-algo-1-cs0zg  | [2024-02-27:00:12:42:INFO] No GPUs detected (normal if no gpus installed)\n",
      "f9likg2qtg-algo-1-cs0zg  | --------------- model_fn Start ---------------\n",
      "f9likg2qtg-algo-1-cs0zg  | --------------- model_fn End ---------------\n",
      "f9likg2qtg-algo-1-cs0zg  | Content type:  application/x-npy\n",
      "f9likg2qtg-algo-1-cs0zg  | --- Inference time: 0.0010347366333007812 secs ---\n",
      "{'pred': [0.0, 0.0, 1.0, 0.0], 'prob': [0.13204897940158844, 0.05515306442975998, 0.5491992831230164, 0.17651690542697906]}\n",
      "f9likg2qtg-algo-1-cs0zg  | 172.18.0.1 - - [27/Feb/2024:00:12:42 +0000] \"POST /invocations HTTP/1.1\" 200 123 \"-\" \"python-urllib3/1.26.18\"\n"
     ]
    }
   ],
   "source": [
    "response = runtime_client.invoke_endpoint(\n",
    "    EndpointName=endpoint_name, \n",
    "    ContentType='application/x-npy',\n",
    "    Accept='application/json',\n",
    "    Body=payload\n",
    ")\n",
    "\n",
    "print(json.loads(response['Body'].read().decode()))"
   ]
  },
  {
   "cell_type": "markdown",
   "id": "dc1d180d",
   "metadata": {},
   "source": [
    "### Prediction - boto3 SDK & text/csv"
   ]
  },
  {
   "cell_type": "code",
   "execution_count": 22,
   "id": "d66564cf-9a4c-4186-8284-c74f5773447f",
   "metadata": {
    "tags": []
   },
   "outputs": [
    {
     "name": "stdout",
     "output_type": "stream",
     "text": [
      "payload : 23901.43250714285,36201.43250714285,56,118,0,1,750,3000,98039,2012,3,3,1,12300,9,12,3,14,0,0,0,0,0,1,0,0,1,0,0,1,0,0,0,0,0,0,1,0,0,1,0,0,0,1,0,0,0,1,0,0,0,1,0,0,0,1,0,1\n",
      "29095.295735759966,73695.29573575997,36,71,0,1,750,2650,95307,2016,3,1,1,44600,8,8,3,17,0,1,0,0,0,0,0,1,0,0,1,0,0,0,0,0,0,0,1,0,1,0,0,0,0,1,0,1,0,0,0,0,0,1,0,0,0,1,0,1\n",
      "11232.831825505647,25032.83182550565,24,11,1,4,750,3000,98391,2016,2,0,2,13800,2,11,0,21,0,0,0,0,0,1,0,0,0,1,0,1,0,0,0,0,1,0,0,0,0,1,0,0,0,1,0,0,0,1,0,0,1,0,0,0,1,0,1,0\n",
      "11125.579356093212,25125.57935609321,23,65,0,1,750,3000,91302,2015,2,0,0,14000,8,7,2,7,0,1,0,0,0,0,0,1,0,0,1,0,0,0,0,0,1,0,0,0,0,1,0,0,0,1,0,1,0,0,0,0,1,0,0,0,1,0,1,0\n",
      "\n"
     ]
    }
   ],
   "source": [
    "import io\n",
    "from io import StringIO\n",
    "csv_file = io.StringIO()\n",
    "test_df[0:4].to_csv(csv_file, sep=\",\", header=False, index=False)\n",
    "payload = csv_file.getvalue()\n",
    "print(f\"payload : {payload}\")"
   ]
  },
  {
   "cell_type": "code",
   "execution_count": 23,
   "id": "8b394895-152f-4812-aeb1-14dc0a547811",
   "metadata": {
    "tags": []
   },
   "outputs": [
    {
     "name": "stdout",
     "output_type": "stream",
     "text": [
      "f9likg2qtg-algo-1-cs0zg  | Content type:  text/csv\n",
      "f9likg2qtg-algo-1-cs0zg  | [2024-02-27:00:12:43:INFO] Determined delimiter of CSV input is ','\n",
      "f9likg2qtg-algo-1-cs0zg  | --- Inference time: 0.0001842975616455078 secs ---\n",
      "{'pred': [0.0, 0.0, 1.0, 0.0], 'prob': [0.13204897940158844, 0.05515306442975998, 0.5491992831230164, 0.17651690542697906]}\n",
      "f9likg2qtg-algo-1-cs0zg  | 172.18.0.1 - - [27/Feb/2024:00:12:43 +0000] \"POST /invocations HTTP/1.1\" 200 123 \"-\" \"python-urllib3/1.26.18\"\n"
     ]
    }
   ],
   "source": [
    "response = runtime_client.invoke_endpoint(\n",
    "    EndpointName=endpoint_name, \n",
    "    ContentType='text/csv',\n",
    "    Accept='application/json',\n",
    "    Body=payload\n",
    ")\n",
    "\n",
    "print(json.loads(response['Body'].read().decode()))"
   ]
  },
  {
   "cell_type": "markdown",
   "id": "dadddacf",
   "metadata": {},
   "source": [
    "### Local Mode Endpoint Clean-up"
   ]
  },
  {
   "cell_type": "code",
   "execution_count": 30,
   "id": "46ca908e",
   "metadata": {
    "tags": []
   },
   "outputs": [
    {
     "name": "stderr",
     "output_type": "stream",
     "text": [
      "Failed to delete: /tmp/tmpiexgcwif/algo-1-cs0zg\n"
     ]
    },
    {
     "name": "stdout",
     "output_type": "stream",
     "text": [
      "If any docker processes are running,Retry this cell, please.\n",
      "CONTAINER ID   IMAGE     COMMAND   CREATED   STATUS    PORTS     NAMES\n"
     ]
    }
   ],
   "source": [
    "try:\n",
    "    xgb_predictor.delete_endpoint()\n",
    "    xgb_model.delete_model()\n",
    "except:\n",
    "    print(\"If any docker processes are running,Retry this cell, please.\")\n",
    "finally:\n",
    "    !docker ps"
   ]
  },
  {
   "cell_type": "markdown",
   "id": "017ba349",
   "metadata": {},
   "source": [
    "<br>\n",
    "\n",
    "## 2.2. Deploy to Hosting Instance\n",
    "\n",
    "로컬 모드에서 충분히 디버깅했으면 실제 호스팅 인스턴스로 배포할 차례입니다. 코드는 거의 동일하며, `instance_type`만 다르다는 점을 주목해 주세요! "
   ]
  },
  {
   "cell_type": "markdown",
   "id": "49bcdcfe",
   "metadata": {},
   "source": [
    "### Create Model"
   ]
  },
  {
   "cell_type": "code",
   "execution_count": 31,
   "id": "1ae35c3d",
   "metadata": {
    "tags": []
   },
   "outputs": [],
   "source": [
    "from sagemaker.xgboost.model import XGBoostModel\n",
    "\n",
    "xgb_model = XGBoostModel(\n",
    "    model_data=s3_model_path,\n",
    "    role=role,\n",
    "    entry_point=\"src/inference.py\",\n",
    "    framework_version=XGB_FRAMEWORK_VERSION,\n",
    ")"
   ]
  },
  {
   "cell_type": "markdown",
   "id": "c7bd632e",
   "metadata": {},
   "source": [
    "### Create Endpoint\n",
    "\n",
    "SageMaker SDK는 `deploy(...)` 메소드를 호출 시, `create-endpoint-config`와 `create-endpoint`를 같이 수행합니다. 좀 더 세분화된 파라메터 조정을 원하면 AWS CLI나 boto3 SDK client 활용을 권장 드립니다."
   ]
  },
  {
   "cell_type": "code",
   "execution_count": 32,
   "id": "fad942a7",
   "metadata": {
    "tags": []
   },
   "outputs": [],
   "source": [
    "xgb_predictor = xgb_model.deploy(\n",
    "    initial_instance_count=1,\n",
    "    instance_type='ml.m5.xlarge', \n",
    "    wait=False\n",
    ")"
   ]
  },
  {
   "cell_type": "markdown",
   "id": "8f911c60",
   "metadata": {},
   "source": [
    "### Wait for the endpoint jobs to complete\n",
    "\n",
    "엔드포인트가 생성될 때까지 기다립니다. 엔드포인트가 가리키는 호스팅 리소스를 프로비저닝하는 데에 몇 분의 시간이 소요됩니다. "
   ]
  },
  {
   "cell_type": "code",
   "execution_count": 33,
   "id": "a7d680ad",
   "metadata": {
    "collapsed": true,
    "jupyter": {
     "outputs_hidden": true
    },
    "tags": []
   },
   "outputs": [
    {
     "name": "stderr",
     "output_type": "stream",
     "text": [
      "/tmp/ipykernel_27124/3754662690.py:1: DeprecationWarning: Importing display from IPython.core.display is deprecated since IPython 7.14, please import from IPython display\n",
      "  from IPython.core.display import display, HTML\n"
     ]
    },
    {
     "data": {
      "text/html": [
       "<b><a target=\"blank\" href=\"https://console.aws.amazon.com/sagemaker/home?region=us-west-2#/endpoints/sagemaker-xgboost-2024-02-27-00-16-09-272\">[Deploy model from S3] Review Endpoint</a></b>"
      ],
      "text/plain": [
       "<IPython.core.display.HTML object>"
      ]
     },
     "metadata": {},
     "output_type": "display_data"
    }
   ],
   "source": [
    "from IPython.core.display import display, HTML\n",
    "def make_endpoint_link(region, endpoint_name, endpoint_task):\n",
    "    endpoint_link = f'<b><a target=\"blank\" href=\"https://console.aws.amazon.com/sagemaker/home?region={region}#/endpoints/{endpoint_name}\">{endpoint_task} Review Endpoint</a></b>'   \n",
    "    return endpoint_link \n",
    "        \n",
    "endpoint_link = make_endpoint_link(region, xgb_predictor.endpoint_name, '[Deploy model from S3]')\n",
    "display(HTML(endpoint_link))"
   ]
  },
  {
   "cell_type": "code",
   "execution_count": 34,
   "id": "e2ecba5e",
   "metadata": {
    "tags": []
   },
   "outputs": [
    {
     "name": "stdout",
     "output_type": "stream",
     "text": [
      "--------------------------------!"
     ]
    },
    {
     "data": {
      "text/plain": [
       "{'EndpointName': 'sagemaker-xgboost-2024-02-27-00-16-09-272',\n",
       " 'EndpointArn': 'arn:aws:sagemaker:us-west-2:322537213286:endpoint/sagemaker-xgboost-2024-02-27-00-16-09-272',\n",
       " 'EndpointConfigName': 'sagemaker-xgboost-2024-02-27-00-16-09-272',\n",
       " 'ProductionVariants': [{'VariantName': 'AllTraffic',\n",
       "   'DeployedImages': [{'SpecifiedImage': '246618743249.dkr.ecr.us-west-2.amazonaws.com/sagemaker-xgboost:1.7-1',\n",
       "     'ResolvedImage': '246618743249.dkr.ecr.us-west-2.amazonaws.com/sagemaker-xgboost@sha256:2a8e312beef7b773b22321dc56107cc0c46e579b2cef8a73fede23735a7113ee',\n",
       "     'ResolutionTime': datetime.datetime(2024, 2, 27, 0, 16, 10, 438000, tzinfo=tzlocal())}],\n",
       "   'CurrentWeight': 1.0,\n",
       "   'DesiredWeight': 1.0,\n",
       "   'CurrentInstanceCount': 1,\n",
       "   'DesiredInstanceCount': 1}],\n",
       " 'EndpointStatus': 'InService',\n",
       " 'CreationTime': datetime.datetime(2024, 2, 27, 0, 16, 9, 837000, tzinfo=tzlocal()),\n",
       " 'LastModifiedTime': datetime.datetime(2024, 2, 27, 0, 18, 55, 479000, tzinfo=tzlocal()),\n",
       " 'ResponseMetadata': {'RequestId': '660d5447-08b4-4955-9b54-203c347e3238',\n",
       "  'HTTPStatusCode': 200,\n",
       "  'HTTPHeaders': {'x-amzn-requestid': '660d5447-08b4-4955-9b54-203c347e3238',\n",
       "   'content-type': 'application/x-amz-json-1.1',\n",
       "   'content-length': '768',\n",
       "   'date': 'Tue, 27 Feb 2024 00:18:57 GMT'},\n",
       "  'RetryAttempts': 0}}"
      ]
     },
     "execution_count": 34,
     "metadata": {},
     "output_type": "execute_result"
    }
   ],
   "source": [
    "sess.wait_for_endpoint(xgb_predictor.endpoint_name, poll=5)"
   ]
  },
  {
   "cell_type": "markdown",
   "id": "2f00697f",
   "metadata": {},
   "source": [
    "### Prediction - SageMaker SDK & text/csv\n",
    "샘플 데이터에 대해 추론을 수행합니다."
   ]
  },
  {
   "cell_type": "code",
   "execution_count": 35,
   "id": "94d32365",
   "metadata": {
    "tags": []
   },
   "outputs": [
    {
     "data": {
      "text/plain": [
       "(array([0, 0, 0, 0]),\n",
       " [0.0, 0.0, 1.0, 0.0],\n",
       " [0.13204897940158844,\n",
       "  0.05515306442975998,\n",
       "  0.5491992831230164,\n",
       "  0.17651690542697906])"
      ]
     },
     "execution_count": 35,
     "metadata": {},
     "output_type": "execute_result"
    }
   ],
   "source": [
    "from sagemaker.serializers import CSVSerializer, NumpySerializer\n",
    "from sagemaker.deserializers import JSONDeserializer\n",
    "xgb_predictor.serializer = CSVSerializer()\n",
    "xgb_predictor.deserializer = JSONDeserializer() \n",
    "\n",
    "outputs = xgb_predictor.predict(test_df.values[0:4,:])\n",
    "y_test_sample = y_test[0:4].values\n",
    "y_pred_sample = outputs['pred']; y_prob_sample = outputs['prob']\n",
    "y_test_sample, y_pred_sample, y_prob_sample"
   ]
  },
  {
   "cell_type": "markdown",
   "id": "552f9424",
   "metadata": {},
   "source": [
    "### Prediction - boto3 SDK & application/x-npy\n",
    "\n",
    "위의 코드 셀처럼 SageMaker SDK의 `predict(...)` 메소드로 추론을 수행할 수도 있지만, 이번에는 boto3의 `invoke_endpoint(...)` 메소드로 추론을 수행해 보겠습니다.\n",
    "Boto3는 서비스 레벨의 저수준(low-level) SDK로, ML 실험에 초점을 맞춰 일부 기능들이 추상화된 고수준(high-level) SDK인 SageMaker SDK와 달리 SageMaker API를 완벽하게 제어할 수 있습으며, 프로덕션 및 자동화 작업에 적합합니다."
   ]
  },
  {
   "cell_type": "code",
   "execution_count": 36,
   "id": "3c472196",
   "metadata": {
    "tags": []
   },
   "outputs": [
    {
     "name": "stdout",
     "output_type": "stream",
     "text": [
      "{'pred': [0.0, 0.0, 1.0, 0.0], 'prob': [0.13204897940158844, 0.05515306442975998, 0.5491992831230164, 0.17651690542697906]}\n"
     ]
    }
   ],
   "source": [
    "runtime_client = boto3.client('sagemaker-runtime')\n",
    "endpoint_name = xgb_model.endpoint_name\n",
    "payload = test_df.values[0:4,:].tobytes()\n",
    "\n",
    "response = runtime_client.invoke_endpoint(\n",
    "    EndpointName=endpoint_name, \n",
    "    ContentType='application/x-npy',\n",
    "    Accept='application/json',\n",
    "    Body=payload\n",
    ")\n",
    "\n",
    "print(json.loads(response['Body'].read().decode()))"
   ]
  },
  {
   "cell_type": "markdown",
   "id": "370dbfcb",
   "metadata": {},
   "source": [
    "### Prediction - boto3 SDK & text/csv"
   ]
  },
  {
   "cell_type": "code",
   "execution_count": 37,
   "id": "a6d430cd",
   "metadata": {
    "tags": []
   },
   "outputs": [
    {
     "name": "stdout",
     "output_type": "stream",
     "text": [
      "{'pred': [0.0, 0.0, 1.0, 0.0], 'prob': [0.13204897940158844, 0.05515306442975998, 0.5491992831230164, 0.17651690542697906]}\n"
     ]
    }
   ],
   "source": [
    "import io\n",
    "from io import StringIO\n",
    "csv_file = io.StringIO()\n",
    "test_df[0:4].to_csv(csv_file, sep=\",\", header=False, index=False)\n",
    "payload = csv_file.getvalue()\n",
    "\n",
    "response = runtime_client.invoke_endpoint(\n",
    "    EndpointName=endpoint_name, \n",
    "    ContentType='text/csv',\n",
    "    Accept='application/json',\n",
    "    Body=payload\n",
    ")\n",
    "\n",
    "print(json.loads(response['Body'].read().decode()))"
   ]
  },
  {
   "cell_type": "markdown",
   "id": "b1ada7b8",
   "metadata": {},
   "source": [
    "### Evaluation (Not Required)\n",
    "\n",
    "테스트셋에 대해 성능 평가를 수행합니다. 다만, 일반적인 경우 테스트셋은 정답 데이터가 포함되어 있지 않다는 점 유념해 주세요."
   ]
  },
  {
   "cell_type": "code",
   "execution_count": 38,
   "id": "90988dcd",
   "metadata": {
    "tags": []
   },
   "outputs": [],
   "source": [
    "outputs = xgb_predictor.predict(test_df.values)\n",
    "y_pred = outputs['pred']; y_prob = outputs['prob']"
   ]
  },
  {
   "cell_type": "code",
   "execution_count": 39,
   "id": "87591ede",
   "metadata": {
    "tags": []
   },
   "outputs": [
    {
     "name": "stdout",
     "output_type": "stream",
     "text": [
      "              precision    recall  f1-score   support\n",
      "\n",
      "           0       0.98      0.83      0.90       967\n",
      "           1       0.09      0.52      0.16        33\n",
      "\n",
      "    accuracy                           0.82      1000\n",
      "   macro avg       0.54      0.67      0.53      1000\n",
      "weighted avg       0.95      0.82      0.87      1000\n",
      "\n",
      "[[800 167]\n",
      " [ 16  17]]\n"
     ]
    },
    {
     "data": {
      "text/plain": [
       "{'regression_metrics': {'mse': {'value': 0.183,\n",
       "   'standard_deviation': 0.40024867270235576}}}"
      ]
     },
     "execution_count": 39,
     "metadata": {},
     "output_type": "execute_result"
    }
   ],
   "source": [
    "from sklearn.metrics import classification_report\n",
    "from sklearn.metrics import confusion_matrix\n",
    "from sklearn.metrics import mean_squared_error\n",
    "print(f\"{classification_report(y_true=y_test, y_pred=y_pred)}\")\n",
    "\n",
    "cm = confusion_matrix(y_true=y_test, y_pred=y_pred)     \n",
    "print(cm)\n",
    "\n",
    "mse = mean_squared_error(y_test, y_pred)\n",
    "std = np.std(y_test - y_pred)\n",
    "report_dict = {\n",
    "    \"regression_metrics\": {\n",
    "        \"mse\": {\n",
    "            \"value\": mse,\n",
    "            \"standard_deviation\": std\n",
    "        },\n",
    "    },\n",
    "}\n",
    "report_dict"
   ]
  },
  {
   "cell_type": "code",
   "execution_count": 40,
   "id": "d9824d60",
   "metadata": {
    "tags": []
   },
   "outputs": [
    {
     "name": "stderr",
     "output_type": "stream",
     "text": [
      "Matplotlib is building the font cache; this may take a moment.\n"
     ]
    },
    {
     "data": {
      "image/png": "[encoded data removed]",
      "text/plain": [
       "<Figure size 640x480 with 1 Axes>"
      ]
     },
     "metadata": {},
     "output_type": "display_data"
    }
   ],
   "source": [
    "from sklearn.metrics import roc_curve\n",
    "from sklearn.metrics import roc_auc_score\n",
    "from matplotlib import pyplot\n",
    "auc = roc_auc_score(y_test, y_prob)\n",
    "fpr, tpr, _ = roc_curve(y_test, y_prob)\n",
    "\n",
    "pyplot.plot(fpr, tpr, linestyle='--', label='Fraud')\n",
    "pyplot.xlabel('False Positive Rate')\n",
    "pyplot.ylabel('True Positive Rate')\n",
    "pyplot.title(f'AUC={auc:.4f}')\n",
    "pyplot.legend()\n",
    "pyplot.show()"
   ]
  },
  {
   "cell_type": "markdown",
   "id": "011e2106",
   "metadata": {},
   "source": [
    "다음 모듈에서 재사용할 변수들을 저장합니다. 만약 다음 모듈로 진행하지 않는다면 아래 섹션의 코드 셀을 주석 해제 후 실행해 주세요."
   ]
  },
  {
   "cell_type": "code",
   "execution_count": 41,
   "id": "746aea9b",
   "metadata": {
    "tags": []
   },
   "outputs": [
    {
     "name": "stdout",
     "output_type": "stream",
     "text": [
      "Stored 'endpoint_name' (str)\n",
      "Stored 'test_df' (DataFrame)\n"
     ]
    },
    {
     "name": "stderr",
     "output_type": "stream",
     "text": [
      "UsageError: Unknown variable 's3_path'\n"
     ]
    }
   ],
   "source": [
    "%store endpoint_name test_df s3_path"
   ]
  },
  {
   "cell_type": "markdown",
   "id": "f84cb564",
   "metadata": {},
   "source": [
    "### (Optional) Endpoint Clean-up"
   ]
  },
  {
   "cell_type": "code",
   "execution_count": null,
   "id": "2a09d334",
   "metadata": {},
   "outputs": [],
   "source": [
    "# xgb_predictor.delete_endpoint()\n",
    "# xgb_model.delete_model()"
   ]
  },
  {
   "cell_type": "code",
   "execution_count": null,
   "id": "922068bd-fc3b-4bb2-8dbe-c93d95f2caf8",
   "metadata": {},
   "outputs": [],
   "source": []
  },
  {
   "cell_type": "code",
   "execution_count": null,
   "id": "163f5a19-986a-4d36-a085-ad7664acd525",
   "metadata": {},
   "outputs": [],
   "source": []
  }
 ],
 "metadata": {
  "kernelspec": {
   "display_name": "conda_python3",
   "language": "python",
   "name": "conda_python3"
  },
  "language_info": {
   "codemirror_mode": {
    "name": "ipython",
    "version": 3
   },
   "file_extension": ".py",
   "mimetype": "text/x-python",
   "name": "python",
   "nbconvert_exporter": "python",
   "pygments_lexer": "ipython3",
   "version": "3.10.13"
  }
 },
 "nbformat": 4,
 "nbformat_minor": 5
}
