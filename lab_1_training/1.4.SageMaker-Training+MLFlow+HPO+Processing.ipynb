{
 "cells": [
  {
   "cell_type": "markdown",
   "id": "224caa2a",
   "metadata": {},
   "source": [
    "# 1.4 SageMaker Training with MLFlow, HPO and Processing"
   ]
  },
  {
   "cell_type": "markdown",
   "id": "f534d367",
   "metadata": {},
   "source": [
    "## 학습 작업의 실행 노트북 개요\n",
    "\n",
    "- SageMaker Training에 SageMaker 실험을 추가하여 여러 실험의 결과를 비교할 수 있습니다.\n",
    "    - [작업 실행 시 필요 라이브러리 import](#작업-실행-시-필요-라이브러리-import)\n",
    "    - [SageMaker 세션과 Role, 사용 버킷 정의](#SageMaker-세션과-Role,-사용-버킷-정의)\n",
    "    - [하이퍼파라미터 정의](#하이퍼파라미터-정의)\n",
    "    - [학습 실행 작업 정의](#학습-실행-작업-정의)\n",
    "        - 학습 코드 명\n",
    "        - 학습 코드 폴더 명\n",
    "        - 학습 코드가 사용한 Framework 종류, 버전 등\n",
    "        - 학습 인스턴스 타입과 개수\n",
    "        - SageMaker 세션\n",
    "        - 학습 작업 하이퍼파라미터 정의\n",
    "        - 학습 작업 산출물 관련 S3 버킷 설정 등\n",
    "    - [학습 데이터셋 지정](#학습-데이터셋-지정)\n",
    "        - 학습에 사용하는 데이터셋의 S3 URI 지정\n",
    "    - [SageMaker MLFlow 설정](#SageMaker-MLFlow-설정)\n",
    "    - [학습 실행](#학습-실행)\n",
    "    - [데이터 세트 설명](#데이터-세트-설명)\n",
    "    - [실험 결과 보기](#실험-결과-보기)"
   ]
  },
  {
   "cell_type": "code",
   "execution_count": null,
   "id": "97dbcfe7-1091-410b-9bc7-66d4a1ae19a1",
   "metadata": {
    "scrolled": true
   },
   "outputs": [],
   "source": [
    "%store -r\n",
    "print(f\"tracking_server_name : {tracking_server_name}\")"
   ]
  },
  {
   "cell_type": "markdown",
   "id": "335970c7",
   "metadata": {},
   "source": [
    "### 작업 실행 시 필요 라이브러리 import"
   ]
  },
  {
   "cell_type": "code",
   "execution_count": null,
   "id": "30833fde",
   "metadata": {
    "tags": []
   },
   "outputs": [],
   "source": [
    "import boto3\n",
    "import sagemaker"
   ]
  },
  {
   "cell_type": "markdown",
   "id": "92e1dddb",
   "metadata": {},
   "source": [
    "### SageMaker 세션과 Role, 사용 버킷 정의"
   ]
  },
  {
   "cell_type": "code",
   "execution_count": null,
   "id": "85d2c6ab",
   "metadata": {
    "tags": []
   },
   "outputs": [],
   "source": [
    "sagemaker_session = sagemaker.session.Session()\n",
    "role = sagemaker.get_execution_role()"
   ]
  },
  {
   "cell_type": "code",
   "execution_count": null,
   "id": "0440d37e",
   "metadata": {
    "tags": []
   },
   "outputs": [],
   "source": [
    "bucket = sagemaker_session.default_bucket()\n",
    "code_location = f's3://{bucket}/xgboost/code'\n",
    "output_path = f's3://{bucket}/xgboost/output'"
   ]
  },
  {
   "cell_type": "markdown",
   "id": "07452af4",
   "metadata": {},
   "source": [
    "### 하이퍼파라미터 정의"
   ]
  },
  {
   "cell_type": "code",
   "execution_count": null,
   "id": "3d9629bd",
   "metadata": {
    "tags": []
   },
   "outputs": [],
   "source": [
    "hyperparameters = {\n",
    "       \"scale_pos_weight\" : \"29\",    \n",
    "        \"max_depth\": \"3\",\n",
    "        \"eta\": \"0.2\",\n",
    "        \"objective\": \"binary:logistic\",\n",
    "        \"num_round\": \"100\",\n",
    "}"
   ]
  },
  {
   "cell_type": "markdown",
   "id": "f4e8d389",
   "metadata": {},
   "source": [
    "### 학습 실행 작업 정의"
   ]
  },
  {
   "cell_type": "code",
   "execution_count": null,
   "id": "b98d8748",
   "metadata": {
    "tags": []
   },
   "outputs": [],
   "source": [
    "instance_count = 1\n",
    "instance_type = \"ml.m5.large\"\n",
    "# instance_type = \"local\"\n",
    "max_run = 1*60*60\n",
    "\n",
    "use_spot_instances = False\n",
    "if use_spot_instances:\n",
    "    max_wait = 1*60*60\n",
    "else:\n",
    "    max_wait = None"
   ]
  },
  {
   "cell_type": "code",
   "execution_count": null,
   "id": "3d39c96a-bde6-40e5-9e5a-1988e11dc296",
   "metadata": {
    "tags": []
   },
   "outputs": [],
   "source": [
    "if instance_type in ['local', 'local_gpu']:\n",
    "    from sagemaker.local import LocalSession\n",
    "    sagemaker_session = LocalSession()\n",
    "    sagemaker_session.config = {'local': {'local_code': True}}\n",
    "else:\n",
    "    sagemaker_session = sagemaker.session.Session()"
   ]
  },
  {
   "cell_type": "code",
   "execution_count": null,
   "id": "80c28855",
   "metadata": {
    "tags": []
   },
   "outputs": [],
   "source": [
    "from sagemaker.xgboost.estimator import XGBoost\n",
    "\n",
    "estimator = XGBoost(\n",
    "    entry_point=\"xgboost_script_mlflow.py\",\n",
    "    source_dir=\"src\",\n",
    "    output_path=output_path,\n",
    "    code_location=code_location,\n",
    "    hyperparameters=hyperparameters,\n",
    "    role=role,\n",
    "    sagemaker_session=sagemaker_session,\n",
    "    instance_count=instance_count,\n",
    "    instance_type=instance_type,\n",
    "    framework_version=\"1.7-1\",\n",
    "    max_run=max_run,\n",
    "    use_spot_instances=use_spot_instances,  # spot instance 활용\n",
    "    max_wait=max_wait,\n",
    ")"
   ]
  },
  {
   "cell_type": "markdown",
   "id": "b2b36eeb",
   "metadata": {},
   "source": [
    "### 학습 데이터셋 지정"
   ]
  },
  {
   "cell_type": "code",
   "execution_count": null,
   "id": "b79339f1",
   "metadata": {
    "tags": []
   },
   "outputs": [],
   "source": [
    "data_path=f's3://{bucket}/xgboost/dataset'\n",
    "!aws s3 sync ../data/dataset/ $data_path"
   ]
  },
  {
   "cell_type": "code",
   "execution_count": null,
   "id": "9045fd50-05a5-4dce-a635-a4679792d513",
   "metadata": {
    "tags": []
   },
   "outputs": [],
   "source": [
    "if instance_type in ['local', 'local_gpu']:\n",
    "    from pathlib import Path\n",
    "    file_path = f'file://{Path.cwd()}'\n",
    "    inputs = file_path.split('lab_1_training')[0] + 'data/dataset/'\n",
    "    \n",
    "else:\n",
    "    inputs = data_path\n",
    "inputs"
   ]
  },
  {
   "cell_type": "markdown",
   "id": "a8c501c8",
   "metadata": {
    "tags": []
   },
   "source": [
    "### SageMaker MLFlow 설정"
   ]
  },
  {
   "cell_type": "code",
   "execution_count": null,
   "id": "84a020e3-3a43-405d-8da1-4da8fcbcf9f4",
   "metadata": {},
   "outputs": [],
   "source": [
    "import mlflow\n",
    "import mlflow.xgboost\n",
    "import os\n",
    "from time import strftime\n",
    "\n",
    "sm_client = boto3.client('sagemaker')"
   ]
  },
  {
   "cell_type": "code",
   "execution_count": null,
   "id": "92c8f935-176e-4d6b-bcdb-92e43447558d",
   "metadata": {},
   "outputs": [],
   "source": [
    "# 추적 서버 설명 가져오기\n",
    "tracking_server = sm_client.describe_mlflow_tracking_server(\n",
    "    TrackingServerName=tracking_server_name\n",
    ")\n",
    "\n",
    "# 추적 서버 URI 가져오기\n",
    "tracking_server_uri = tracking_server['TrackingServerArn']\n",
    "\n",
    "# MLflow 추적 서버 URI 설정\n",
    "mlflow.set_tracking_uri(tracking_server_uri)"
   ]
  },
  {
   "cell_type": "code",
   "execution_count": null,
   "id": "52d2399e",
   "metadata": {
    "tags": []
   },
   "outputs": [],
   "source": [
    "experiment_name = 'xgboost-poc-1'\n",
    "\n",
    "# MLflow 실험 생성 또는 가져오기\n",
    "mlflow.set_experiment(experiment_name)\n"
   ]
  },
  {
   "cell_type": "markdown",
   "id": "136ddfe1-b566-45ff-bbf9-dc8faadcb663",
   "metadata": {},
   "source": [
    "### HPO 실행 + 학습 실행\n",
    "\n",
    "SageMaker의 [Automatic Model Tuning](https://docs.aws.amazon.com/sagemaker/latest/dg/automatic-model-tuning.html)을 활용할 수 있습니다. 이 방식은 높은 평가 비용의 최적화 문제를 위해 특별히 설계된 베이지안 최적화 방법을 사용합니다. [HyperparameterTuner](https://sagemaker.readthedocs.io/en/stable/tuner.html)의 `fit()` 방법은 `Estimator`와 같이 기본적으로 제공되지 않습니다. (HPO 작업은 일반적으로는 오래 걸리기 때문입니다.) SageMaker console에 있는 \"Hyperparameter Tuning Jobs\"은 진행되는 작업의 상세 상태와 metrics를 확인하기에 좋은 UI를 제공합니다. "
   ]
  },
  {
   "cell_type": "code",
   "execution_count": null,
   "id": "0697e255-c9eb-462d-ab89-a65a1d6117f2",
   "metadata": {},
   "outputs": [],
   "source": [
    "max_jobs=4    # TODO: Ideally 12 or more\n",
    "max_parallel_jobs=2   # TODO: Maybe only 1 for Event Engine, 2-3 if possible"
   ]
  },
  {
   "cell_type": "markdown",
   "id": "603d8baf",
   "metadata": {},
   "source": [
    "### 학습 실행"
   ]
  },
  {
   "cell_type": "code",
   "execution_count": null,
   "id": "dc7d345d",
   "metadata": {
    "tags": []
   },
   "outputs": [],
   "source": [
    "\n",
    "# 현재 실행 시간을 기반으로 고유한 실행 이름 생성\n",
    "create_date = strftime(\"%H%M%s\")\n",
    "run_name = f'{experiment_name}-{create_date}'\n",
    "\n",
    "# MLflow 실행 시작\n",
    "with mlflow.start_run(run_name=run_name) as run:\n",
    "    run_id = run.info.run_id\n",
    "    \n",
    "    # 하이퍼파라미터 로깅\n",
    "    for key, value in hyperparameters.items():\n",
    "        mlflow.log_param(key, value)\n",
    "    \n",
    "    # 인스턴스 정보 로깅\n",
    "    mlflow.log_param(\"instance_type\", instance_type)\n",
    "    mlflow.log_param(\"instance_count\", instance_count)\n",
    "    \n",
    "    # 입력 데이터 경로 로깅\n",
    "    mlflow.log_param(\"input_data_path\", inputs)\n",
    "    \n",
    "    # SageMaker 훈련 작업에 MLflow 환경 변수 전달\n",
    "    estimator.environment = {\n",
    "            \"MLFLOW_TRACKING_URI\": tracking_server_uri,\n",
    "            \"MLFLOW_EXPERIMENT_NAME\": experiment_name,\n",
    "            \"MLFLOW_RUN_ID\": run_id\n",
    "    }\n",
    "\n",
    "    tuner = sagemaker.tuner.HyperparameterTuner(\n",
    "        estimator,\n",
    "        objective_metric_name=\"validation:auc\",\n",
    "        hyperparameter_ranges={\n",
    "            \"max_depth\": sagemaker.tuner.IntegerParameter(2, 5),\n",
    "            \"eta\": sagemaker.tuner.ContinuousParameter(0.1, 0.5)\n",
    "        },\n",
    "        objective_type=\"Maximize\",\n",
    "        max_jobs=max_jobs,    # TODO: Ideally 12 or more\n",
    "        max_parallel_jobs=max_parallel_jobs,    # TODO: Maybe only 1 for Event Engine, 2-3 if possible\n",
    "    )\n",
    "    \n",
    "    tuner.fit(\n",
    "        job_name = run_name,\n",
    "        inputs={'inputdata': inputs},\n",
    "        wait=False\n",
    "    )\n",
    "    \n",
    "    # MLflow에 모델 아티팩트 경로 로깅\n",
    "    mlflow.log_param(\"model_artifact_path\", f\"{output_path}/{run_name}/output/model.tar.gz\")"
   ]
  },
  {
   "cell_type": "code",
   "execution_count": null,
   "id": "e56e83d8",
   "metadata": {
    "tags": []
   },
   "outputs": [],
   "source": [
    "tuner.wait()"
   ]
  },
  {
   "cell_type": "markdown",
   "id": "eabae27b",
   "metadata": {},
   "source": [
    "###  실험 결과 보기\n",
    "위의 실험한 결과를 확인 합니다.\n",
    "- 각각의 훈련잡의 시도에 대한 훈련 사용 데이터, 모델 입력 하이퍼 파라미터, 모델 평가 지표, 모델 아티펙트 결과 위치 등의 확인이 가능합니다.\n",
    "- **아래의 모든 내용은 SageMaker Studio 를 통해서 직관적으로 확인이 가능합니다.**"
   ]
  },
  {
   "cell_type": "code",
   "execution_count": null,
   "id": "86dd2f1d",
   "metadata": {
    "tags": []
   },
   "outputs": [],
   "source": [
    "import pandas as pd\n",
    "pd.options.display.max_columns = 50\n",
    "pd.options.display.max_rows = 10\n",
    "pd.options.display.max_colwidth = 100"
   ]
  },
  {
   "cell_type": "code",
   "execution_count": null,
   "id": "af4181d7",
   "metadata": {
    "tags": []
   },
   "outputs": [],
   "source": [
    "# MLflow 실험 결과 가져오기\n",
    "from mlflow.tracking import MlflowClient\n",
    "\n",
    "client = MlflowClient()\n",
    "\n",
    "# 실험 결과 조회\n",
    "try:\n",
    "    experiment = client.get_experiment_by_name(experiment_name)\n",
    "    if experiment:\n",
    "        experiment_id = experiment.experiment_id\n",
    "        \n",
    "        # 실행 결과 검색 (정렬 없이)\n",
    "        runs = client.search_runs(experiment_ids=[experiment_id])\n",
    "        \n",
    "        if runs:\n",
    "            print(f\"실험 '{experiment_name}'에서 {len(runs)}개의 실행 결과를 찾았습니다.\")\n",
    "            \n",
    "            # 사용 가능한 메트릭 이름 확인\n",
    "            print(\"사용 가능한 메트릭 이름:\")\n",
    "            for key in runs[0].data.metrics.keys():\n",
    "                print(f\"- {key}\")\n",
    "            \n",
    "            # 결과를 데이터프레임으로 변환\n",
    "            runs_data = []\n",
    "            for run in runs:\n",
    "                run_data = {\n",
    "                    \"run_id\": run.info.run_id,\n",
    "                    \"run_name\": run.info.run_name,\n",
    "                    \"status\": run.info.status,\n",
    "                    \"start_time\": run.info.start_time,\n",
    "                    \"end_time\": run.info.end_time,\n",
    "                }\n",
    "                \n",
    "                # 메트릭 추가\n",
    "                for key, value in run.data.metrics.items():\n",
    "                    run_data[key] = value\n",
    "                \n",
    "                # 파라미터 추가\n",
    "                for key, value in run.data.params.items():\n",
    "                    run_data[f\"param_{key}\"] = value\n",
    "                \n",
    "                runs_data.append(run_data)\n",
    "            \n",
    "            runs_df = pd.DataFrame(runs_data)\n",
    "            \n",
    "            # 파이썬에서 정렬 (validation_auc 열이 있는 경우)\n",
    "            if 'validation_auc' in runs_df.columns:\n",
    "                runs_df = runs_df.sort_values(by='validation_auc', ascending=False)\n",
    "                \n",
    "            display(runs_df)\n",
    "        else:\n",
    "            print(\"실험에 실행 결과가 없습니다.\")\n",
    "    else:\n",
    "        print(f\"실험 '{experiment_name}'을 찾을 수 없습니다.\")\n",
    "except Exception as e:\n",
    "    print(f\"실험 결과 조회 중 오류 발생: {e}\")"
   ]
  },
  {
   "cell_type": "markdown",
   "id": "d69f5e80-44c9-43fa-bcbc-87c24291a394",
   "metadata": {},
   "source": [
    "###  Evaluation 하기\n",
    "SageMaker Processing을 이용하여 Evalution을 수행하는 코드를 동작할 수 있습니다. MLOps에서 Processing을 적용하면 전처리, Evaluation 등을 serverless로 동작할 수 있습니다."
   ]
  },
  {
   "cell_type": "code",
   "execution_count": null,
   "id": "e4541484",
   "metadata": {},
   "outputs": [],
   "source": [
    "from sagemaker.processing import FrameworkProcessor\n",
    "from sagemaker.processing import ProcessingInput, ProcessingOutput\n",
    "from datetime import datetime"
   ]
  },
  {
   "cell_type": "code",
   "execution_count": null,
   "id": "9e19620a-f34a-497b-a508-a588b49fc8a7",
   "metadata": {},
   "outputs": [],
   "source": [
    "instance_count = 1\n",
    "instance_type = \"ml.m5.large\"\n",
    "# instance_type = 'local'"
   ]
  },
  {
   "cell_type": "code",
   "execution_count": null,
   "id": "770f2492-654b-4c2e-aca8-66ea988f6f12",
   "metadata": {},
   "outputs": [],
   "source": [
    "script_eval = FrameworkProcessor(\n",
    "    XGBoost,\n",
    "    framework_version=\"1.7-1\",\n",
    "    role=role,\n",
    "    instance_type=instance_type,\n",
    "    instance_count=instance_count\n",
    ")"
   ]
  },
  {
   "cell_type": "code",
   "execution_count": null,
   "id": "e036584f-1a8d-4022-ae16-c34b4248f413",
   "metadata": {},
   "outputs": [],
   "source": [
    "response = sm_client.describe_training_job(\n",
    "    TrainingJobName=tuner.best_training_job()\n",
    ")"
   ]
  },
  {
   "cell_type": "code",
   "execution_count": null,
   "id": "74e6fd20-623a-4aa7-8580-32d034929079",
   "metadata": {},
   "outputs": [],
   "source": [
    "artifacts_dir = response['ModelArtifacts']['S3ModelArtifacts']\n",
    "artifacts_dir"
   ]
  },
  {
   "cell_type": "code",
   "execution_count": null,
   "id": "d239fac1-1d65-4215-a0a7-a22f16339f5a",
   "metadata": {},
   "outputs": [],
   "source": [
    "s3_test_path = data_path + '/test.csv'\n",
    "detect_outputpath = f's3://{bucket}/xgboost/processing'"
   ]
  },
  {
   "cell_type": "code",
   "execution_count": null,
   "id": "954b14df-d0d6-4888-8ec3-d659a1812f5e",
   "metadata": {},
   "outputs": [],
   "source": [
    "from pathlib import Path\n",
    "source_dir = f'{Path.cwd()}/src'\n",
    "\n",
    "if instance_type == 'local':\n",
    "    from sagemaker.local import LocalSession\n",
    "    from pathlib import Path\n",
    "\n",
    "    sagemaker_session = LocalSession()\n",
    "    sagemaker_session.config = {'local': {'local_code': True}}\n",
    "\n",
    "    s3_test_path=f'../data/dataset/test.csv'\n",
    "else:\n",
    "    sagemaker_session = sagemaker.session.Session()\n",
    "    s3_test_path=data_path + '/test.csv'  "
   ]
  },
  {
   "cell_type": "code",
   "execution_count": null,
   "id": "cc27fd61-1377-4bef-8acc-db18dfc03254",
   "metadata": {},
   "outputs": [],
   "source": [
    "# MLflow 실험 생성 및 설정\n",
    "def create_experiment(experiment_name):\n",
    "    try:\n",
    "        mlflow.create_experiment(experiment_name)\n",
    "    except:\n",
    "        pass  # 이미 존재하는 경우 무시\n",
    "    return experiment_name\n",
    "\n",
    "# SageMaker 실험 생성 함수\n",
    "def create_trial(experiment_name):\n",
    "    # 현재 시간을 기반으로 고유한 실행 이름 생성\n",
    "    run_name = f\"processing-job-{datetime.now().strftime('%Y-%m-%d-%H-%M-%S')}\"\n",
    "    \n",
    "    # SageMaker 실험이 존재하는지 확인하고 없으면 생성\n",
    "    try:\n",
    "        sm_client.describe_experiment(ExperimentName=experiment_name)\n",
    "    except sm_client.exceptions.ResourceNotFound:\n",
    "        sm_client.create_experiment(ExperimentName=experiment_name)\n",
    "    \n",
    "    # SageMaker Trial 생성\n",
    "    try:\n",
    "        sm_client.create_trial(\n",
    "            TrialName=run_name,\n",
    "            ExperimentName=experiment_name,\n",
    "            DisplayName=run_name\n",
    "        )\n",
    "    except Exception as e:\n",
    "        print(f\"Error creating trial: {e}\")\n",
    "        # 이미 존재하는 경우 무시하거나 다른 이름으로 시도\n",
    "        run_name = f\"processing-job-{datetime.now().strftime('%Y-%m-%d-%H-%M-%S')}-{int(time.time())}\"\n",
    "        sm_client.create_trial(\n",
    "            TrialName=run_name,\n",
    "            ExperimentName=experiment_name,\n",
    "            DisplayName=run_name\n",
    "        )\n",
    "    \n",
    "    return run_name"
   ]
  },
  {
   "cell_type": "code",
   "execution_count": null,
   "id": "e566906a-1388-41cd-ab44-9b4c090835e2",
   "metadata": {},
   "outputs": [],
   "source": [
    "# 메인 실행 시작\n",
    "experiment_name = create_experiment(experiment_name)\n",
    "run_name = create_trial(experiment_name)  # SageMaker Trial 생성\n",
    "\n",
    "# MLflow 설정\n",
    "mlflow.set_tracking_uri(tracking_server_uri)\n",
    "mlflow.set_experiment(experiment_name)\n",
    "\n",
    "# MLflow 실행 시작\n",
    "with mlflow.start_run(run_name=run_name) as run:\n",
    "    run_id = run.info.run_id\n",
    "    \n",
    "    # 처리 작업 실행\n",
    "    script_eval.run(\n",
    "        code=\"evaluation_mlflow.py\",\n",
    "        source_dir=source_dir,\n",
    "        inputs=[\n",
    "            ProcessingInput(source=s3_test_path, input_name=\"test_data\", destination=\"/opt/ml/processing/test\"),\n",
    "            ProcessingInput(source=artifacts_dir, input_name=\"model_weight\", destination=\"/opt/ml/processing/model\")\n",
    "        ],\n",
    "        outputs=[\n",
    "            ProcessingOutput(source=\"/opt/ml/processing/output\", output_name='evaluation', destination=detect_outputpath + \"/\" + run_name),\n",
    "        ],\n",
    "        arguments=[\n",
    "            \"--tracking-uri\", tracking_server_uri,\n",
    "            \"--experiment-name\", experiment_name,\n",
    "            \"--run-id\", run_id\n",
    "        ],\n",
    "        job_name=run_name,\n",
    "        experiment_config={\n",
    "            'ExperimentName': experiment_name,\n",
    "            'TrialName': run_name,\n",
    "            'TrialComponentDisplayName': run_name,\n",
    "        },\n",
    "        wait=False\n",
    "    )"
   ]
  },
  {
   "cell_type": "code",
   "execution_count": null,
   "id": "6141a885-9057-47a3-bd90-f5b9a13480cf",
   "metadata": {
    "scrolled": true
   },
   "outputs": [],
   "source": [
    "script_eval.latest_job.wait()"
   ]
  },
  {
   "cell_type": "markdown",
   "id": "08e72b82-108e-4cf2-9ae9-a6f2cfb6ee2c",
   "metadata": {},
   "source": [
    "###  실험 결과 확인"
   ]
  },
  {
   "cell_type": "code",
   "execution_count": null,
   "id": "48171c41-74df-43b0-8768-d60ff2565b8b",
   "metadata": {},
   "outputs": [],
   "source": [
    "import subprocess\n",
    "import os\n",
    "\n",
    "def extract_tar_file(tar_path, extract_path):\n",
    "    \"\"\"경고 메시지를 숨기고 tar 파일 추출\"\"\"\n",
    "    os.makedirs(extract_path, exist_ok=True)\n",
    "    try:\n",
    "        # stderr를 /dev/null로 리디렉션하여 경고 숨기기\n",
    "        subprocess.check_call(\n",
    "            f\"tar -xf {tar_path} -C {extract_path} 2>/dev/null\", \n",
    "            shell=True\n",
    "        )\n",
    "        return True\n",
    "    except subprocess.CalledProcessError:\n",
    "        print(f\"tar 파일 {tar_path} 추출 중 오류 발생\")\n",
    "        return False"
   ]
  },
  {
   "cell_type": "code",
   "execution_count": null,
   "id": "81d288bc-9c8e-4383-99f8-eacfd4aebd7b",
   "metadata": {},
   "outputs": [],
   "source": [
    "!aws s3 ls --human-readable {artifacts_dir}/\n",
    "artifacts_dir"
   ]
  },
  {
   "cell_type": "code",
   "execution_count": null,
   "id": "86a22713-4599-49c3-a77c-64124cb4d44a",
   "metadata": {},
   "outputs": [],
   "source": [
    "model_dir = './model'\n",
    "\n",
    "!rm -rf $model_dir\n",
    "\n",
    "import json , os\n",
    "\n",
    "if not os.path.exists(model_dir):\n",
    "    os.makedirs(model_dir)\n",
    "\n",
    "!aws s3 cp {artifacts_dir} {model_dir}/model.tar.gz\n",
    "!tar --warning=no-unknown-keyword -xvzf {model_dir}/model.tar.gz -C {model_dir}"
   ]
  },
  {
   "cell_type": "code",
   "execution_count": null,
   "id": "8351f878-8be9-4382-a291-02baede71016",
   "metadata": {},
   "outputs": [],
   "source": [
    "!pip install xgboost graphviz"
   ]
  },
  {
   "cell_type": "code",
   "execution_count": null,
   "id": "00d3bb7b-54be-4732-893d-869dd1afbbe0",
   "metadata": {},
   "outputs": [],
   "source": [
    "import xgboost as xgb\n",
    "import matplotlib.pyplot as plt"
   ]
  },
  {
   "cell_type": "code",
   "execution_count": null,
   "id": "79f557f9-c4f0-4fa9-a106-68e6bd3bc509",
   "metadata": {},
   "outputs": [],
   "source": [
    "model = xgb.XGBClassifier()\n",
    "model.load_model(\"./model/xgboost-model\")"
   ]
  },
  {
   "cell_type": "code",
   "execution_count": null,
   "id": "87cfb601-d609-4d34-bcfd-6d5a43000584",
   "metadata": {},
   "outputs": [],
   "source": [
    "test_prep_df = pd.read_csv('../data/dataset/test.csv')\n",
    "x_test = test_prep_df.drop('fraud', axis=1)\n",
    "feature_data = xgb.DMatrix(x_test)\n",
    "model.get_booster().feature_names = feature_data.feature_names\n",
    "model.get_booster().feature_types = feature_data.feature_types\n",
    "fig, ax = plt.subplots(figsize=(15, 8))\n",
    "xgb.plot_importance(model, ax=ax, importance_type='gain')"
   ]
  },
  {
   "cell_type": "code",
   "execution_count": null,
   "id": "1f696610-36d6-4e73-86e4-1a77ae781a08",
   "metadata": {},
   "outputs": [],
   "source": [
    "xgb.plot_tree(model, num_trees=0, rankdir='LR')\n",
    "\n",
    "fig = plt.gcf()\n",
    "fig.set_size_inches(50, 15)\n",
    "plt.show()"
   ]
  },
  {
   "cell_type": "code",
   "execution_count": null,
   "id": "2554a292-3e72-4e17-8e61-a55aaeb71b12",
   "metadata": {},
   "outputs": [],
   "source": []
  },
  {
   "cell_type": "code",
   "execution_count": null,
   "id": "afaf7c5f-41ec-4e7c-a82b-49dcf20924ae",
   "metadata": {},
   "outputs": [],
   "source": []
  }
 ],
 "metadata": {
  "kernelspec": {
   "display_name": "conda_python3",
   "language": "python",
   "name": "conda_python3"
  },
  "language_info": {
   "codemirror_mode": {
    "name": "ipython",
    "version": 3
   },
   "file_extension": ".py",
   "mimetype": "text/x-python",
   "name": "python",
   "nbconvert_exporter": "python",
   "pygments_lexer": "ipython3",
   "version": "3.10.16"
  }
 },
 "nbformat": 4,
 "nbformat_minor": 5
}
