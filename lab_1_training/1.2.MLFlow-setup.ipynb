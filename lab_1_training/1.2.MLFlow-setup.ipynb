{
 "cells": [
  {
   "cell_type": "markdown",
   "id": "02127090-ee33-4005-b5af-5f4e386ed1a6",
   "metadata": {},
   "source": [
    "# Amazon SageMaker와 MLflow 설정 방법"
   ]
  },
  {
   "cell_type": "markdown",
   "id": "9f09f362-71a7-409c-a4c7-0ee5e59c1581",
   "metadata": {},
   "source": [
    "## Updates and Imports"
   ]
  },
  {
   "cell_type": "code",
   "execution_count": null,
   "id": "329cf85a-352c-4f55-8e2a-4771a26fbe70",
   "metadata": {},
   "outputs": [],
   "source": [
    "import json\n",
    "import sagemaker\n",
    "import boto3\n",
    "import time\n",
    "from botocore.exceptions import ClientError"
   ]
  },
  {
   "cell_type": "markdown",
   "id": "95c2869e-1845-4534-bf97-d530b5c27c48",
   "metadata": {},
   "source": [
    "Session variables"
   ]
  },
  {
   "cell_type": "code",
   "execution_count": null,
   "id": "ece22344-f747-4fb2-9051-3640dd95dd6b",
   "metadata": {},
   "outputs": [],
   "source": [
    "sess = sagemaker.Session()\n",
    "bucket_name = sess.default_bucket()\n",
    "role = sagemaker.get_execution_role()\n",
    "region = sess.boto_region_name\n",
    "\n",
    "iam_client = boto3.client(\"iam\")\n",
    "sts_client = boto3.client(\"sts\")\n",
    "sm_client = boto3.client(\"sagemaker\")\n",
    "account_id = sts_client.get_caller_identity()[\"Account\"]\n",
    "tracking_server_name = \"my-setup-test3\"\n",
    "mlflow_role_name = \"mlflow-test3\""
   ]
  },
  {
   "cell_type": "markdown",
   "id": "6c292837-353c-4c3c-91b9-3088e8d5a02b",
   "metadata": {},
   "source": [
    "## MLflow Permissions"
   ]
  },
  {
   "cell_type": "markdown",
   "id": "e6bae350-030f-4ecf-8380-5b11b73b5806",
   "metadata": {},
   "source": [
    "# MLflow 추적 서버를 위한 IAM 역할\n",
    "\n",
    "이 다음 셀을 실행하려면 이 노트북을 실행하는 데 사용되는 IAM 역할에 IAM 역할을 생성할 수 있는 권한이 있는지 확인하세요.\n",
    "노트북 실행 역할의 정책에서 `iam:CreateRole`, `iam:CreatePolicy`, `iam:ListPolicies` 및 `iam:AttachRolePolicy` 작업이 허용되어야 합니다.\n",
    "\n",
    "SageMaker Studio에서 이 노트북을 실행하는 경우, 다음 단계를 통해 노트북 실행 역할을 업데이트할 수 있습니다:\n",
    "\n",
    "1. AWS 콘솔로 이동하여 사용 중인 도메인을 선택합니다\n",
    "2. 도메인 아래에서 사용 중인 사용자 프로필을 선택합니다. 실행 역할이 거기에 나열되어 있을 것입니다.\n",
    "3. IAM 콘솔로 이동하여 \"역할\" 아래에서 실행 역할을 검색하고, `iam:CreateRole`, `iam:CreatePolicy`, `iam:ListPolicies` 및 `iam:AttachRolePolicy` 작업을 허용하는 정책으로 역할을 업데이트합니다.\n",
    "\n",
    "SageMaker Studio 노트북을 사용하지 않는 경우, AWS CLI를 구성하는 데 사용한 역할에 IAM 역할을 생성하고 정책을 연결할 수 있는 적절한 권한이 있는지 확인하세요.\n",
    "\n",
    "다음은 역할에 추가할 수 있는 인라인 정책의 예시입니다:\n",
    "\n",
    "```json\n",
    "{\n",
    "    \"Version\": \"2012-10-17\",\n",
    "    \"Statement\": [\n",
    "        {\n",
    "            \"Sid\": \"Statement1\",\n",
    "            \"Effect\": \"Allow\",\n",
    "            \"Action\": [\n",
    "                \"iam:ListPolicies\",\n",
    "                \"iam:CreatePolicy\",\n",
    "                \"iam:CreateRole\",\n",
    "                \"iam:AttachRolePolicy\"\n",
    "            ],\n",
    "            \"Resource\": [\n",
    "                \"*\"\n",
    "            ]\n",
    "        }\n",
    "    ]\n",
    "}"
   ]
  },
  {
   "cell_type": "code",
   "execution_count": null,
   "id": "76ce90e5-e963-4f54-a3cb-d997788cf139",
   "metadata": {},
   "outputs": [],
   "source": [
    "role_name = role.split('/')[-1]\n",
    "\n",
    "print(f\"현재 SageMaker 실행 역할: {role_name}\")\n",
    "\n",
    "# MLflow 권한 정책 생성 (AccessUI 권한 추가)\n",
    "mlflow_policy_name = \"sagemaker-mlflow-permissions\"\n",
    "mlflow_policy_document = {\n",
    "    \"Version\": \"2012-10-17\",\n",
    "    \"Statement\": [\n",
    "        {\n",
    "            \"Effect\": \"Allow\",\n",
    "            \"Action\": [\n",
    "                \"sagemaker-mlflow:*\"\n",
    "            ],\n",
    "            \"Resource\": f\"arn:aws:sagemaker:{region}:{account_id}:mlflow-tracking-server/*\"\n",
    "        }\n",
    "    ]\n",
    "}\n",
    "\n",
    "# 정책 생성 또는 기존 정책 업데이트\n",
    "try:\n",
    "    # 정책 생성 시도\n",
    "    mlflow_iam_policy = iam_client.create_policy(\n",
    "        PolicyName=mlflow_policy_name, \n",
    "        PolicyDocument=json.dumps(mlflow_policy_document)\n",
    "    )\n",
    "    mlflow_policy_arn = mlflow_iam_policy[\"Policy\"][\"Arn\"]\n",
    "    print(f\"새 정책 생성됨: {mlflow_policy_name}\")\n",
    "except iam_client.exceptions.EntityAlreadyExistsException:\n",
    "    # 정책이 이미 존재하는 경우, 버전 업데이트\n",
    "    mlflow_policy_arn = f\"arn:aws:iam::{account_id}:policy/{mlflow_policy_name}\"\n",
    "    \n",
    "    # 기존 정책 버전 확인\n",
    "    policy_versions = iam_client.list_policy_versions(PolicyArn=mlflow_policy_arn)\n",
    "    \n",
    "    # 버전이 5개 이상이면 가장 오래된 버전(기본 버전 아닌) 삭제\n",
    "    if len(policy_versions['Versions']) >= 5:\n",
    "        for version in policy_versions['Versions']:\n",
    "            if not version['IsDefaultVersion']:\n",
    "                iam_client.delete_policy_version(\n",
    "                    PolicyArn=mlflow_policy_arn,\n",
    "                    VersionId=version['VersionId']\n",
    "                )\n",
    "                print(f\"오래된 정책 버전 {version['VersionId']} 삭제됨\")\n",
    "                break\n",
    "    \n",
    "    # 새 버전 생성\n",
    "    iam_client.create_policy_version(\n",
    "        PolicyArn=mlflow_policy_arn,\n",
    "        PolicyDocument=json.dumps(mlflow_policy_document),\n",
    "        SetAsDefault=True\n",
    "    )\n",
    "    print(f\"기존 정책 {mlflow_policy_name} 업데이트됨\")\n",
    "\n",
    "# 역할에 정책이 이미 연결되어 있는지 확인\n",
    "attached_policies = iam_client.list_attached_role_policies(RoleName=role_name)\n",
    "policy_already_attached = False\n",
    "\n",
    "for policy in attached_policies.get('AttachedPolicies', []):\n",
    "    if policy['PolicyArn'] == mlflow_policy_arn:\n",
    "        policy_already_attached = True\n",
    "        print(f\"정책 {mlflow_policy_name}이(가) 이미 역할 {role_name}에 연결되어 있습니다.\")\n",
    "        break\n",
    "\n",
    "# 정책이 연결되어 있지 않은 경우 연결\n",
    "if not policy_already_attached:\n",
    "    iam_client.attach_role_policy(\n",
    "        RoleName=role_name, \n",
    "        PolicyArn=mlflow_policy_arn\n",
    "    )\n",
    "    print(f\"정책 {mlflow_policy_name}을(를) 역할 {role_name}에 연결했습니다.\")\n",
    "    print(\"이제 MLflow UI 및 기타 작업을 수행할 수 있는 권한이 있습니다.\")\n",
    "else:\n",
    "    print(\"MLflow 작업을 수행할 수 있는 권한이 이미 있습니다.\")\n",
    "\n",
    "print(\"\\n권한 변경이 적용되는 데 몇 분 정도 소요될 수 있습니다.\")"
   ]
  },
  {
   "cell_type": "code",
   "execution_count": null,
   "id": "96c0ad98-f237-4bfd-b134-40b46ebfa81d",
   "metadata": {},
   "outputs": [],
   "source": [
    "mlflow_trust_policy = {\n",
    "    \"Version\": \"2012-10-17\",\n",
    "    \"Statement\": [\n",
    "        {\n",
    "            \"Effect\": \"Allow\",\n",
    "            \"Principal\": {\"Service\": [\"sagemaker.amazonaws.com\"]},\n",
    "            \"Action\": \"sts:AssumeRole\",\n",
    "        }\n",
    "    ],\n",
    "}\n",
    "\n",
    "# Create role for MLflow (if it doesn't exist)\n",
    "try:\n",
    "    mlflow_role = iam_client.create_role(\n",
    "        RoleName=mlflow_role_name, AssumeRolePolicyDocument=json.dumps(mlflow_trust_policy)\n",
    "    )\n",
    "    mlflow_role_arn = mlflow_role[\"Role\"][\"Arn\"]\n",
    "    print(f\"Created new role: {mlflow_role_name}\")\n",
    "except iam_client.exceptions.EntityAlreadyExistsException:\n",
    "    # Role already exists, get its ARN\n",
    "    mlflow_role = iam_client.get_role(RoleName=mlflow_role_name)\n",
    "    mlflow_role_arn = mlflow_role[\"Role\"][\"Arn\"]\n",
    "    print(f\"Using existing role: {mlflow_role_name}\")\n",
    "\n",
    "# Create policy for S3 and SageMaker Model Registry (if it doesn't exist)\n",
    "policy_name = \"mlflow-s3-sm-model-registry\"\n",
    "sm_s3_model_registry_policy = {\n",
    "    \"Version\": \"2012-10-17\",\n",
    "    \"Statement\": [\n",
    "        {\n",
    "            \"Effect\": \"Allow\",\n",
    "            \"Action\": [\n",
    "                \"s3:Get*\",\n",
    "                \"s3:Put*\",\n",
    "                \"s3:List*\",\n",
    "                \"sagemaker:AddTags\",\n",
    "                \"sagemaker:CreateModelPackageGroup\",\n",
    "                \"sagemaker:CreateModelPackage\",\n",
    "                \"sagemaker:UpdateModelPackage\",\n",
    "                \"sagemaker:DescribeModelPackageGroup\",\n",
    "            ],\n",
    "            \"Resource\": \"*\",\n",
    "        }\n",
    "    ],\n",
    "}\n",
    "\n",
    "try:\n",
    "    # Try to create the policy\n",
    "    mlflow_s3_sm_model_registry_iam_policy = iam_client.create_policy(\n",
    "        PolicyName=policy_name, PolicyDocument=json.dumps(sm_s3_model_registry_policy)\n",
    "    )\n",
    "    mlflow_s3_sm_model_registry_iam_policy_arn = mlflow_s3_sm_model_registry_iam_policy[\"Policy\"][\"Arn\"]\n",
    "    print(f\"Created new policy: {policy_name}\")\n",
    "except iam_client.exceptions.EntityAlreadyExistsException:\n",
    "    # Policy already exists, get its ARN\n",
    "    account_id = boto3.client('sts').get_caller_identity().get('Account')\n",
    "    mlflow_s3_sm_model_registry_iam_policy_arn = f\"arn:aws:iam::{account_id}:policy/{policy_name}\"\n",
    "    print(f\"Using existing policy: {policy_name}\")\n",
    "\n",
    "# Check if the policy is already attached to the role\n",
    "attached_policies = iam_client.list_attached_role_policies(RoleName=mlflow_role_name)\n",
    "policy_already_attached = False\n",
    "\n",
    "for policy in attached_policies.get('AttachedPolicies', []):\n",
    "    if policy['PolicyArn'] == mlflow_s3_sm_model_registry_iam_policy_arn:\n",
    "        policy_already_attached = True\n",
    "        print(f\"Policy {policy_name} is already attached to role {mlflow_role_name}\")\n",
    "        break\n",
    "\n",
    "# Attach the policy to the MLflow role if not already attached\n",
    "if not policy_already_attached:\n",
    "    iam_client.attach_role_policy(\n",
    "        RoleName=mlflow_role_name, PolicyArn=mlflow_s3_sm_model_registry_iam_policy_arn\n",
    "    )\n",
    "    print(f\"Attached policy {policy_name} to role {mlflow_role_name}\")"
   ]
  },
  {
   "cell_type": "markdown",
   "id": "65e2744c-c1b4-4444-9e8f-fbf1315a71a4",
   "metadata": {},
   "source": [
    "참고: SageMaker 실행 역할은 Mlflow REST API를 호출하기 위해 다음 권한이 있어야 합니다:\n",
    "\n",
    "```json\n",
    "{\n",
    "    \"Version\": \"2012-10-17\",    \n",
    "    \"Statement\": [        \n",
    "        {            \n",
    "            \"Effect\": \"Allow\",            \n",
    "            \"Action\": [\n",
    "                \"sagemaker-mlflow:*\",\n",
    "                \"sagemaker:CreateMlflowTrackingServer\",\n",
    "                \"sagemaker:UpdateMlflowTrackingServer\",\n",
    "                \"sagemaker:DeleteMlflowTrackingServer\",\n",
    "                \"sagemaker:StartMlflowTrackingServer\",\n",
    "                \"sagemaker:StopMlflowTrackingServer\",\n",
    "                \"sagemaker:CreatePresignedMlflowTrackingServerUrl\"\n",
    "            ],            \n",
    "            \"Resource\": \"*\"        \n",
    "        }        \n",
    "    ]\n",
    "}\n",
    "```"
   ]
  },
  {
   "cell_type": "markdown",
   "id": "ade88b9a-961a-4ced-9320-e56d7e9cf3eb",
   "metadata": {},
   "source": [
    "## MLflow Tracking Server 생성"
   ]
  },
  {
   "cell_type": "code",
   "execution_count": null,
   "id": "defeb9ef-0cbf-4c89-82e3-ac99103c390a",
   "metadata": {
    "scrolled": true
   },
   "outputs": [],
   "source": [
    "def check_mlflow_server_exists(server_name):\n",
    "    \"\"\"MLflow 서버가 존재하는지 확인하는 함수\"\"\"\n",
    "    try:\n",
    "        response = sm_client.describe_mlflow_tracking_server(\n",
    "            TrackingServerName=server_name\n",
    "        )\n",
    "        # 서버가 존재하면 상태 반환\n",
    "        return True, response['TrackingServerStatus']\n",
    "    except ClientError as e:\n",
    "        if e.response['Error']['Code'] == 'ResourceNotFound':\n",
    "            # 서버가 존재하지 않음\n",
    "            return False, None\n",
    "        else:\n",
    "            # 다른 오류 발생\n",
    "            raise e\n",
    "\n",
    "# MLflow 서버가 존재하는지 확인\n",
    "server_exists, server_status = check_mlflow_server_exists(tracking_server_name)\n",
    "\n",
    "if server_exists:\n",
    "    print(f\"MLflow 서버 '{tracking_server_name}'이(가) 이미 존재합니다. 상태: {server_status}\")\n",
    "else:\n",
    "    print(f\"MLflow 서버 '{tracking_server_name}'을(를) 생성합니다...\")\n",
    "    try:\n",
    "        response = sm_client.create_mlflow_tracking_server(\n",
    "            TrackingServerName=tracking_server_name,\n",
    "            ArtifactStoreUri=f\"s3://{bucket_name}/{tracking_server_name}\",\n",
    "            TrackingServerSize=\"Small\",\n",
    "            MlflowVersion=\"2.13.2\",\n",
    "            RoleArn=mlflow_role_arn,\n",
    "            AutomaticModelRegistration=False,\n",
    "        )\n",
    "        \n",
    "        print(f\"MLflow 서버 생성 요청이 제출되었습니다. ARN: {response['TrackingServerArn']}\")\n",
    "        \n",
    "        # 선택적: 서버가 활성화될 때까지 대기\n",
    "        print(\"서버가 활성화될 때까지 대기 중...\")\n",
    "        while True:\n",
    "            _, current_status = check_mlflow_server_exists(tracking_server_name)\n",
    "            print(f\"현재 상태: {current_status}\")\n",
    "            \n",
    "            if current_status == 'InService':\n",
    "                print(\"MLflow 서버가 성공적으로 생성되었습니다!\")\n",
    "                break\n",
    "            elif current_status in ['Failed', 'Deleting']:\n",
    "                print(f\"MLflow 서버 생성 실패: {current_status}\")\n",
    "                break\n",
    "            \n",
    "            time.sleep(120)  # 30초마다 상태 확인\n",
    "            \n",
    "    except ClientError as e:\n",
    "        print(f\"MLflow 서버 생성 중 오류 발생: {e}\")"
   ]
  },
  {
   "cell_type": "code",
   "execution_count": null,
   "id": "20d535f6-6dd2-4c5c-99e3-8b428c052c70",
   "metadata": {},
   "outputs": [],
   "source": [
    "tracking_server_arn = (\n",
    "    f\"arn:aws:sagemaker:{region}:{account_id}:mlflow-tracking-server/{tracking_server_name}\"\n",
    ")"
   ]
  },
  {
   "cell_type": "code",
   "execution_count": null,
   "id": "ddff09d7-73aa-4f77-b437-1e8c05c59ea2",
   "metadata": {},
   "outputs": [],
   "source": [
    "sm_client.describe_mlflow_tracking_server(TrackingServerName=tracking_server_name)"
   ]
  },
  {
   "cell_type": "markdown",
   "id": "e6c50a30-89e4-4ea9-8fe8-df15a2f7726e",
   "metadata": {},
   "source": [
    "MLflow SDK와 MLflow AWS 플러그인을 설치하세요."
   ]
  },
  {
   "cell_type": "code",
   "execution_count": null,
   "id": "2232f516-f23c-4c0d-ada2-933a45fea6e9",
   "metadata": {},
   "outputs": [],
   "source": [
    "!pip install --quiet mlflow==2.13.2 sagemaker-mlflow==0.1.0"
   ]
  },
  {
   "cell_type": "markdown",
   "id": "073d12e9-b91e-4c0c-93d1-8cae66648e49",
   "metadata": {},
   "source": [
    "## MLflow tracking 테스트"
   ]
  },
  {
   "cell_type": "markdown",
   "id": "ad90cde7-9de2-4df7-80a5-010165edafce",
   "metadata": {},
   "source": [
    "tracking server 에 연결"
   ]
  },
  {
   "cell_type": "code",
   "execution_count": null,
   "id": "a7a43ce7-3e9a-4b47-b051-9f59522ee43f",
   "metadata": {},
   "outputs": [],
   "source": [
    "import mlflow\n",
    "\n",
    "mlflow.set_tracking_uri(tracking_server_arn)"
   ]
  },
  {
   "cell_type": "markdown",
   "id": "c9197fca-6370-4f91-a52f-440ef5b22484",
   "metadata": {},
   "source": [
    "Log a metric"
   ]
  },
  {
   "cell_type": "code",
   "execution_count": null,
   "id": "bab5d5df-c1a8-4a2b-89e1-52d36d630f3d",
   "metadata": {},
   "outputs": [],
   "source": [
    "with mlflow.start_run():\n",
    "    mlflow.log_metric(\"foo\", 1)"
   ]
  },
  {
   "cell_type": "markdown",
   "id": "d603ef2f-9c42-4ef2-896e-73ab1eaa6ace",
   "metadata": {},
   "source": [
    "MLflow UI에서 결과를 확인하세요. SageMaker Studio 내에서 MLflow UI를 실행하거나, 다음과 같이 미리 서명된 URL을 생성할 수 있습니다:"
   ]
  },
  {
   "cell_type": "code",
   "execution_count": null,
   "id": "0690708f-976c-472e-8e4d-281aa163e9aa",
   "metadata": {},
   "outputs": [],
   "source": [
    "sm_client.create_presigned_mlflow_tracking_server_url(TrackingServerName=tracking_server_name)"
   ]
  },
  {
   "cell_type": "code",
   "execution_count": null,
   "id": "17f8dc68-f6d5-4b6b-8e60-cec99b650788",
   "metadata": {},
   "outputs": [],
   "source": [
    "%store tracking_server_name"
   ]
  },
  {
   "cell_type": "code",
   "execution_count": null,
   "id": "828e9e54-c398-4223-93d5-7f24d1db5f1d",
   "metadata": {},
   "outputs": [],
   "source": []
  }
 ],
 "metadata": {
  "kernelspec": {
   "display_name": "conda_python3",
   "language": "python",
   "name": "conda_python3"
  },
  "language_info": {
   "codemirror_mode": {
    "name": "ipython",
    "version": 3
   },
   "file_extension": ".py",
   "mimetype": "text/x-python",
   "name": "python",
   "nbconvert_exporter": "python",
   "pygments_lexer": "ipython3",
   "version": "3.10.16"
  }
 },
 "nbformat": 4,
 "nbformat_minor": 5
}
