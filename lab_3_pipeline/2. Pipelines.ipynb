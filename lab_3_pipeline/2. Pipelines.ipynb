{
 "cells": [
  {
   "cell_type": "markdown",
   "id": "339a1a70-4419-4866-b7d4-2eebfb81a1f5",
   "metadata": {},
   "source": [
    "# Orchestrating Jobs, Model Registration, and Continuous Deployment with Amazon SageMaker\n",
    "\n",
    "Amazon SageMaker는 머신 러닝 애플리케이션 개발자와 머신 러닝 운영 엔지니어에게 SageMaker 작업을 오케스트레이션하고 재현 가능한 머신 러닝 파이프라인을 작성하며, 짧은 지연 시간으로 실시간으로 추론을 위한 사용자 정의 구축 모델을 배포하거나 배치 변환을 통해 오프라인으로 추론하고 아티팩트의 계보를 추적할 수 있는 기능을 제공합니다. 프로덕션 워크플로우를 배포 및 모니터링하고, 모델 아티팩트를 배포하고, 간단한 인터페이스를 통해 아티팩트 계보를 추적하면서 머신 러닝 애플리케이션 개발을 위한 안전 및 모범 사례 패러다임을 준수하는 건전한 운영 관행을 확립할 수 있습니다.\n",
    "\n",
    "SageMaker Pipelines service는 선언적 Json 사양인 SageMaker Machine Learning Pipeline Domain Specific Language(DSL)를 지원합니다. 이 DSL은 파이프라인 매개변수와 SageMaker 작업 단계의 방향성 비순환 그래프(DAG)를 정의합니다. SageMaker Python 소프트웨어 개발자 키트(SDK)는 엔지니어와 과학자 모두에게 이미 익숙한 구성을 사용하여 파이프라인 DSL 생성을 간소화합니다.\n",
    "\n",
    "\n",
    "SageMaker Model Registry는 학습된 모델을 저장, 버전 관리 및 관리하는 곳입니다. 데이터 과학자와 머신 러닝 엔지니어는 단일 Model Registry에서 모델 버전을 비교하고, 배포할 모델을 승인하고, 서로 다른 AWS 계정에서 모델을 배포할 수 있습니다. SageMaker를 통해 고객은 머신 러닝 운영 모범 사례를 따르고 올바르게 시작할 수 있습니다. 고객은 단 한 번의 API 호출로 전체 ML Ops end-to-end 시스템을 구축할 수 있습니다."
   ]
  },
  {
   "cell_type": "markdown",
   "id": "d50c0519-c407-4bce-8e8a-504095d6f1cc",
   "metadata": {},
   "source": [
    "## SageMaker Pipelines\n",
    "\n",
    "Amazon SageMaker Pipelines은 다음과 같은 활동을 지원합니다:\n",
    "\n",
    "* Pipelines - 단계 및 조건의 방향성 비순환 그래프로 SageMaker 작업 및 리소스 생성을 오케스트레이션합니다.\n",
    "* Processing Job steps - feature engineering, data validation, model evaluation와 model interpretation 등과 같은 데이터 처리 워크로드를 실행하기 위한 SageMaker의 간소화된 관리 환경입니다.\n",
    "* Training Job steps -학습 데이터 세트의 예제를 제시하여 예측을 수행하도록 모델을 가르치는 반복적인 프로세스입니다.\n",
    "* Conditional step execution - Pipeline 에서 브랜치의 조건부 실행을 제공합니다.\n",
    "* Registering Models - Model Registry에 model package 리소스를 생성하여 Amazon SageMaker에서 배포 가능한 모델을 만드는 데 사용할 수 있습니다.\n",
    "* Creating Model steps - transform 단계에서 사용하거나 나중에 endpoint로 게시할 모델을 만듭니다.\n",
    "* Parameterized Pipeline executions - 제공된 매개변수에 따라 파이프라인 실행을 변경할 수 있습니다.\n",
    "* Transform Job steps - 데이터 세트에서 학습 또는 추론을 방해하는 노이즈나 편향을 제거하고, 대규모 데이터 세트에서 추론을 얻고, 영구적인 endpoint가 필요하지 않은 경우 추론을 실행하기 위해 데이터 세트를 전처리하는 batch transform 입니다.\n",
    "* Pipelines - 단계 및 조건의 방향성 비순환 그래프로 SageMaker 작업 및 리소스 생성을 오케스트레이션합니다."
   ]
  },
  {
   "cell_type": "markdown",
   "id": "f723f1ba-96a5-4a84-8a7b-c99f2dd7e1c8",
   "metadata": {},
   "source": [
    "### A SageMaker Pipeline\n",
    "\n",
    "우리가 만드는 파이프라인은 모델의 품질이 충분한 경우 pre-processing, training, evaluation, and conditional model registration 및 게시의 일반적인 머신 러닝 애플리케이션 패턴을 따릅니다.\n",
    "\n",
    "![A typical ML Application pipeline](img/pipeline-full.png)\n",
    "\n",
    "### Getting some constants\n",
    "\n",
    "로컬 실행 환경에서 몇 가지 constants를 가져옵니다."
   ]
  },
  {
   "cell_type": "code",
   "execution_count": 34,
   "id": "6359b203-78a2-4f54-afda-287bcde67c46",
   "metadata": {},
   "outputs": [],
   "source": [
    "import os\n",
    "\n",
    "import boto3\n",
    "import sagemaker\n",
    "import sagemaker.session\n",
    "\n",
    "from sagemaker.estimator import Estimator\n",
    "from sagemaker.inputs import TrainingInput\n",
    "from sagemaker.model_metrics import (\n",
    "    MetricsSource,\n",
    "    ModelMetrics,\n",
    ")\n",
    "from sagemaker.processing import (\n",
    "    ProcessingInput,\n",
    "    ProcessingOutput,\n",
    "    ScriptProcessor,\n",
    ")\n",
    "from sagemaker.sklearn.processing import SKLearnProcessor\n",
    "from sagemaker.workflow.conditions import ConditionLessThanOrEqualTo\n",
    "from sagemaker.workflow.condition_step import (\n",
    "    ConditionStep,\n",
    ")\n",
    "from sagemaker.workflow.functions import (\n",
    "    JsonGet,\n",
    ")\n",
    "from sagemaker.workflow.parameters import (\n",
    "    ParameterInteger,\n",
    "    ParameterString,\n",
    ")\n",
    "from sagemaker.workflow.pipeline import Pipeline\n",
    "from sagemaker.workflow.properties import PropertyFile\n",
    "from sagemaker.workflow.steps import (\n",
    "    ProcessingStep,\n",
    "    TrainingStep,\n",
    ")\n",
    "from sagemaker.workflow.model_step import ModelStep\n",
    "from sagemaker.model import Model\n",
    "from sagemaker.workflow.pipeline_context import PipelineSession"
   ]
  },
  {
   "cell_type": "code",
   "execution_count": 35,
   "id": "85a68abd-de88-4718-8b3e-ce8d93863f0c",
   "metadata": {},
   "outputs": [
    {
     "data": {
      "text/plain": [
       "PosixPath('/home/sagemaker-user/simple-sagemaker/lab_4_new_pipeline')"
      ]
     },
     "execution_count": 35,
     "metadata": {},
     "output_type": "execute_result"
    }
   ],
   "source": [
    "from pathlib import Path\n",
    "\n",
    "BASE_DIR= Path.cwd()\n",
    "BASE_DIR"
   ]
  },
  {
   "cell_type": "code",
   "execution_count": 36,
   "id": "9dadbf8e-7dbd-4145-824e-7057164ac568",
   "metadata": {},
   "outputs": [],
   "source": [
    "def get_sagemaker_client(region):\n",
    "     \"\"\"Gets the sagemaker client.\n",
    "\n",
    "        Args:\n",
    "            region: the aws region to start the session\n",
    "            default_bucket: the bucket to use for storing the artifacts\n",
    "\n",
    "        Returns:\n",
    "            `sagemaker.session.Session instance\n",
    "        \"\"\"\n",
    "     boto_session = boto3.Session(region_name=region)\n",
    "     sagemaker_client = boto_session.client(\"sagemaker\")\n",
    "     return sagemaker_client\n",
    "\n",
    "\n",
    "def get_session(region, default_bucket):\n",
    "    \"\"\"Gets the sagemaker session based on the region.\n",
    "\n",
    "    Args:\n",
    "        region: the aws region to start the session\n",
    "        default_bucket: the bucket to use for storing the artifacts\n",
    "\n",
    "    Returns:\n",
    "        `sagemaker.session.Session instance\n",
    "    \"\"\"\n",
    "\n",
    "    boto_session = boto3.Session(region_name=region)\n",
    "\n",
    "    sagemaker_client = boto_session.client(\"sagemaker\")\n",
    "    runtime_client = boto_session.client(\"sagemaker-runtime\")\n",
    "    return sagemaker.session.Session(\n",
    "        boto_session=boto_session,\n",
    "        sagemaker_client=sagemaker_client,\n",
    "        sagemaker_runtime_client=runtime_client,\n",
    "        default_bucket=default_bucket,\n",
    "    )\n",
    "\n",
    "def get_pipeline_session(region, default_bucket):\n",
    "    \"\"\"Gets the pipeline session based on the region.\n",
    "\n",
    "    Args:\n",
    "        region: the aws region to start the session\n",
    "        default_bucket: the bucket to use for storing the artifacts\n",
    "\n",
    "    Returns:\n",
    "        PipelineSession instance\n",
    "    \"\"\"\n",
    "\n",
    "    boto_session = boto3.Session(region_name=region)\n",
    "    sagemaker_client = boto_session.client(\"sagemaker\")\n",
    "\n",
    "    return PipelineSession(\n",
    "        boto_session=boto_session,\n",
    "        sagemaker_client=sagemaker_client,\n",
    "        default_bucket=default_bucket,\n",
    "    )\n",
    "\n",
    "def get_pipeline_custom_tags(new_tags, region, sagemaker_project_name=None):\n",
    "    try:\n",
    "        sm_client = get_sagemaker_client(region)\n",
    "        response = sm_client.describe_project(ProjectName=sagemaker_project_name)\n",
    "        sagemaker_project_arn = response[\"ProjectArn\"]\n",
    "        response = sm_client.list_tags(\n",
    "            ResourceArn=sagemaker_project_arn)\n",
    "        project_tags = response[\"Tags\"]\n",
    "        for project_tag in project_tags:\n",
    "            new_tags.append(project_tag)\n",
    "    except Exception as e:\n",
    "        print(f\"Error getting project tags: {e}\")\n",
    "    return new_tags"
   ]
  },
  {
   "cell_type": "code",
   "execution_count": 37,
   "id": "fab42de2-9b01-4430-b433-288c24866c3c",
   "metadata": {},
   "outputs": [],
   "source": [
    "region = boto3.session.Session().region_name\n",
    "default_bucket = sagemaker.Session().default_bucket()"
   ]
  },
  {
   "cell_type": "code",
   "execution_count": 38,
   "id": "518891ae-08c4-4243-942b-9a69ab834181",
   "metadata": {},
   "outputs": [],
   "source": [
    "def get_pipeline(\n",
    "    region,\n",
    "    sagemaker_project_name=None,\n",
    "    role=None,\n",
    "    default_bucket=None,\n",
    "    model_package_group_name=\"AbalonePackageGroup\",\n",
    "    pipeline_name=\"AbalonePipeline\",\n",
    "    base_job_prefix=\"Abalone\",\n",
    "    processing_instance_type=\"ml.m5.xlarge\",\n",
    "    training_instance_type=\"ml.m5.xlarge\",\n",
    "):\n",
    "    \"\"\"Gets a SageMaker ML Pipeline instance working with on abalone data.\n",
    "\n",
    "    Args:\n",
    "        region: AWS region to create and run the pipeline.\n",
    "        role: IAM role to create and run steps and pipeline.\n",
    "        default_bucket: the bucket to use for storing the artifacts\n",
    "\n",
    "    Returns:\n",
    "        an instance of a pipeline\n",
    "    \"\"\"\n",
    "    sagemaker_session = get_session(region, default_bucket)\n",
    "    if role is None:\n",
    "        role = sagemaker.session.get_execution_role(sagemaker_session)\n",
    "\n",
    "    pipeline_session = get_pipeline_session(region, default_bucket)\n",
    "\n",
    "    # parameters for pipeline execution\n",
    "    processing_instance_count = ParameterInteger(name=\"ProcessingInstanceCount\", default_value=1)\n",
    "    model_approval_status = ParameterString(\n",
    "        name=\"ModelApprovalStatus\", default_value=\"PendingManualApproval\"\n",
    "    )\n",
    "    input_data = ParameterString(\n",
    "        name=\"InputDataUrl\",\n",
    "        default_value=f\"s3://sagemaker-servicecatalog-seedcode-{region}/dataset/abalone-dataset.csv\",\n",
    "    )\n",
    "\n",
    "    # processing step for feature engineering\n",
    "    sklearn_processor = SKLearnProcessor(\n",
    "        framework_version=\"0.23-1\",\n",
    "        instance_type=processing_instance_type,\n",
    "        instance_count=processing_instance_count,\n",
    "        base_job_name=f\"{base_job_prefix}/sklearn-abalone-preprocess\",\n",
    "        sagemaker_session=pipeline_session,\n",
    "        role=role,\n",
    "    )\n",
    "    step_args = sklearn_processor.run(\n",
    "        outputs=[\n",
    "            ProcessingOutput(output_name=\"train\", source=\"/opt/ml/processing/train\"),\n",
    "            ProcessingOutput(output_name=\"validation\", source=\"/opt/ml/processing/validation\"),\n",
    "            ProcessingOutput(output_name=\"test\", source=\"/opt/ml/processing/test\"),\n",
    "        ],\n",
    "        code=os.path.join(BASE_DIR, \"preprocess.py\"),\n",
    "        arguments=[\"--input-data\", input_data],\n",
    "    )\n",
    "    step_process = ProcessingStep(\n",
    "        name=\"PreprocessAbaloneData\",\n",
    "        step_args=step_args,\n",
    "    )\n",
    "\n",
    "    # training step for generating model artifacts\n",
    "    model_path = f\"s3://{sagemaker_session.default_bucket()}/{base_job_prefix}/AbaloneTrain\"\n",
    "    image_uri = sagemaker.image_uris.retrieve(\n",
    "        framework=\"xgboost\",\n",
    "        region=region,\n",
    "        version=\"1.0-1\",\n",
    "        py_version=\"py3\",\n",
    "        instance_type=training_instance_type,\n",
    "    )\n",
    "    xgb_train = Estimator(\n",
    "        image_uri=image_uri,\n",
    "        instance_type=training_instance_type,\n",
    "        instance_count=1,\n",
    "        output_path=model_path,\n",
    "        base_job_name=f\"{base_job_prefix}/abalone-train\",\n",
    "        sagemaker_session=pipeline_session,\n",
    "        role=role,\n",
    "    )\n",
    "    xgb_train.set_hyperparameters(\n",
    "        objective=\"reg:linear\",\n",
    "        num_round=50,\n",
    "        max_depth=5,\n",
    "        eta=0.2,\n",
    "        gamma=4,\n",
    "        min_child_weight=6,\n",
    "        subsample=0.7,\n",
    "        silent=0,\n",
    "    )\n",
    "    step_args = xgb_train.fit(\n",
    "        inputs={\n",
    "            \"train\": TrainingInput(\n",
    "                s3_data=step_process.properties.ProcessingOutputConfig.Outputs[\n",
    "                    \"train\"\n",
    "                ].S3Output.S3Uri,\n",
    "                content_type=\"text/csv\",\n",
    "            ),\n",
    "            \"validation\": TrainingInput(\n",
    "                s3_data=step_process.properties.ProcessingOutputConfig.Outputs[\n",
    "                    \"validation\"\n",
    "                ].S3Output.S3Uri,\n",
    "                content_type=\"text/csv\",\n",
    "            ),\n",
    "        },\n",
    "    )\n",
    "    step_train = TrainingStep(\n",
    "        name=\"TrainAbaloneModel\",\n",
    "        step_args=step_args,\n",
    "    )\n",
    "\n",
    "    # processing step for evaluation\n",
    "    script_eval = ScriptProcessor(\n",
    "        image_uri=image_uri,\n",
    "        command=[\"python3\"],\n",
    "        instance_type=processing_instance_type,\n",
    "        instance_count=1,\n",
    "        base_job_name=f\"{base_job_prefix}/script-abalone-eval\",\n",
    "        sagemaker_session=pipeline_session,\n",
    "        role=role,\n",
    "    )\n",
    "    step_args = script_eval.run(\n",
    "        inputs=[\n",
    "            ProcessingInput(\n",
    "                source=step_train.properties.ModelArtifacts.S3ModelArtifacts,\n",
    "                destination=\"/opt/ml/processing/model\",\n",
    "            ),\n",
    "            ProcessingInput(\n",
    "                source=step_process.properties.ProcessingOutputConfig.Outputs[\n",
    "                    \"test\"\n",
    "                ].S3Output.S3Uri,\n",
    "                destination=\"/opt/ml/processing/test\",\n",
    "            ),\n",
    "        ],\n",
    "        outputs=[\n",
    "            ProcessingOutput(output_name=\"evaluation\", source=\"/opt/ml/processing/evaluation\"),\n",
    "        ],\n",
    "        code=os.path.join(BASE_DIR, \"evaluate.py\"),\n",
    "    )\n",
    "    evaluation_report = PropertyFile(\n",
    "        name=\"AbaloneEvaluationReport\",\n",
    "        output_name=\"evaluation\",\n",
    "        path=\"evaluation.json\",\n",
    "    )\n",
    "    step_eval = ProcessingStep(\n",
    "        name=\"EvaluateAbaloneModel\",\n",
    "        step_args=step_args,\n",
    "        property_files=[evaluation_report],\n",
    "    )\n",
    "\n",
    "    # register model step that will be conditionally executed\n",
    "    model_metrics = ModelMetrics(\n",
    "        model_statistics=MetricsSource(\n",
    "            s3_uri=\"{}/evaluation.json\".format(\n",
    "                step_eval.arguments[\"ProcessingOutputConfig\"][\"Outputs\"][0][\"S3Output\"][\"S3Uri\"]\n",
    "            ),\n",
    "            content_type=\"application/json\"\n",
    "        )\n",
    "    )\n",
    "    model = Model(\n",
    "        image_uri=image_uri,\n",
    "        model_data=step_train.properties.ModelArtifacts.S3ModelArtifacts,\n",
    "        sagemaker_session=pipeline_session,\n",
    "        role=role,\n",
    "    )\n",
    "    step_args = model.register(\n",
    "        content_types=[\"text/csv\"],\n",
    "        response_types=[\"text/csv\"],\n",
    "        inference_instances=[\"ml.t2.medium\", \"ml.m5.large\"],\n",
    "        transform_instances=[\"ml.m5.large\"],\n",
    "        model_package_group_name=model_package_group_name,\n",
    "        approval_status=model_approval_status,\n",
    "        model_metrics=model_metrics,\n",
    "    )\n",
    "    step_register = ModelStep(\n",
    "        name=\"RegisterAbaloneModel\",\n",
    "        step_args=step_args,\n",
    "    )\n",
    "\n",
    "    # condition step for evaluating model quality and branching execution\n",
    "    cond_lte = ConditionLessThanOrEqualTo(\n",
    "        left=JsonGet(\n",
    "            step_name=step_eval.name,\n",
    "            property_file=evaluation_report,\n",
    "            json_path=\"regression_metrics.mse.value\"\n",
    "        ),\n",
    "        right=6.0,\n",
    "    )\n",
    "    step_cond = ConditionStep(\n",
    "        name=\"CheckMSEAbaloneEvaluation\",\n",
    "        conditions=[cond_lte],\n",
    "        if_steps=[step_register],\n",
    "        else_steps=[],\n",
    "    )\n",
    "\n",
    "    # pipeline instance\n",
    "    pipeline = Pipeline(\n",
    "        name=pipeline_name,\n",
    "        parameters=[\n",
    "            processing_instance_type,\n",
    "            processing_instance_count,\n",
    "            training_instance_type,\n",
    "            model_approval_status,\n",
    "            input_data,\n",
    "        ],\n",
    "        steps=[step_process, step_train, step_eval, step_cond],\n",
    "        sagemaker_session=pipeline_session,\n",
    "    )\n",
    "    return pipeline"
   ]
  },
  {
   "cell_type": "markdown",
   "id": "7b4d8edc-25aa-4984-9cf7-1ebf18eae9c5",
   "metadata": {},
   "source": [
    "### Get the pipeline instance\n",
    "\n",
    "여기서 pipeline 모듈에서 pipeline 인스턴스를 가져와서 작업할 수 있습니다."
   ]
  },
  {
   "cell_type": "code",
   "execution_count": 46,
   "id": "46aada6b-d592-4638-80bc-babd356e3d6b",
   "metadata": {},
   "outputs": [],
   "source": [
    "region = boto3.Session().region_name\n",
    "role = sagemaker.get_execution_role()\n",
    "default_bucket = sagemaker.session.Session().default_bucket()\n",
    "\n",
    "# Change these to reflect your project/business name or if you want to separate ModelPackageGroup/Pipeline from the rest of your team\n",
    "model_package_group_name = f\"AbaloneModelPackageGroup-Example\"\n",
    "pipeline_name = f\"AbalonePipeline-Example\""
   ]
  },
  {
   "cell_type": "code",
   "execution_count": 47,
   "id": "46743131-433d-4a6d-87b3-24848dba4a32",
   "metadata": {},
   "outputs": [
    {
     "name": "stderr",
     "output_type": "stream",
     "text": [
      "INFO:sagemaker.image_uris:Defaulting to only available Python version: py3\n",
      "/opt/conda/lib/python3.10/site-packages/sagemaker/workflow/pipeline_context.py:332: UserWarning: Running within a PipelineSession, there will be No Wait, No Logs, and No Job being started.\n",
      "  warnings.warn(\n",
      "WARNING:sagemaker.workflow.utilities:Popping out 'ProcessingJobName' from the pipeline definition by default since it will be overridden at pipeline execution time. Please utilize the PipelineDefinitionConfig to persist this field in the pipeline definition if desired.\n"
     ]
    }
   ],
   "source": [
    "pipeline = get_pipeline(\n",
    "    region=region,\n",
    "    role=role,\n",
    "    default_bucket=default_bucket,\n",
    "    model_package_group_name=model_package_group_name,\n",
    "    pipeline_name=pipeline_name,\n",
    ")"
   ]
  },
  {
   "cell_type": "markdown",
   "id": "a123368c-3e89-48e6-b573-039e2c4a33c4",
   "metadata": {},
   "source": [
    "### Submit the pipeline to SageMaker and start execution\n",
    "\n",
    "workflow 서비스에 pipeline 정의를 제출해 보겠습니다. 전달된 role은 workflow 서비스에서 단계에 정의된 모든 작업을 만드는 데 사용됩니다."
   ]
  },
  {
   "cell_type": "code",
   "execution_count": 48,
   "id": "6119d5dc-fd7e-48b1-8ab1-4672f502e0ac",
   "metadata": {},
   "outputs": [
    {
     "name": "stderr",
     "output_type": "stream",
     "text": [
      "WARNING:sagemaker.workflow.utilities:Popping out 'ProcessingJobName' from the pipeline definition by default since it will be overridden at pipeline execution time. Please utilize the PipelineDefinitionConfig to persist this field in the pipeline definition if desired.\n",
      "WARNING:sagemaker.workflow.utilities:Popping out 'TrainingJobName' from the pipeline definition by default since it will be overridden at pipeline execution time. Please utilize the PipelineDefinitionConfig to persist this field in the pipeline definition if desired.\n",
      "WARNING:sagemaker.workflow.utilities:Popping out 'ProcessingJobName' from the pipeline definition by default since it will be overridden at pipeline execution time. Please utilize the PipelineDefinitionConfig to persist this field in the pipeline definition if desired.\n",
      "WARNING:sagemaker.workflow._utils:Popping out 'CertifyForMarketplace' from the pipeline definition since it will be overridden in pipeline execution time.\n",
      "WARNING:sagemaker.workflow.utilities:Popping out 'ModelPackageName' from the pipeline definition by default since it will be overridden at pipeline execution time. Please utilize the PipelineDefinitionConfig to persist this field in the pipeline definition if desired.\n",
      "WARNING:sagemaker.workflow.utilities:Popping out 'ProcessingJobName' from the pipeline definition by default since it will be overridden at pipeline execution time. Please utilize the PipelineDefinitionConfig to persist this field in the pipeline definition if desired.\n",
      "WARNING:sagemaker.workflow.utilities:Popping out 'TrainingJobName' from the pipeline definition by default since it will be overridden at pipeline execution time. Please utilize the PipelineDefinitionConfig to persist this field in the pipeline definition if desired.\n",
      "WARNING:sagemaker.workflow.utilities:Popping out 'ProcessingJobName' from the pipeline definition by default since it will be overridden at pipeline execution time. Please utilize the PipelineDefinitionConfig to persist this field in the pipeline definition if desired.\n",
      "WARNING:sagemaker.workflow.utilities:Popping out 'ModelPackageName' from the pipeline definition by default since it will be overridden at pipeline execution time. Please utilize the PipelineDefinitionConfig to persist this field in the pipeline definition if desired.\n"
     ]
    },
    {
     "data": {
      "text/plain": [
       "{'PipelineArn': 'arn:aws:sagemaker:us-west-2:283963181880:pipeline/AbalonePipeline-Example',\n",
       " 'ResponseMetadata': {'RequestId': 'acd61f6f-0e2b-4e1d-8a04-eb723b3ea12a',\n",
       "  'HTTPStatusCode': 200,\n",
       "  'HTTPHeaders': {'x-amzn-requestid': 'acd61f6f-0e2b-4e1d-8a04-eb723b3ea12a',\n",
       "   'content-type': 'application/x-amz-json-1.1',\n",
       "   'content-length': '91',\n",
       "   'date': 'Wed, 11 Sep 2024 03:22:55 GMT'},\n",
       "  'RetryAttempts': 0}}"
      ]
     },
     "execution_count": 48,
     "metadata": {},
     "output_type": "execute_result"
    }
   ],
   "source": [
    "pipeline.upsert(role_arn=role)"
   ]
  },
  {
   "cell_type": "markdown",
   "id": "7d90f655-a10c-4151-9394-e524ebf2ddad",
   "metadata": {},
   "source": [
    "모든 기본 parameters를 수락하여 pipeline을 시작합니다.\n",
    "pipeline을 시작할 때 이러한 pipeline parameters에 값을 전달할 수도 있으며, 이에 대해서는 나중에 다룰 예정입니다. "
   ]
  },
  {
   "cell_type": "code",
   "execution_count": 49,
   "id": "196d7b1c-cdec-41db-93eb-913334372a24",
   "metadata": {},
   "outputs": [],
   "source": [
    "execution = pipeline.start()"
   ]
  },
  {
   "cell_type": "markdown",
   "id": "96fc1e48-d696-4e64-8606-4398f1e0db67",
   "metadata": {},
   "source": [
    "### Pipeline Operations: examining and waiting for pipeline execution\n",
    "\n",
    "이제 실행 인스턴스를 설명하고 실행 단계를 나열하여 실행에 대해 자세히 알아보세요."
   ]
  },
  {
   "cell_type": "code",
   "execution_count": 50,
   "id": "2c24f8ee-9407-4fb3-8a06-ac579ee540a2",
   "metadata": {},
   "outputs": [
    {
     "data": {
      "text/plain": [
       "{'PipelineArn': 'arn:aws:sagemaker:us-west-2:283963181880:pipeline/AbalonePipeline-Example',\n",
       " 'PipelineExecutionArn': 'arn:aws:sagemaker:us-west-2:283963181880:pipeline/AbalonePipeline-Example/execution/87hgr1yb338x',\n",
       " 'PipelineExecutionDisplayName': 'execution-1726024978490',\n",
       " 'PipelineExecutionStatus': 'Executing',\n",
       " 'PipelineExperimentConfig': {'ExperimentName': 'abalonepipeline-example',\n",
       "  'TrialName': '87hgr1yb338x'},\n",
       " 'CreationTime': datetime.datetime(2024, 9, 11, 3, 22, 58, 418000, tzinfo=tzlocal()),\n",
       " 'LastModifiedTime': datetime.datetime(2024, 9, 11, 3, 22, 58, 418000, tzinfo=tzlocal()),\n",
       " 'CreatedBy': {'UserProfileArn': 'arn:aws:sagemaker:us-west-2:283963181880:user-profile/d-c3uxums6sl0n/SageMakerUser',\n",
       "  'UserProfileName': 'SageMakerUser',\n",
       "  'DomainId': 'd-c3uxums6sl0n',\n",
       "  'IamIdentity': {'Arn': 'arn:aws:sts::283963181880:assumed-role/sagemaker-immersion-day-SageMakerExecutionRole-C2pcH34njvfb/SageMaker',\n",
       "   'PrincipalId': 'AROAUEHMGJM4MDKPAODPB:SageMaker'}},\n",
       " 'LastModifiedBy': {'UserProfileArn': 'arn:aws:sagemaker:us-west-2:283963181880:user-profile/d-c3uxums6sl0n/SageMakerUser',\n",
       "  'UserProfileName': 'SageMakerUser',\n",
       "  'DomainId': 'd-c3uxums6sl0n',\n",
       "  'IamIdentity': {'Arn': 'arn:aws:sts::283963181880:assumed-role/sagemaker-immersion-day-SageMakerExecutionRole-C2pcH34njvfb/SageMaker',\n",
       "   'PrincipalId': 'AROAUEHMGJM4MDKPAODPB:SageMaker'}},\n",
       " 'ResponseMetadata': {'RequestId': 'a619628d-4083-4215-a2c6-722a1900210d',\n",
       "  'HTTPStatusCode': 200,\n",
       "  'HTTPHeaders': {'x-amzn-requestid': 'a619628d-4083-4215-a2c6-722a1900210d',\n",
       "   'content-type': 'application/x-amz-json-1.1',\n",
       "   'content-length': '1198',\n",
       "   'date': 'Wed, 11 Sep 2024 03:22:59 GMT'},\n",
       "  'RetryAttempts': 0}}"
      ]
     },
     "execution_count": 50,
     "metadata": {},
     "output_type": "execute_result"
    }
   ],
   "source": [
    "execution.describe()"
   ]
  },
  {
   "cell_type": "markdown",
   "id": "9713ab5c-6c85-4e09-a949-9123ddc8a107",
   "metadata": {},
   "source": [
    "실행 시 `wait()`을 호출하여 실행을 기다릴 수 있습니다:"
   ]
  },
  {
   "cell_type": "code",
   "execution_count": 51,
   "id": "d14256f6-af5d-4d40-9d0b-3d33fd58de1c",
   "metadata": {},
   "outputs": [
    {
     "ename": "KeyboardInterrupt",
     "evalue": "",
     "output_type": "error",
     "traceback": [
      "\u001b[0;31m---------------------------------------------------------------------------\u001b[0m",
      "\u001b[0;31mKeyboardInterrupt\u001b[0m                         Traceback (most recent call last)",
      "Cell \u001b[0;32mIn[51], line 1\u001b[0m\n\u001b[0;32m----> 1\u001b[0m \u001b[43mexecution\u001b[49m\u001b[38;5;241;43m.\u001b[39;49m\u001b[43mwait\u001b[49m\u001b[43m(\u001b[49m\u001b[43m)\u001b[49m\n",
      "File \u001b[0;32m/opt/conda/lib/python3.10/site-packages/sagemaker/workflow/pipeline.py:934\u001b[0m, in \u001b[0;36m_PipelineExecution.wait\u001b[0;34m(self, delay, max_attempts)\u001b[0m\n\u001b[1;32m    905\u001b[0m model \u001b[38;5;241m=\u001b[39m botocore\u001b[38;5;241m.\u001b[39mwaiter\u001b[38;5;241m.\u001b[39mWaiterModel(\n\u001b[1;32m    906\u001b[0m     {\n\u001b[1;32m    907\u001b[0m         \u001b[38;5;124m\"\u001b[39m\u001b[38;5;124mversion\u001b[39m\u001b[38;5;124m\"\u001b[39m: \u001b[38;5;241m2\u001b[39m,\n\u001b[0;32m   (...)\u001b[0m\n\u001b[1;32m    929\u001b[0m     }\n\u001b[1;32m    930\u001b[0m )\n\u001b[1;32m    931\u001b[0m waiter \u001b[38;5;241m=\u001b[39m botocore\u001b[38;5;241m.\u001b[39mwaiter\u001b[38;5;241m.\u001b[39mcreate_waiter_with_client(\n\u001b[1;32m    932\u001b[0m     waiter_id, model, \u001b[38;5;28mself\u001b[39m\u001b[38;5;241m.\u001b[39msagemaker_session\u001b[38;5;241m.\u001b[39msagemaker_client\n\u001b[1;32m    933\u001b[0m )\n\u001b[0;32m--> 934\u001b[0m \u001b[43mwaiter\u001b[49m\u001b[38;5;241;43m.\u001b[39;49m\u001b[43mwait\u001b[49m\u001b[43m(\u001b[49m\u001b[43mPipelineExecutionArn\u001b[49m\u001b[38;5;241;43m=\u001b[39;49m\u001b[38;5;28;43mself\u001b[39;49m\u001b[38;5;241;43m.\u001b[39;49m\u001b[43marn\u001b[49m\u001b[43m)\u001b[49m\n",
      "File \u001b[0;32m/opt/conda/lib/python3.10/site-packages/botocore/waiter.py:55\u001b[0m, in \u001b[0;36mcreate_waiter_with_client.<locals>.wait\u001b[0;34m(self, **kwargs)\u001b[0m\n\u001b[1;32m     54\u001b[0m \u001b[38;5;28;01mdef\u001b[39;00m \u001b[38;5;21mwait\u001b[39m(\u001b[38;5;28mself\u001b[39m, \u001b[38;5;241m*\u001b[39m\u001b[38;5;241m*\u001b[39mkwargs):\n\u001b[0;32m---> 55\u001b[0m     \u001b[43mWaiter\u001b[49m\u001b[38;5;241;43m.\u001b[39;49m\u001b[43mwait\u001b[49m\u001b[43m(\u001b[49m\u001b[38;5;28;43mself\u001b[39;49m\u001b[43m,\u001b[49m\u001b[43m \u001b[49m\u001b[38;5;241;43m*\u001b[39;49m\u001b[38;5;241;43m*\u001b[39;49m\u001b[43mkwargs\u001b[49m\u001b[43m)\u001b[49m\n",
      "File \u001b[0;32m/opt/conda/lib/python3.10/site-packages/botocore/waiter.py:393\u001b[0m, in \u001b[0;36mWaiter.wait\u001b[0;34m(self, **kwargs)\u001b[0m\n\u001b[1;32m    384\u001b[0m         reason \u001b[38;5;241m=\u001b[39m (\n\u001b[1;32m    385\u001b[0m             \u001b[38;5;124m'\u001b[39m\u001b[38;5;124mMax attempts exceeded. Previously accepted state: \u001b[39m\u001b[38;5;132;01m%s\u001b[39;00m\u001b[38;5;124m'\u001b[39m\n\u001b[1;32m    386\u001b[0m             \u001b[38;5;241m%\u001b[39m (acceptor\u001b[38;5;241m.\u001b[39mexplanation)\n\u001b[1;32m    387\u001b[0m         )\n\u001b[1;32m    388\u001b[0m     \u001b[38;5;28;01mraise\u001b[39;00m WaiterError(\n\u001b[1;32m    389\u001b[0m         name\u001b[38;5;241m=\u001b[39m\u001b[38;5;28mself\u001b[39m\u001b[38;5;241m.\u001b[39mname,\n\u001b[1;32m    390\u001b[0m         reason\u001b[38;5;241m=\u001b[39mreason,\n\u001b[1;32m    391\u001b[0m         last_response\u001b[38;5;241m=\u001b[39mresponse,\n\u001b[1;32m    392\u001b[0m     )\n\u001b[0;32m--> 393\u001b[0m \u001b[43mtime\u001b[49m\u001b[38;5;241;43m.\u001b[39;49m\u001b[43msleep\u001b[49m\u001b[43m(\u001b[49m\u001b[43msleep_amount\u001b[49m\u001b[43m)\u001b[49m\n",
      "\u001b[0;31mKeyboardInterrupt\u001b[0m: "
     ]
    }
   ],
   "source": [
    "execution.wait()"
   ]
  },
  {
   "cell_type": "markdown",
   "id": "887c514e-036e-4b1c-9146-4f4a2ba9136d",
   "metadata": {},
   "source": [
    "실행 단계를 나열하여 상태와 아티팩트를 확인할 수 있습니다:"
   ]
  },
  {
   "cell_type": "code",
   "execution_count": 54,
   "id": "16289a11-7662-436e-bc3b-bbdc6d734583",
   "metadata": {},
   "outputs": [
    {
     "data": {
      "text/plain": [
       "[{'StepName': 'RegisterAbaloneModel-RegisterModel',\n",
       "  'StartTime': datetime.datetime(2024, 9, 11, 3, 30, 25, 545000, tzinfo=tzlocal()),\n",
       "  'EndTime': datetime.datetime(2024, 9, 11, 3, 30, 26, 411000, tzinfo=tzlocal()),\n",
       "  'StepStatus': 'Succeeded',\n",
       "  'Metadata': {'RegisterModel': {'Arn': 'arn:aws:sagemaker:us-west-2:283963181880:model-package/AbaloneModelPackageGroup-Example/2'}},\n",
       "  'AttemptCount': 1},\n",
       " {'StepName': 'CheckMSEAbaloneEvaluation',\n",
       "  'StartTime': datetime.datetime(2024, 9, 11, 3, 30, 24, 793000, tzinfo=tzlocal()),\n",
       "  'EndTime': datetime.datetime(2024, 9, 11, 3, 30, 25, 47000, tzinfo=tzlocal()),\n",
       "  'StepStatus': 'Succeeded',\n",
       "  'Metadata': {'Condition': {'Outcome': 'True'}},\n",
       "  'AttemptCount': 1},\n",
       " {'StepName': 'EvaluateAbaloneModel',\n",
       "  'StartTime': datetime.datetime(2024, 9, 11, 3, 27, 51, 178000, tzinfo=tzlocal()),\n",
       "  'EndTime': datetime.datetime(2024, 9, 11, 3, 30, 23, 750000, tzinfo=tzlocal()),\n",
       "  'StepStatus': 'Succeeded',\n",
       "  'Metadata': {'ProcessingJob': {'Arn': 'arn:aws:sagemaker:us-west-2:283963181880:processing-job/pipelines-87hgr1yb338x-EvaluateAbaloneModel-G3rcZC5q9x'}},\n",
       "  'AttemptCount': 1},\n",
       " {'StepName': 'TrainAbaloneModel',\n",
       "  'StartTime': datetime.datetime(2024, 9, 11, 3, 25, 33, 692000, tzinfo=tzlocal()),\n",
       "  'EndTime': datetime.datetime(2024, 9, 11, 3, 27, 50, 528000, tzinfo=tzlocal()),\n",
       "  'StepStatus': 'Succeeded',\n",
       "  'Metadata': {'TrainingJob': {'Arn': 'arn:aws:sagemaker:us-west-2:283963181880:training-job/pipelines-87hgr1yb338x-TrainAbaloneModel-4ZHkHdUA9N'}},\n",
       "  'AttemptCount': 1},\n",
       " {'StepName': 'PreprocessAbaloneData',\n",
       "  'StartTime': datetime.datetime(2024, 9, 11, 3, 22, 59, 687000, tzinfo=tzlocal()),\n",
       "  'EndTime': datetime.datetime(2024, 9, 11, 3, 25, 33, 138000, tzinfo=tzlocal()),\n",
       "  'StepStatus': 'Succeeded',\n",
       "  'Metadata': {'ProcessingJob': {'Arn': 'arn:aws:sagemaker:us-west-2:283963181880:processing-job/pipelines-87hgr1yb338x-PreprocessAbaloneDat-TD6tOgsWWh'}},\n",
       "  'AttemptCount': 1}]"
      ]
     },
     "execution_count": 54,
     "metadata": {},
     "output_type": "execute_result"
    }
   ],
   "source": [
    "execution.list_steps()"
   ]
  },
  {
   "cell_type": "markdown",
   "id": "fa1bb32c-45b1-49a0-9c3b-0111fd9ed808",
   "metadata": {},
   "source": [
    "### Parameterized Executions\n",
    "\n",
    "다른 파이프라인 매개변수를 지정하여 파이프라인의 추가 실행을 실행할 수 있습니다. 매개변수 인수는 이름이 매개변수 이름이고 값이 기본값의 오버라이드로 사용할 기본값인 dictionary입니다.\n",
    "\n",
    "특히 모델의 성능에 따라 다른 파이프라인 실행을 시작하되 이번에는 컴퓨팅에 최적화된 인스턴스 유형에서 시작하고 모델 승인 상태를 자동으로 “Approved”으로 설정할 수 있습니다. 즉, `RegisterModel` 단계에서 생성된 모델 패키지 버전은 자동으로 CI/CD 파이프라인을 통해 배포할 수 있는 준비가 완료됩니다(예: SageMaker Projects)."
   ]
  },
  {
   "cell_type": "code",
   "execution_count": null,
   "id": "19489461-8722-4f46-8bcd-a009d6a8e61c",
   "metadata": {},
   "outputs": [],
   "source": [
    "# execution = pipeline.start(\n",
    "#     parameters=dict(\n",
    "#         ProcessingInstanceType=\"ml.c5.xlarge\",\n",
    "#         ModelApprovalStatus=\"Approved\",\n",
    "#     )\n",
    "# )"
   ]
  },
  {
   "cell_type": "code",
   "execution_count": null,
   "id": "d2026101-ac31-4b00-acd8-9fd0e3c5c0ea",
   "metadata": {},
   "outputs": [],
   "source": [
    "# execution.wait()"
   ]
  },
  {
   "cell_type": "code",
   "execution_count": null,
   "id": "13aae5ac-04e7-41c1-a507-2810be87930b",
   "metadata": {},
   "outputs": [],
   "source": [
    "# execution.list_steps()"
   ]
  },
  {
   "cell_type": "code",
   "execution_count": null,
   "id": "24c4dd0e-d167-449c-bb9b-c4f8e36e6145",
   "metadata": {},
   "outputs": [],
   "source": []
  },
  {
   "cell_type": "code",
   "execution_count": null,
   "id": "9f61a94c-ab4c-4419-a4fc-96db90d3bc95",
   "metadata": {},
   "outputs": [],
   "source": []
  },
  {
   "cell_type": "markdown",
   "id": "795c7121-0aa2-4920-9ed6-cdf08223389f",
   "metadata": {},
   "source": [
    "## TEST"
   ]
  },
  {
   "cell_type": "code",
   "execution_count": 73,
   "id": "82c4a5f3-266f-479a-8a53-d41fe3f2f7ea",
   "metadata": {},
   "outputs": [],
   "source": [
    "import json\n",
    "import pandas as pd"
   ]
  },
  {
   "cell_type": "code",
   "execution_count": 74,
   "id": "2fc61669-d798-4204-9a07-c797bd2b9eb7",
   "metadata": {},
   "outputs": [],
   "source": [
    "sagemaker_client = boto3.client('sagemaker')"
   ]
  },
  {
   "cell_type": "code",
   "execution_count": 75,
   "id": "9c1730b2-10da-4de0-a497-bac7309ee733",
   "metadata": {},
   "outputs": [],
   "source": [
    "response = sagemaker_client.list_endpoints(StatusEquals='InService')"
   ]
  },
  {
   "cell_type": "code",
   "execution_count": 76,
   "id": "725b1a3f-1d0b-4eec-a793-d8d049771dca",
   "metadata": {},
   "outputs": [
    {
     "name": "stdout",
     "output_type": "stream",
     "text": [
      "endpoint_name : modelpackagegroup-240911-staging\n"
     ]
    }
   ],
   "source": [
    "for endpoint_name in response['Endpoints']:\n",
    "    print(f\"endpoint_name : {endpoint_name['EndpointName']}\")\n",
    "    endpoint_name = endpoint_name['EndpointName']"
   ]
  },
  {
   "cell_type": "code",
   "execution_count": 94,
   "id": "4dc8431c-3a81-4358-add4-f29352ed0f0e",
   "metadata": {},
   "outputs": [
    {
     "name": "stdout",
     "output_type": "stream",
     "text": [
      "Overwriting test.csv\n"
     ]
    }
   ],
   "source": [
    "%%writefile test.csv\n",
    "5.0,-2.6981682974308594,-2.6996542509753234,-2.0208574277242835,-1.6187907159862003,-1.5539024835643052,-1.5747429841474172,-1.644065138582414,0.0,0.0,1.0\n",
    "10.0,-0.7827552080726535,-0.5833158241356144,-0.7057616663526005,-0.8621579121407661,-0.8645157253893376,-0.9086914468217306,-0.7459863444891941,0.0,0.0,1.0\n",
    "15.0,0.6746243164390247,0.6260204197727908,0.9679965753931773,0.6358118841516099,0.07268980206421295,0.9115452887464132,1.050171243697246,0.0,0.0,1.0\n",
    "13.0,0.34150899655064076,0.27329734863283944,1.087550735517876,0.3115406825035666,-0.13682970287131657,-0.4068717954119667,1.0860943954609747,0.0,0.0,1.0"
   ]
  },
  {
   "cell_type": "code",
   "execution_count": 97,
   "id": "4b2b6c7e-f7df-40f2-9d69-a9d44cdb4003",
   "metadata": {},
   "outputs": [],
   "source": [
    "test_path = \"test.csv\"\n",
    "test_df = pd.read_csv(test_path, header=None)\n",
    "y_test = test_df.iloc[:, 0].to_numpy()\n",
    "test_df.drop(test_df.columns[0], axis=1, inplace=True)"
   ]
  },
  {
   "cell_type": "code",
   "execution_count": 107,
   "id": "93a23de6-45ba-4a7e-aefa-d55646711c26",
   "metadata": {},
   "outputs": [],
   "source": [
    "num = 4"
   ]
  },
  {
   "cell_type": "code",
   "execution_count": 108,
   "id": "6d5d7d92-320f-4c18-90bf-28763d30d464",
   "metadata": {},
   "outputs": [
    {
     "name": "stdout",
     "output_type": "stream",
     "text": [
      "Ground_truth : 13.0 , Predict_value : 14.752860069274902\n"
     ]
    }
   ],
   "source": [
    "import io\n",
    "from io import StringIO\n",
    "csv_file = io.StringIO()\n",
    "test_df[num-1:num].to_csv(csv_file, sep=\",\", header=False, index=False)\n",
    "payload = csv_file.getvalue()\n",
    "\n",
    "response = runtime_client.invoke_endpoint(\n",
    "    EndpointName=endpoint_name, \n",
    "    ContentType='text/csv',\n",
    "    Accept='application/json',\n",
    "    Body=payload\n",
    ")\n",
    "\n",
    "predict_value = json.loads(response['Body'].read().decode())\n",
    "print(f\"Ground_truth : {y_test[num-1]} , Predict_value : {predict_value}\")"
   ]
  },
  {
   "cell_type": "code",
   "execution_count": null,
   "id": "be8e54bc-0658-4a6d-9bf4-dc598ee548e9",
   "metadata": {},
   "outputs": [],
   "source": []
  }
 ],
 "metadata": {
  "kernelspec": {
   "display_name": "Python 3 (ipykernel)",
   "language": "python",
   "name": "python3"
  },
  "language_info": {
   "codemirror_mode": {
    "name": "ipython",
    "version": 3
   },
   "file_extension": ".py",
   "mimetype": "text/x-python",
   "name": "python",
   "nbconvert_exporter": "python",
   "pygments_lexer": "ipython3",
   "version": "3.10.14"
  }
 },
 "nbformat": 4,
 "nbformat_minor": 5
}
